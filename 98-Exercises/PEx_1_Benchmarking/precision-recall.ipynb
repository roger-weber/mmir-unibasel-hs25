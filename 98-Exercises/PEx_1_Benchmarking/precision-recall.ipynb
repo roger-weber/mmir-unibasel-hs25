{
 "cells": [
  {
   "cell_type": "code",
   "execution_count": 6,
   "id": "1c9ac6b4",
   "metadata": {},
   "outputs": [
    {
     "name": "stdout",
     "output_type": "stream",
     "text": [
      "Note: you may need to restart the kernel to use updated packages.\n",
      "Note: you may need to restart the kernel to use updated packages.\n"
     ]
    }
   ],
   "source": [
    "%pip install --quiet --upgrade pip\n",
    "%pip install --quiet -U -r requirements.txt"
   ]
  },
  {
   "cell_type": "code",
   "execution_count": 7,
   "id": "3c9a3f90",
   "metadata": {},
   "outputs": [
    {
     "name": "stdout",
     "output_type": "stream",
     "text": [
      "The autoreload extension is already loaded. To reload it, use:\n",
      "  %reload_ext autoreload\n"
     ]
    }
   ],
   "source": [
    "%load_ext autoreload\n",
    "%autoreload 2"
   ]
  },
  {
   "cell_type": "markdown",
   "id": "21086319",
   "metadata": {},
   "source": [
    "--- \n",
    "\n",
    "# Prepare Collection"
   ]
  },
  {
   "cell_type": "code",
   "execution_count": 10,
   "id": "22589311",
   "metadata": {},
   "outputs": [
    {
     "data": {
      "text/markdown": [
       "### Creating Movies Collection"
      ],
      "text/plain": [
       "<IPython.core.display.Markdown object>"
      ]
     },
     "metadata": {},
     "output_type": "display_data"
    },
    {
     "data": {
      "text/markdown": [
       "- reading dataset from local cache (./data/movie_dataset.jsonl)"
      ],
      "text/plain": [
       "<IPython.core.display.Markdown object>"
      ]
     },
     "metadata": {},
     "output_type": "display_data"
    },
    {
     "data": {
      "text/markdown": [
       "- extracting 'bag of words' features"
      ],
      "text/plain": [
       "<IPython.core.display.Markdown object>"
      ]
     },
     "metadata": {},
     "output_type": "display_data"
    },
    {
     "data": {
      "application/vnd.jupyter.widget-view+json": {
       "model_id": "8408891c7d52468d89fab9aaec989775",
       "version_major": 2,
       "version_minor": 0
      },
      "text/plain": [
       "  0%|          | 0/3000 [00:00<?, ?it/s]"
      ]
     },
     "metadata": {},
     "output_type": "display_data"
    },
    {
     "data": {
      "text/markdown": [
       "- extracting 'set of words' features"
      ],
      "text/plain": [
       "<IPython.core.display.Markdown object>"
      ]
     },
     "metadata": {},
     "output_type": "display_data"
    },
    {
     "data": {
      "text/markdown": [
       "- building the vocabulary"
      ],
      "text/plain": [
       "<IPython.core.display.Markdown object>"
      ]
     },
     "metadata": {},
     "output_type": "display_data"
    },
    {
     "data": {
      "text/markdown": [
       "- extracting 'tfidf' features"
      ],
      "text/plain": [
       "<IPython.core.display.Markdown object>"
      ]
     },
     "metadata": {},
     "output_type": "display_data"
    },
    {
     "data": {
      "text/markdown": [
       "|token|df|idf|\n",
       "|-|-|-|\n",
       "|the|2778|0.07652113790774304|\n",
       "|alic|32|4.509860006183766|\n",
       "|reverend|16|5.173154223594031|\n",
       "|mcgovern|10|5.608472294851876|\n",
       "|acquaint|7|5.926926025970411|\n",
       "|legal|5|6.214608098422191|\n",
       "|lifelong|3|6.620073206530356|\n",
       "|jen|3|6.620073206530356|\n",
       "|bakeri|2|6.907755278982137|\n",
       "|delaney|2|6.907755278982137|\n",
       "|poncelet|1|7.313220387090301|\n",
       "|turtl|1|7.313220387090301|\n",
       "|jianxin|1|7.313220387090301|\n",
       "|velociraptor|1|7.313220387090301|\n",
       "|kurtzmann|1|7.313220387090301|\n",
       "|brea|1|7.313220387090301|\n",
       "|courtney|1|7.313220387090301|\n",
       "|nockmaar|1|7.313220387090301|\n",
       "|scalper|1|7.313220387090301|\n",
       "|mima|1|7.313220387090301|\n",
       "|footman|1|7.313220387090301|\n"
      ],
      "text/plain": [
       "<IPython.core.display.Markdown object>"
      ]
     },
     "metadata": {},
     "output_type": "display_data"
    }
   ],
   "source": [
    "import ipywidgets as widgets\n",
    "from IPython.display import display, clear_output\n",
    "from movies import MovieCollection\n",
    "from features import FeatureExtractor\n",
    "from helpers import display_vocabulary, display_md\n",
    "from tqdm.notebook import tqdm\n",
    "\n",
    "# Create widgets for form inputs\n",
    "stemming_checkbox = widgets.Checkbox(\n",
    "    value=True,\n",
    "    description='Use Stemming',\n",
    ")\n",
    "\n",
    "stopwords_checkbox = widgets.Checkbox(\n",
    "    value=False, \n",
    "    description='Remove Stopwords',\n",
    ")\n",
    "\n",
    "number_of_records = widgets.IntSlider(\n",
    "    value=3000,\n",
    "    min=1000,\n",
    "    max=50000,\n",
    "    step=1000,\n",
    "    description='Number of Records:'\n",
    ")\n",
    "\n",
    "def create_collection():\n",
    "    global collection, pipeline, features_set, vocabulary_df, vocabulary_idf, features_bag, features_tfidf\n",
    "    \n",
    "    clear_output(wait=True)\n",
    "    display_md(\"### Creating Movies Collection\")\n",
    "    collection = MovieCollection(number_of_records.value)\n",
    "    pipeline = FeatureExtractor(stemming=stemming_checkbox.value, stopwords=stopwords_checkbox.value)\n",
    "    display_md(\"- extracting 'bag of words' features\")\n",
    "    features_bag = {movie.imdb_id: pipeline.bag_of_words(movie.to_text()) for movie in tqdm(collection.movies)}\n",
    "    display_md(\"- extracting 'set of words' features\")\n",
    "    features_set = {id: set(bag_of_words.keys()) for (id, bag_of_words) in features_bag.items()}\n",
    "    display_md(\"- building the vocabulary\")\n",
    "    vocabulary_df = pipeline.df(features_set.values())\n",
    "    vocabulary_idf = pipeline.idf(features_set.values())\n",
    "    display_md(\"- extracting 'tfidf' features\")\n",
    "    features_tfidf = {id: pipeline.tfidf(bag_of_words, vocabulary_idf) for (id, bag_of_words) in features_bag.items()}\n",
    "    display_vocabulary(vocabulary_df, vocabulary_idf, n_samples=20)\n",
    "\n",
    "index_button = widgets.Button(description=\"Create Collection\", button_style='primary')\n",
    "index_button.on_click(lambda _: create_collection())\n",
    "\n",
    "# Create form container\n",
    "form = widgets.VBox([widgets.VBox([number_of_records, stemming_checkbox, stopwords_checkbox]), index_button])\n",
    "\n",
    "# Display the form\n",
    "display(form)"
   ]
  },
  {
   "cell_type": "markdown",
   "id": "de9f6780",
   "metadata": {},
   "source": [
    "---\n",
    "\n",
    "# Building the index"
   ]
  },
  {
   "cell_type": "code",
   "execution_count": 11,
   "id": "2f2060fc",
   "metadata": {},
   "outputs": [
    {
     "data": {
      "text/plain": [
       "2999"
      ]
     },
     "execution_count": 11,
     "metadata": {},
     "output_type": "execute_result"
    }
   ],
   "source": [
    "from boolean import BooleanRetriever\n",
    "\n",
    "index = BooleanRetriever(features_set)\n",
    "index.n_docs"
   ]
  },
  {
   "cell_type": "markdown",
   "id": "0fe40023",
   "metadata": {},
   "source": [
    "**Test Query**"
   ]
  },
  {
   "cell_type": "code",
   "execution_count": 12,
   "id": "70f0abd3",
   "metadata": {},
   "outputs": [
    {
     "data": {
      "text/markdown": [
       "|id|title|overview|cast\n",
       "|-|-|-|-|\n",
       "|tt0113107|**Frankie Starlight** (1995)|**Sometimes the brightest star is the one that shines within.**<br/>[Drama, Romance, War]<br/><br/>The quirky story of a young boy's adventures growing up with his stunningly beautiful mother and the two very different men who love her.|Matt Dillon as Terry Klout, Gabriel Byrne as Jack Kelly\n",
       "|tt0114663|**Three Wishes** (1995)|**If you really believe, magic will find you**<br/>[Drama, Fantasy]<br/><br/>While Jane Holman (Mastrantonio) is driving with her two sons, she accidentally runs into a drifter, Jack McCloud (Swayze), who breaks his leg. Being responsible,  Jane invites Jack, and his dog, to stay at her home until his leg has healed.  Jack struggles to adapt their lifestyle, and finds himself loved by the family. He starts teaching baseball to Tom, who misses his father, who was lost in the Korean war. Jack and Tom develop a strong bond of friendship. Meanwhile, Gunny believes that there is more to Jack and Betty Jane than meets the eye...  We learn that Jack, is Jack McCloud, a Star White Socks baseball player in 1941, who dropped out of the league, after his first season, and; \"was never heard from again\" ...  A wonderful story.  We witness magic between a boy's imagination, and Jack's dog, and are never sure if we are witnessing imagination or magic by the dog.  A story of friendship, family, and learning that life isn't always as cut and dried as we often believe.|Patrick Swayze as Jack McCloud, Jay O. Sanders as Coach Schramka, John Diehl as Leland's Dad, Diane Venora as Joyce, Colleen Camp as Neighbor's Wife\n",
       "|tt0076759|**Star Wars** (1977)|**A long time ago in a galaxy far, far away...**<br/>[Adventure, Action, Science Fiction]<br/><br/>Princess Leia is captured and held hostage by the evil Imperial forces in their effort to take over the galactic Empire. Venturesome Luke Skywalker and dashing captain Han Solo team together with the loveable robot duo R2-D2 and C-3PO to rescue the beautiful princess and restore peace and justice in the Empire.|Harrison Ford as Han Solo, Carrie Fisher as Princess Leia Organa, Kenny Baker as Artoo-Detoo (R2-D2), James Earl Jones as Voice of Darth Vader (voice), William Hootkins as Red Six (Porkins)\n",
       "|tt0082971|**Raiders of the Lost Ark** (1981)|**Indiana Jones - the new hero from the creators of JAWS and STAR WARS.**<br/>[Adventure, Action]<br/><br/>When Dr. Indiana Jones – the tweed-suited professor who just happens to be a celebrated archaeologist – is hired by the government to locate the legendary Ark of the Covenant, he finds himself up against the entire Nazi regime.|Harrison Ford as Indy, William Hootkins as Major Eaton, Alfred Molina as Satipo, Frank Welker as Special Vocal Effects (voice) (uncredited)\n",
       "|tt0119859|**Paradise Road** (1997)|[War, Drama, History]<br/><br/>Paradise Road is a 1997 film which tells the story of a group of English, American, Dutch and Australian women who are imprisoned in Sumatra during World War II. It was directed by Bruce Beresford and stars Glenn Close as beatific Adrienne Pargiter, Frances McDormand as the brash Dr. Verstak, Pauline Collins as missionary Margaret Drummond (based on missionary Margaret Dryburgh), Julianna Margulies as American socialite Topsy Merritt, Jennifer Ehle as British doyenne and model Rosemary Leighton Jones, Cate Blanchett as Australian nurse Susan McCarthy and Elizabeth Spriggs as dowager Imogene Roberts. Basing his picture on real events, Bruce Beresford tells the story of a vocal orchestra created by the women in a Japanese P.O.W. camp, a classic survivors' tale extolling women's ability to survive hardship and atrocity through perseverance, solidarity and creativity.|Glenn Close as Adrienne Pargiter, Frances McDormand as Dr. Verstak\n",
       "|tt0120915|**Star Wars: Episode I - The Phantom Menace** (1999)|**Every generation has a legend. Every journey has a first step. Every saga has a beginning.**<br/>[Adventure, Action, Science Fiction]<br/><br/>Anakin Skywalker, a young slave strong with the Force, is discovered on Tatooine. Meanwhile, the evil Sith have returned, enacting their plot for revenge against the Jedi.|Liam Neeson as Qui-Gon Jinn, Ewan McGregor as Obi Wan Kenobi, Kenny Baker as R2-D2, Frank Oz as Yoda (voice), Terence Stamp as Chacellor Valorum, Samuel L. Jackson as Mace Windu\n",
       "|tt0143924|**Promise Her Anything** (1999)|[Comedy, Drama, Fantasy]<br/><br/>A quaint small town that hasn't paid taxes since World War II draws the attention of an ambitious tax inspector in this comedy starring Billy Zane and Patrick Bergin.|Billy Zane as George Putter\n",
       "|tt0054331|**Spartacus** (1960)|**More titanic than any story ever told!**<br/>[Action, Drama, History]<br/><br/>Spartacus is a 1960 American historical drama film directed by Stanley Kubrick and based on the novel of the same name by Howard Fast about the historical life of Spartacus and the Third Servile War. The film stars Kirk Douglas as the rebellious slave Spartacus who leads a violent revolt against the decadent Roman empire. The film was awarded four Oscars and stands today as one of the greatest classics of the Sword and Sandal genre.|George Kennedy as Rebel Soldier (uncredited)\n",
       "|tt0048380|**Mister Roberts** (1955)|**All The Uproarious Fun Of the Smash Broadway Play!**<br/>[Comedy, Drama, Family, War]<br/><br/>A hilarious and heartfelt military comedy-drama co-directed by John Ford and Mervyn LeRoy, Mister Roberts stars Henry Fonda as an officer who's yearning for battle but is stuck in the backwaters of World War II on a noncommissioned Navy ship run by the bullying Capt. Morton (James Cagney). Jack Lemmon enjoys a star-making turn as the freewheeling Ensign Pulver, and William Powell stars as the ship's doctor in his last screen role.  Based on the 1946 novel with the same name, by Thomas Heggen, and the 1948 Broadway play, written by Thomas Heggen and Joshua Logan. Henry Fonda also starred in the original Broadway production. Warner Bros. didn't want Fonda to star in the film, as they thought he was too old, and had been a stage player for so long (8 years), that he no longer was box office material. However, John Ford insisted on Fonda and the company eventually agreed.|Henry Fonda as Mister Roberts, Jack Lemmon as Ens. Frank Thurlowe Pulver, Ward Bond as Chief Petty Officer Dowdy\n"
      ],
      "text/plain": [
       "<IPython.core.display.Markdown object>"
      ]
     },
     "metadata": {},
     "output_type": "display_data"
    }
   ],
   "source": [
    "query = \"star wars\"\n",
    "\n",
    "# use the following for more precision\n",
    "result = index.query_and(pipeline.set_of_words(query))\n",
    "\n",
    "collection.display_result(result)"
   ]
  },
  {
   "cell_type": "code",
   "execution_count": 13,
   "id": "dd330494",
   "metadata": {},
   "outputs": [
    {
     "name": "stdout",
     "output_type": "stream",
     "text": [
      "\n",
      "You are assessing movies. Given the query below and the results, assess which movies are relevant for the query\n",
      "\n",
      "Query: star wars\n",
      "\n",
      "Results:\n",
      "ID: tt0113107\n",
      "Title: Frankie Starlight (1995)\n",
      "Summary: Sometimes the brightest star is the one that shines within.. The quirky story of a young boy's adventures growing up with his stunningly beautiful mother and the two very different men who love her.\n",
      "Genres: [Drama, Romance, War]\n",
      "Cast: Matt Dillon as Terry Klout, Gabriel Byrne as Jack Kelly\n",
      "\n",
      "ID: tt0114663\n",
      "Title: Three Wishes (1995)\n",
      "Summary: If you really believe, magic will find you. While Jane Holman (Mastrantonio) is driving with her two sons, she accidentally runs into a drifter, Jack McCloud (Swayze), who breaks his leg. Being responsible,  Jane invites Jack, and his dog, to stay at her home until his leg has healed.  Jack struggles to adapt their lifestyle, and finds himself loved by the family. He starts teaching baseball to Tom, who misses his father, who was lost in the Korean war. Jack and Tom develop a strong bond of friendship. Meanwhile, Gunny believes that there is more to Jack and Betty Jane than meets the eye...  We learn that Jack, is Jack McCloud, a Star White Socks baseball player in 1941, who dropped out of the league, after his first season, and; \"was never heard from again\" ...  A wonderful story.  We witness magic between a boy's imagination, and Jack's dog, and are never sure if we are witnessing imagination or magic by the dog.  A story of friendship, family, and learning that life isn't always as cut and dried as we often believe.\n",
      "Genres: [Drama, Fantasy]\n",
      "Cast: Patrick Swayze as Jack McCloud, Jay O. Sanders as Coach Schramka, John Diehl as Leland's Dad, Diane Venora as Joyce, Colleen Camp as Neighbor's Wife\n",
      "\n",
      "ID: tt0076759\n",
      "Title: Star Wars (1977)\n",
      "Summary: A long time ago in a galaxy far, far away.... Princess Leia is captured and held hostage by the evil Imperial forces in their effort to take over the galactic Empire. Venturesome Luke Skywalker and dashing captain Han Solo team together with the loveable robot duo R2-D2 and C-3PO to rescue the beautiful princess and restore peace and justice in the Empire.\n",
      "Genres: [Adventure, Action, Science Fiction]\n",
      "Cast: Harrison Ford as Han Solo, Carrie Fisher as Princess Leia Organa, Kenny Baker as Artoo-Detoo (R2-D2), James Earl Jones as Voice of Darth Vader (voice), William Hootkins as Red Six (Porkins)\n",
      "\n",
      "ID: tt0082971\n",
      "Title: Raiders of the Lost Ark (1981)\n",
      "Summary: Indiana Jones - the new hero from the creators of JAWS and STAR WARS.. When Dr. Indiana Jones – the tweed-suited professor who just happens to be a celebrated archaeologist – is hired by the government to locate the legendary Ark of the Covenant, he finds himself up against the entire Nazi regime.\n",
      "Genres: [Adventure, Action]\n",
      "Cast: Harrison Ford as Indy, William Hootkins as Major Eaton, Alfred Molina as Satipo, Frank Welker as Special Vocal Effects (voice) (uncredited)\n",
      "\n",
      "ID: tt0119859\n",
      "Title: Paradise Road (1997)\n",
      "Summary: . Paradise Road is a 1997 film which tells the story of a group of English, American, Dutch and Australian women who are imprisoned in Sumatra during World War II. It was directed by Bruce Beresford and stars Glenn Close as beatific Adrienne Pargiter, Frances McDormand as the brash Dr. Verstak, Pauline Collins as missionary Margaret Drummond (based on missionary Margaret Dryburgh), Julianna Margulies as American socialite Topsy Merritt, Jennifer Ehle as British doyenne and model Rosemary Leighton Jones, Cate Blanchett as Australian nurse Susan McCarthy and Elizabeth Spriggs as dowager Imogene Roberts. Basing his picture on real events, Bruce Beresford tells the story of a vocal orchestra created by the women in a Japanese P.O.W. camp, a classic survivors' tale extolling women's ability to survive hardship and atrocity through perseverance, solidarity and creativity.\n",
      "Genres: [War, Drama, History]\n",
      "Cast: Glenn Close as Adrienne Pargiter, Frances McDormand as Dr. Verstak\n",
      "\n",
      "ID: tt0120915\n",
      "Title: Star Wars: Episode I - The Phantom Menace (1999)\n",
      "Summary: Every generation has a legend. Every journey has a first step. Every saga has a beginning.. Anakin Skywalker, a young slave strong with the Force, is discovered on Tatooine. Meanwhile, the evil Sith have returned, enacting their plot for revenge against the Jedi.\n",
      "Genres: [Adventure, Action, Science Fiction]\n",
      "Cast: Liam Neeson as Qui-Gon Jinn, Ewan McGregor as Obi Wan Kenobi, Kenny Baker as R2-D2, Frank Oz as Yoda (voice), Terence Stamp as Chacellor Valorum, Samuel L. Jackson as Mace Windu\n",
      "\n",
      "ID: tt0143924\n",
      "Title: Promise Her Anything (1999)\n",
      "Summary: . A quaint small town that hasn't paid taxes since World War II draws the attention of an ambitious tax inspector in this comedy starring Billy Zane and Patrick Bergin.\n",
      "Genres: [Comedy, Drama, Fantasy]\n",
      "Cast: Billy Zane as George Putter\n",
      "\n",
      "ID: tt0054331\n",
      "Title: Spartacus (1960)\n",
      "Summary: More titanic than any story ever told!. Spartacus is a 1960 American historical drama film directed by Stanley Kubrick and based on the novel of the same name by Howard Fast about the historical life of Spartacus and the Third Servile War. The film stars Kirk Douglas as the rebellious slave Spartacus who leads a violent revolt against the decadent Roman empire. The film was awarded four Oscars and stands today as one of the greatest classics of the Sword and Sandal genre.\n",
      "Genres: [Action, Drama, History]\n",
      "Cast: George Kennedy as Rebel Soldier (uncredited)\n",
      "\n",
      "ID: tt0048380\n",
      "Title: Mister Roberts (1955)\n",
      "Summary: All The Uproarious Fun Of the Smash Broadway Play!. A hilarious and heartfelt military comedy-drama co-directed by John Ford and Mervyn LeRoy, Mister Roberts stars Henry Fonda as an officer who's yearning for battle but is stuck in the backwaters of World War II on a noncommissioned Navy ship run by the bullying Capt. Morton (James Cagney). Jack Lemmon enjoys a star-making turn as the freewheeling Ensign Pulver, and William Powell stars as the ship's doctor in his last screen role.  Based on the 1946 novel with the same name, by Thomas Heggen, and the 1948 Broadway play, written by Thomas Heggen and Joshua Logan. Henry Fonda also starred in the original Broadway production. Warner Bros. didn't want Fonda to star in the film, as they thought he was too old, and had been a stage player for so long (8 years), that he no longer was box office material. However, John Ford insisted on Fonda and the company eventually agreed.\n",
      "Genres: [Comedy, Drama, Family, War]\n",
      "Cast: Henry Fonda as Mister Roberts, Jack Lemmon as Ens. Frank Thurlowe Pulver, Ward Bond as Chief Petty Officer Dowdy\n",
      "\n",
      "\n",
      "\n"
     ]
    }
   ],
   "source": [
    "prompt=f\"\"\"\n",
    "You are assessing movies. Given the query below and the results, assess which movies are relevant for the query\n",
    "\n",
    "Query: {query}\n",
    "\n",
    "Results:\n",
    "{collection.prompt_context(result)}\n",
    "\"\"\"\n",
    "\n",
    "print(prompt)"
   ]
  },
  {
   "cell_type": "code",
   "execution_count": 18,
   "id": "07ec1b9f",
   "metadata": {},
   "outputs": [
    {
     "name": "stdout",
     "output_type": "stream",
     "text": [
      "ID: tt0076759\n",
      "Title: Star Wars (1977)\n",
      "Summary: A long time ago in a galaxy far, far away.... Princess Leia is captured and held hostage by the evil Imperial forces in their effort to take over the galactic Empire. Venturesome Luke Skywalker and dashing captain Han Solo team together with the loveable robot duo R2-D2 and C-3PO to rescue the beautiful princess and restore peace and justice in the Empire.\n",
      "Genres: [Adventure, Action, Science Fiction]\n",
      "Cast: Harrison Ford as Han Solo, Carrie Fisher as Princess Leia Organa, Kenny Baker as Artoo-Detoo (R2-D2), James Earl Jones as Voice of Darth Vader (voice), William Hootkins as Red Six (Porkins)\n",
      "\n",
      "ID: tt0120915\n",
      "Title: Star Wars: Episode I - The Phantom Menace (1999)\n",
      "Summary: Every generation has a legend. Every journey has a first step. Every saga has a beginning.. Anakin Skywalker, a young slave strong with the Force, is discovered on Tatooine. Meanwhile, the evil Sith have returned, enacting their plot for revenge against the Jedi.\n",
      "Genres: [Adventure, Action, Science Fiction]\n",
      "Cast: Liam Neeson as Qui-Gon Jinn, Ewan McGregor as Obi Wan Kenobi, Kenny Baker as R2-D2, Frank Oz as Yoda (voice), Terence Stamp as Chacellor Valorum, Samuel L. Jackson as Mace Windu\n",
      "\n",
      "\n"
     ]
    }
   ],
   "source": [
    "print(collection.prompt_context([\"tt0076759\", \"tt0120915\"]))"
   ]
  },
  {
   "cell_type": "code",
   "execution_count": null,
   "id": "bf72eeb5",
   "metadata": {},
   "outputs": [],
   "source": []
  }
 ],
 "metadata": {
  "kernelspec": {
   "display_name": ".venv",
   "language": "python",
   "name": "python3"
  },
  "language_info": {
   "codemirror_mode": {
    "name": "ipython",
    "version": 3
   },
   "file_extension": ".py",
   "mimetype": "text/x-python",
   "name": "python",
   "nbconvert_exporter": "python",
   "pygments_lexer": "ipython3",
   "version": "3.12.3"
  }
 },
 "nbformat": 4,
 "nbformat_minor": 5
}
