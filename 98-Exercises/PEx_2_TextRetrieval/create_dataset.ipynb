{
 "cells": [
  {
   "cell_type": "code",
   "execution_count": 1,
   "id": "1c9ac6b4",
   "metadata": {},
   "outputs": [
    {
     "name": "stdout",
     "output_type": "stream",
     "text": [
      "Note: you may need to restart the kernel to use updated packages.\n",
      "Note: you may need to restart the kernel to use updated packages.\n"
     ]
    }
   ],
   "source": [
    "%pip install --quiet --upgrade pip\n",
    "%pip install --quiet -U -r requirements.txt"
   ]
  },
  {
   "cell_type": "code",
   "execution_count": 2,
   "id": "3c9a3f90",
   "metadata": {},
   "outputs": [],
   "source": [
    "%load_ext autoreload\n",
    "%autoreload 2"
   ]
  },
  {
   "cell_type": "markdown",
   "id": "21086319",
   "metadata": {},
   "source": [
    "--- \n",
    "\n",
    "# Prepare Collection"
   ]
  },
  {
   "cell_type": "code",
   "execution_count": 8,
   "id": "22589311",
   "metadata": {},
   "outputs": [
    {
     "data": {
      "text/markdown": [
       "### Creating Movies Collection"
      ],
      "text/plain": [
       "<IPython.core.display.Markdown object>"
      ]
     },
     "metadata": {},
     "output_type": "display_data"
    },
    {
     "data": {
      "text/markdown": [
       "- reading dataset from local cache (./data/movie_dataset.jsonl)"
      ],
      "text/plain": [
       "<IPython.core.display.Markdown object>"
      ]
     },
     "metadata": {},
     "output_type": "display_data"
    }
   ],
   "source": [
    "import ipywidgets as widgets\n",
    "from IPython.display import display, clear_output\n",
    "from movies import MovieCollection\n",
    "from helpers import display_md\n",
    "\n",
    "# Create widgets for form inputs\n",
    "number_of_records = widgets.IntSlider(\n",
    "    value=3000,\n",
    "    min=1000,\n",
    "    max=50000,\n",
    "    step=1000,\n",
    "    description='Count:'\n",
    ")\n",
    "\n",
    "def create_collection():\n",
    "    global collection, number_of_records\n",
    "    \n",
    "    clear_output(wait=True)\n",
    "    display_md(\"### Creating Movies Collection\")\n",
    "    collection = MovieCollection(number_of_records.value)\n",
    "\n",
    "index_button = widgets.Button(description=\"Create Collection\", button_style='primary')\n",
    "index_button.on_click(lambda _: create_collection())\n",
    "\n",
    "# Create form container\n",
    "form = widgets.VBox([widgets.VBox([number_of_records]), index_button])\n",
    "\n",
    "# Display the form\n",
    "display(form)"
   ]
  },
  {
   "cell_type": "markdown",
   "id": "ca0189a3",
   "metadata": {},
   "source": [
    "---"
   ]
  }
 ],
 "metadata": {
  "kernelspec": {
   "display_name": ".venv",
   "language": "python",
   "name": "python3"
  },
  "language_info": {
   "codemirror_mode": {
    "name": "ipython",
    "version": 3
   },
   "file_extension": ".py",
   "mimetype": "text/x-python",
   "name": "python",
   "nbconvert_exporter": "python",
   "pygments_lexer": "ipython3",
   "version": "3.12.3"
  }
 },
 "nbformat": 4,
 "nbformat_minor": 5
}
