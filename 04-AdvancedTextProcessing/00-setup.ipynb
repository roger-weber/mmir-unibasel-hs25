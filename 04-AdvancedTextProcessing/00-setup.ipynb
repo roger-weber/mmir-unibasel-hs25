{
 "cells": [
  {
   "cell_type": "code",
   "execution_count": null,
   "id": "c728699a",
   "metadata": {},
   "outputs": [],
   "source": [
    "%pip install --quiet --upgrade pip\n",
    "%pip install -q -r requirements.txt\n",
    "%pip install git+https://github.com/repodiac/german_compound_splitter"
   ]
  },
  {
   "cell_type": "code",
   "execution_count": null,
   "id": "49e66e3e",
   "metadata": {},
   "outputs": [],
   "source": [
    "!python -m spacy download en_core_web_sm\n",
    "!python -m spacy download fr_core_news_sm\n",
    "!python -m spacy download de_core_news_sm\n",
    "!python -m spacy download pl_core_news_sm\n",
    "!python -m spacy download zh_core_web_sm"
   ]
  },
  {
   "cell_type": "code",
   "execution_count": null,
   "id": "1d0bd8ba",
   "metadata": {},
   "outputs": [],
   "source": [
    "import nltk\n",
    "\n",
    "nltk.download('punkt')\n",
    "nltk.download('stopwords')\n",
    "nltk.download('wordnet')\n",
    "nltk.download('tagsets')\n",
    "nltk.download('tagsets_json')\n",
    "nltk.download('universal_tagset')\n",
    "nltk.download('averaged_perceptron_tagger')\n",
    "nltk.download('averaged_perceptron_tagger_eng')\n",
    "nltk.download('maxent_ne_chunker')\n",
    "nltk.download('maxent_ne_chunker_tab')\n",
    "nltk.download('words')"
   ]
  },
  {
   "cell_type": "code",
   "execution_count": null,
   "id": "4591a250",
   "metadata": {},
   "outputs": [],
   "source": [
    "from helpers import get_book\n",
    "book = get_book(244)"
   ]
  },
  {
   "cell_type": "code",
   "execution_count": null,
   "id": "4ba1c1e5",
   "metadata": {},
   "outputs": [],
   "source": [
    "import urllib.request\n",
    "import py7zr\n",
    "import os\n",
    "\n",
    "url = \"https://altushost-bul.dl.sourceforge.net/project/germandict/german.7z\"\n",
    "if not os.path.exists(\"german.7z\"):\n",
    "    urllib.request.urlretrieve(url, \"german.7z\")\n",
    "os.makedirs(\"data\", exist_ok=True)\n",
    "if not os.path.exists(\"data/german.dic\"):\n",
    "    with py7zr.SevenZipFile(\"german.7z\", mode=\"r\") as z:\n",
    "        z.extractall(\"data\")\n",
    "    # change encoding from latin-1 to utf-8\n",
    "    with open('data/german.dic', 'r', encoding='latin-1') as f:\n",
    "        content = f.read()\n",
    "    # write as unicode\n",
    "    with open('data/german.dic', 'w', encoding='utf-8') as f:\n",
    "        f.write(content)\n",
    "    "
   ]
  },
  {
   "cell_type": "code",
   "execution_count": 1,
   "id": "51ebadb5",
   "metadata": {},
   "outputs": [
    {
     "name": "stderr",
     "output_type": "stream",
     "text": [
      "Some weights of the model checkpoint at vblagoje/bert-english-uncased-finetuned-pos were not used when initializing BertForTokenClassification: ['bert.pooler.dense.bias', 'bert.pooler.dense.weight']\n",
      "- This IS expected if you are initializing BertForTokenClassification from the checkpoint of a model trained on another task or with another architecture (e.g. initializing a BertForSequenceClassification model from a BertForPreTraining model).\n",
      "- This IS NOT expected if you are initializing BertForTokenClassification from the checkpoint of a model that you expect to be exactly identical (initializing a BertForSequenceClassification model from a BertForSequenceClassification model).\n",
      "Device set to use cpu\n",
      "emoji is not installed, thus not converting emoticons or emojis into text. Install emoji: pip3 install emoji==0.6.0\n",
      "Device set to use cpu\n",
      "Some weights of the model checkpoint at dslim/bert-base-NER were not used when initializing BertForTokenClassification: ['bert.pooler.dense.bias', 'bert.pooler.dense.weight']\n",
      "- This IS expected if you are initializing BertForTokenClassification from the checkpoint of a model trained on another task or with another architecture (e.g. initializing a BertForSequenceClassification model from a BertForPreTraining model).\n",
      "- This IS NOT expected if you are initializing BertForTokenClassification from the checkpoint of a model that you expect to be exactly identical (initializing a BertForSequenceClassification model from a BertForSequenceClassification model).\n",
      "Device set to use cpu\n"
     ]
    },
    {
     "name": "stdout",
     "output_type": "stream",
     "text": [
      "models are ready\n"
     ]
    },
    {
     "data": {
      "text/plain": [
       "GPT2Tokenizer(name_or_path='gpt2', vocab_size=50257, model_max_length=1024, is_fast=False, padding_side='right', truncation_side='right', special_tokens={'bos_token': '<|endoftext|>', 'eos_token': '<|endoftext|>', 'unk_token': '<|endoftext|>'}, clean_up_tokenization_spaces=False, added_tokens_decoder={\n",
       "\t50256: AddedToken(\"<|endoftext|>\", rstrip=False, lstrip=False, single_word=False, normalized=True, special=True),\n",
       "}\n",
       ")"
      ]
     },
     "execution_count": 1,
     "metadata": {},
     "output_type": "execute_result"
    }
   ],
   "source": [
    "from transformers import pipeline,  GPT2Tokenizer, BertTokenizer\n",
    "\n",
    "pipeline(\"token-classification\", model=\"vblagoje/bert-english-uncased-finetuned-pos\", aggregation_strategy=\"max\")\n",
    "pipeline(\"token-classification\", model=\"TweebankNLP/bertweet-tb2_ewt-pos-tagging\", aggregation_strategy=\"simple\")\n",
    "pipeline(\"ner\", model=\"dslim/bert-base-NER\", aggregation_strategy=\"max\")\n",
    "print('models are ready')\n",
    "GPT2Tokenizer.from_pretrained(\"gpt2\")\n",
    "BertTokenizer.from_pretrained(\"bert-base-uncased\")"
   ]
  },
  {
   "cell_type": "markdown",
   "id": "78b9c43a",
   "metadata": {},
   "source": [
    "---"
   ]
  }
 ],
 "metadata": {
  "kernelspec": {
   "display_name": ".venv",
   "language": "python",
   "name": "python3"
  },
  "language_info": {
   "codemirror_mode": {
    "name": "ipython",
    "version": 3
   },
   "file_extension": ".py",
   "mimetype": "text/x-python",
   "name": "python",
   "nbconvert_exporter": "python",
   "pygments_lexer": "ipython3",
   "version": "3.12.3"
  }
 },
 "nbformat": 4,
 "nbformat_minor": 5
}
