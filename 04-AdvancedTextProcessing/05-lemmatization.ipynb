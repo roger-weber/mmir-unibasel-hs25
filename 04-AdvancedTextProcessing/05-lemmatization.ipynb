{
 "cells": [
  {
   "cell_type": "markdown",
   "metadata": {},
   "source": [
    "Run first the [setup notebook](./00-setup.ipynb)"
   ]
  },
  {
   "cell_type": "markdown",
   "metadata": {},
   "source": [
    "# Lemmatization and Linguistic Transformations"
   ]
  },
  {
   "cell_type": "code",
   "execution_count": 1,
   "metadata": {},
   "outputs": [],
   "source": [
    "# Project Gutenberg, 244: A Study in Scarlet (en), Arthur Conan Doyle\n",
    "text_en = \"\"\"\n",
    "    This was a lofty chamber, lined and littered with countless bottles.\n",
    "    Broad, low tables were scattered about, which bristled with retorts,\n",
    "    test-tubes, and little Bunsen lamps, with their blue flickering flames.\n",
    "    There was only one student in the room, who was bending over a distant\n",
    "    table absorbed in his work. At the sound of our steps he glanced round\n",
    "    and sprang to his feet with a cry of pleasure. “I’ve found it! I’ve\n",
    "    found it,” he shouted to my companion, running towards us with a\n",
    "    test-tube in his hand. “I have found a re-agent which is precipitated\n",
    "    by hæmoglobin, and by nothing else.” Had he discovered a gold mine,\n",
    "    greater delight could not have shone upon his features.\n",
    "\"\"\".strip()\n",
    "\n",
    "\n",
    "# Project Gutenberg, 34811: Buddenbrooks: Verfall einer Familie (de), Thomas Mann\n",
    "text_de = \"\"\"\n",
    "»Ich rechne«, sagte der Konsul trocken. Die Kerze flammte auf, und man\n",
    "sah, wie er gerade aufgerichtet und mit Augen, so kalt und aufmerksam,\n",
    "wie sie während des ganzen Nachmittags noch nicht darein geschaut\n",
    "hatten, fest in die tanzende Flamme blickte. -- »Einerseits: Sie geben\n",
    "33335 an Gotthold und 15000 an die in Frankfurt, und das macht 48335 in\n",
    "Summa. Andererseits: Sie geben nur 25000 an die in Frankfurt, und das\n",
    "bedeutet für die Firma einen Gewinn von 23335. Das ist aber nicht alles.\n",
    "Gesetzt, Sie leisten an Gotthold eine Entschädigungssumme für den Anteil\n",
    "am Hause, so ist das Prinzip durchbrochen, so ist er damals =nicht=\n",
    "endgültig abgefunden worden, so kann er nach Ihrem Tode ein gleich\n",
    "großes Erbe beanspruchen, wie meine Schwester und ich, und dann handelt\n",
    "es sich für die Firma um einen Verlust von Hunderttausenden, mit dem sie\n",
    "nicht rechnen kann, mit dem ich als künftiger alleiniger Inhaber nicht\n",
    "rechnen kann ... Nein, Papa!« beschloß er mit einer energischen\n",
    "Handbewegung und richtete sich noch höher auf. »Ich muß Ihnen abraten,\n",
    "nachzugeben!«\n",
    "\"\"\".strip()\n",
    "\n",
    "# Project Gutenberg, 13951: Les trois mousquetaires (fr), Alexandre Dumas\n",
    "text_fr = \"\"\"\n",
    "D’Artagnan, tout en marchant et en monologuant, était arrivé à quelques\n",
    "pas de l’hôtel d’Aiguillon, et devant cet hôtel il avait aperçu Aramis\n",
    "causant gaiement avec trois gentilshommes des gardes du roi. De son\n",
    "côté, Aramis aperçut d’Artagnan; mais comme il n’oubliait point que\n",
    "c’était devant ce jeune homme que M. de Tréville s’était si fort\n",
    "emporté le matin, et qu’un témoin des reproches que les mousquetaires\n",
    "avaient reçus ne lui était d’aucune façon agréable, il fit semblant de\n",
    "ne pas le voir. D’Artagnan, tout entier au contraire à ses plans de\n",
    "conciliation et de courtoisie, s’approcha des quatre jeunes gens en\n",
    "leur faisant un grand salut accompagné du plus gracieux sourire. Aramis\n",
    "inclina légèrement la tête, mais ne sourit point. Tous quatre, au\n",
    "reste, interrompirent à l’instant même leur conversation.\n",
    "\"\"\".strip()"
   ]
  },
  {
   "cell_type": "markdown",
   "metadata": {},
   "source": [
    "## Stemming"
   ]
  },
  {
   "cell_type": "markdown",
   "metadata": {},
   "source": [
    "### English text"
   ]
  },
  {
   "cell_type": "markdown",
   "metadata": {},
   "source": [
    "Define a few helper functions to help wordnet apply the right stemming based on POS tag on word."
   ]
  },
  {
   "cell_type": "code",
   "execution_count": 2,
   "metadata": {},
   "outputs": [],
   "source": [
    "import nltk\n",
    "from nltk.corpus import wordnet\n",
    "import spacy\n",
    "\n",
    "def get_wordnet_pos(universal_tag):\n",
    "    return {\n",
    "        'ADJ': wordnet.ADJ,\n",
    "        'NOUN': wordnet.NOUN,\n",
    "        'VERB': wordnet.VERB,\n",
    "        'ADV': wordnet.ADV\n",
    "    }.get(universal_tag, wordnet.NOUN)"
   ]
  },
  {
   "cell_type": "code",
   "execution_count": 3,
   "metadata": {},
   "outputs": [
    {
     "data": {
      "text/markdown": [
       "| term       | pos(universal)   | porter    | lancaster   | snowball   | wordnet    | spaCy     |\n",
       "|------------|------------------|-----------|-------------|------------|------------|-----------|\n",
       "| blue       | ADJ              | blue      | blu         | blue       | blue       | blue      |\n",
       "| bottles    | NOUN             | bottl     | bottl       | bottl      | bottle     | bottle    |\n",
       "| bristled   | VERB             | bristl    | bristl      | bristl     | bristle    | bristle   |\n",
       "| bunsen     | ADJ              | bunsen    | buns        | bunsen     | bunsen     | bunsen    |\n",
       "| chamber    | NOUN             | chamber   | chamb       | chamber    | chamber    | chamber   |\n",
       "| companion  | NOUN             | companion | comp        | companion  | companion  | companion |\n",
       "| cry        | NOUN             | cri       | cry         | cri        | cry        | cry       |\n",
       "| discovered | VERB             | discov    | discov      | discov     | discover   | discover  |\n",
       "| distant    | ADJ              | distant   | dist        | distant    | distant    | distant   |\n",
       "| features   | NOUN             | featur    | feat        | featur     | feature    | feature   |\n",
       "| feet       | NOUN             | feet      | feet        | feet       | foot       | foot      |\n",
       "| flames     | NOUN             | flame     | flam        | flame      | flame      | flame     |\n",
       "| flickering | NOUN             | flicker   | flick       | flicker    | flickering | flicker   |\n",
       "| found      | ADP              | found     | found       | found      | found      | find      |\n",
       "| glanced    | VERB             | glanc     | glant       | glanc      | glance     | glance    |\n",
       "| greater    | ADJ              | greater   | gre         | greater    | great      | great     |\n",
       "| had        | VERB             | had       | had         | had        | have       | have      |\n",
       "| have       | VERB             | have      | hav         | have       | have       | have      |\n",
       "| his        | PRON             | hi        | his         | his        | his        | his       |\n",
       "| i          | NOUN             | i         | i           | i          | i          | I         |\n",
       "| is         | VERB             | is        | is          | is         | be         | be        |\n",
       "| lined      | VERB             | line      | lin         | line       | line       | line      |\n",
       "| littered   | VERB             | litter    | lit         | litter     | litter     | litter    |\n",
       "| little     | ADJ              | littl     | littl       | littl      | little     | little    |\n",
       "| lofty      | ADJ              | lofti     | lofty       | lofti      | lofty      | lofty     |\n",
       "| mine       | NOUN             | mine      | min         | mine       | mine       | mine      |\n",
       "| nothing    | NOUN             | noth      | noth        | noth       | nothing    | nothing   |\n",
       "| one        | NUM              | one       | on          | one        | one        | one       |\n",
       "| only       | ADV              | onli      | on          | onli       | only       | only      |\n",
       "| over       | ADP              | over      | ov          | over       | over       | over      |"
      ],
      "text/plain": [
       "<IPython.core.display.Markdown object>"
      ]
     },
     "execution_count": 3,
     "metadata": {},
     "output_type": "execute_result"
    }
   ],
   "source": [
    "from IPython.display import Markdown\n",
    "from tabulate import tabulate\n",
    "\n",
    "tokens_tagged = nltk.pos_tag([word.lower() for word in nltk.word_tokenize(text_en) if word.isalpha()], tagset='universal')\n",
    "\n",
    "# create all stemmers\n",
    "stemmers = {\n",
    "    'porter':       (nltk.PorterStemmer(), lambda s,w,pos: s.stem(w)),\n",
    "    'lancaster':    (nltk.LancasterStemmer(), lambda s,w,pos: s.stem(w)),\n",
    "    'snowball':     (nltk.SnowballStemmer(\"english\"), lambda s,w,pos: s.stem(w)),\n",
    "    'wordnet':      (nltk.WordNetLemmatizer(), lambda s,w,pos: s.lemmatize(w, get_wordnet_pos(pos))),\n",
    "    'spaCy':        (spacy.load('en_core_web_sm'), lambda s,w,pos: s(w)[0].lemma_),\n",
    "}\n",
    "\n",
    "headers = ['term', 'pos(universal)'] + list(stemmers.keys())\n",
    "words_with_diff = set()\n",
    "rows = []\n",
    "for (word, tag) in tokens_tagged:\n",
    "    row = [word, tag]\n",
    "    for name, (stemmer, lemmatizer) in stemmers.items():\n",
    "        row.append(lemmatizer(stemmer, word, tag))\n",
    "    # only add if stemming is different, and we have not seen this word before\n",
    "    if len(set(row[2:])) > 1 and not word in words_with_diff:\n",
    "        rows.append(row)\n",
    "        words_with_diff.add(word)\n",
    "\n",
    "Markdown(tabulate(sorted(rows)[:30], headers, tablefmt='github'))"
   ]
  },
  {
   "cell_type": "markdown",
   "metadata": {},
   "source": [
    "### German text"
   ]
  },
  {
   "cell_type": "code",
   "execution_count": 4,
   "metadata": {},
   "outputs": [
    {
     "data": {
      "text/markdown": [
       "| term                | pos   | snowball           | spaCy               |\n",
       "|---------------------|-------|--------------------|---------------------|\n",
       "| abgefunden          | VERB  | abgefund           | abgefunden          |\n",
       "| abraten             | VERB  | abrat              | abraten             |\n",
       "| alleiniger          | ADJ   | allein             | alleinig            |\n",
       "| alles               | PRON  | all                | alle                |\n",
       "| am                  | ADP   | am                 | an                  |\n",
       "| Andererseits        | ADV   | andererseit        | andererseits        |\n",
       "| Anteil              | NOUN  | anteil             | Anteil              |\n",
       "| aufgerichtet        | VERB  | aufgerichtet       | aufrichten          |\n",
       "| Augen               | NOUN  | aug                | Auge                |\n",
       "| beanspruchen        | VERB  | beanspruch         | beanspruchen        |\n",
       "| bedeutet            | VERB  | bedeutet           | bedeuten            |\n",
       "| beschloß            | VERB  | beschloss          | beschließen         |\n",
       "| blickte             | VERB  | blickt             | blicken             |\n",
       "| damals              | ADV   | damal              | damals              |\n",
       "| das                 | PRON  | das                | der                 |\n",
       "| dem                 | PRON  | dem                | der                 |\n",
       "| den                 | DET   | den                | der                 |\n",
       "| des                 | DET   | des                | der                 |\n",
       "| Die                 | DET   | die                | der                 |\n",
       "| durchbrochen        | VERB  | durchbroch         | durchbrochen        |\n",
       "| Einerseits          | ADV   | einerseit          | einerseits          |\n",
       "| endgültig           | ADV   | endgult            | endgültig           |\n",
       "| energischen         | ADJ   | energ              | energisch           |\n",
       "| Entschädigungssumme | NOUN  | entschadigungssumm | Entschädigungssumme |\n",
       "| Erbe                | NOUN  | erb                | Erbe                |\n",
       "| Firma               | NOUN  | firma              | Firma               |\n",
       "| Flamme              | NOUN  | flamm              | Flamm               |\n",
       "| flammte             | VERB  | flammt             | flammen             |\n",
       "| Frankfurt           | PROPN | frankfurt          | Frankfurt           |\n",
       "| für                 | ADP   | fur                | für                 |"
      ],
      "text/plain": [
       "<IPython.core.display.Markdown object>"
      ]
     },
     "execution_count": 4,
     "metadata": {},
     "output_type": "execute_result"
    }
   ],
   "source": [
    "from IPython.display import Markdown\n",
    "from tabulate import tabulate\n",
    "\n",
    "nlp = spacy.load('de_core_news_sm')\n",
    "tokens = nlp(text_de)\n",
    "\n",
    "# create all stemmers\n",
    "stemmers = {\n",
    "    'snowball':     (nltk.SnowballStemmer(\"german\"), lambda s,w,l: s.stem(w)),\n",
    "    'spaCy':        (nlp, lambda s,w,l: l),\n",
    "}\n",
    "\n",
    "headers = ['term', 'pos'] + list(stemmers.keys())\n",
    "words_with_diff = set()\n",
    "rows = []\n",
    "for token in tokens:\n",
    "    word = token.text.lower()\n",
    "    if not word.isalpha():\n",
    "        continue\n",
    "    row = [token.text, token.pos_]\n",
    "    for name, (stemmer, lemmatizer) in stemmers.items():\n",
    "        row.append(lemmatizer(stemmer, token.text, token.lemma_))\n",
    "    # only add if stemming is different, and we have not seen this word before\n",
    "    if len(set(row[2:])) > 1 and not word in words_with_diff:\n",
    "        rows.append(row)\n",
    "        words_with_diff.add(word)\n",
    "\n",
    "Markdown(tabulate(sorted(rows, key=lambda x: x[0].lower())[:30], headers, tablefmt='github'))\n"
   ]
  },
  {
   "cell_type": "markdown",
   "metadata": {},
   "source": [
    "### French text"
   ]
  },
  {
   "cell_type": "code",
   "execution_count": 5,
   "metadata": {},
   "outputs": [
    {
     "data": {
      "text/markdown": [
       "| term          | pos   | snowball    | spaCy        |\n",
       "|---------------|-------|-------------|--------------|\n",
       "| Aiguillon     | PROPN | aiguillon   | Aiguillon    |\n",
       "| Aramis        | NOUN  | aram        | arami        |\n",
       "| Artagnan      | PROPN | artagnan    | Artagnan     |\n",
       "| Tous          | ADJ   | tous        | tout         |\n",
       "| Tréville      | PROPN | trévill     | Tréville     |\n",
       "| accompagné    | VERB  | accompagn   | accompagner  |\n",
       "| agréable      | ADJ   | agréabl     | agréable     |\n",
       "| aperçut       | VERB  | aperçut     | apercevoir   |\n",
       "| approcha      | VERB  | approch     | approcher    |\n",
       "| arrivé        | VERB  | arriv       | arriver      |\n",
       "| avaient       | AUX   | avaient     | avoir        |\n",
       "| avait         | AUX   | avait       | avoir        |\n",
       "| causant       | VERB  | caus        | causer       |\n",
       "| cet           | DET   | cet         | ce           |\n",
       "| comme         | SCONJ | comm        | comme        |\n",
       "| conciliation  | NOUN  | concili     | conciliation |\n",
       "| contraire     | NOUN  | contrair    | contraire    |\n",
       "| conversation  | NOUN  | convers     | conversation |\n",
       "| courtoisie    | NOUN  | courtois    | courtoisie   |\n",
       "| côté          | NOUN  | côt         | côté         |\n",
       "| devant        | ADP   | dev         | devant       |\n",
       "| du            | ADP   | du          | de           |\n",
       "| emporté       | VERB  | emport      | emporter     |\n",
       "| entier        | ADJ   | enti        | entier       |\n",
       "| faisant       | VERB  | fais        | faire        |\n",
       "| fit           | VERB  | fit         | faire        |\n",
       "| gaiement      | ADV   | gai         | gaiement     |\n",
       "| gardes        | NOUN  | gard        | garde        |\n",
       "| gentilshommes | NOUN  | gentilshomm | gentilhomme  |\n",
       "| homme         | NOUN  | homm        | homme        |"
      ],
      "text/plain": [
       "<IPython.core.display.Markdown object>"
      ]
     },
     "execution_count": 5,
     "metadata": {},
     "output_type": "execute_result"
    }
   ],
   "source": [
    "from IPython.display import Markdown\n",
    "from tabulate import tabulate\n",
    "\n",
    "nlp = spacy.load('fr_core_news_sm')\n",
    "tokens = nlp(text_fr)\n",
    "\n",
    "# create all stemmers\n",
    "stemmers = {\n",
    "    'snowball':     (nltk.SnowballStemmer(\"french\"), lambda s,w,l: s.stem(w)),\n",
    "    'spaCy':        (nlp, lambda s,w,l: l),\n",
    "}\n",
    "\n",
    "headers = ['term', 'pos'] + list(stemmers.keys())\n",
    "words_with_diff = set()\n",
    "rows = []\n",
    "for token in tokens:\n",
    "    word = token.text\n",
    "    if not word.isalpha():\n",
    "        continue\n",
    "    row = [word, token.pos_]\n",
    "    for name, (stemmer, lemmatizer) in stemmers.items():\n",
    "        row.append(lemmatizer(stemmer, token.text, token.lemma_))\n",
    "    # only add if stemming is different, and we have not seen this word before\n",
    "    if len(set(row[2:])) > 1 and not word in words_with_diff:\n",
    "        rows.append(row)\n",
    "        words_with_diff.add(word)\n",
    "\n",
    "Markdown(tabulate(sorted(rows)[:30], headers, tablefmt='github'))\n"
   ]
  },
  {
   "cell_type": "markdown",
   "metadata": {},
   "source": [
    "## Splitting compunds"
   ]
  },
  {
   "cell_type": "code",
   "execution_count": 6,
   "metadata": {},
   "outputs": [
    {
     "name": "stdout",
     "output_type": "stream",
     "text": [
      "Loading data file - ./data/german.dic\n",
      "Dissect compound:  Hundehalter\n",
      "SPLIT WORDS (plain): ['Hund', 'Halter']\n",
      "SPLIT WORDS (post-merge): ['Hund', 'Halter']\n",
      "\n",
      "Dissect compound:  Abwasserkanal\n",
      "SPLIT WORDS (plain): ['Abwasser', 'Kanal']\n",
      "SPLIT WORDS (post-merge): ['Abwasser', 'Kanal']\n",
      "\n",
      "Dissect compound:  Gartenhaus\n",
      "SPLIT WORDS (plain): ['Gartenhaus']\n",
      "SPLIT WORDS (post-merge): ['Gartenhaus']\n",
      "\n",
      "Dissect compound:  Tischplatte\n",
      "SPLIT WORDS (plain): ['Tischplatte']\n",
      "SPLIT WORDS (post-merge): ['Tischplatte']\n",
      "\n",
      "Dissect compound:  Kuhstall\n",
      "SPLIT WORDS (plain): ['Kuh', 'Stall']\n",
      "SPLIT WORDS (post-merge): ['Kuh', 'Stall']\n",
      "\n",
      "Dissect compound:  Donaudampfschifffahrtskapitänsmützenabzeichen\n",
      "SPLIT WORDS (plain): ['Donau', 'Dampf', 'Schifffahrt', 'Kapitän', 'Mütze', 'Abzeichen']\n",
      "SPLIT WORDS (post-merge): ['Donau', 'Dampf', 'Schifffahrt', 'Kapitän', 'Mütze', 'Abzeichen']\n",
      "\n"
     ]
    }
   ],
   "source": [
    "from german_compound_splitter import comp_split\n",
    "\n",
    "compounds = [\n",
    "    'Hundehalter',\n",
    "    'Abwasserkanal',\n",
    "    'Gartenhaus',\n",
    "    'Tischplatte',\n",
    "    'Kuhstall',\n",
    "    'Donaudampfschifffahrtskapitänsmützenabzeichen',\n",
    "]\n",
    "# please load an appropriate (external) dictionary, see the notes in section Installation/Setup on the dictionary\n",
    "input_file = './data/german.dic'\n",
    "ahocs = comp_split.read_dictionary_from_file(input_file)\n",
    "\n",
    "for compound in compounds:\n",
    "    dissection = comp_split.dissect(compound, ahocs, make_singular=True)\n",
    "    print(f'SPLIT WORDS (plain): {dissection}')\n",
    "    print(f'SPLIT WORDS (post-merge): {comp_split.merge_fractions(dissection)}')\n",
    "    print()\n"
   ]
  },
  {
   "cell_type": "code",
   "execution_count": 7,
   "metadata": {},
   "outputs": [
    {
     "name": "stdout",
     "output_type": "stream",
     "text": [
      "$: dollar\n",
      "    $ -$ --$ A$ C$ HK$ M$ NZ$ S$ U.S.$ US$\n",
      "'': closing quotation mark\n",
      "    ' ''\n",
      "(: opening parenthesis\n",
      "    ( [ {\n",
      "): closing parenthesis\n",
      "    ) ] }\n",
      ",: comma\n",
      "    ,\n",
      "--: dash\n",
      "    --\n",
      ".: sentence terminator\n",
      "    . ! ?\n",
      ":: colon or ellipsis\n",
      "    : ; ...\n",
      "CC: conjunction, coordinating\n",
      "    & 'n and both but either et for less minus neither nor or plus so\n",
      "    therefore times v. versus vs. whether yet\n",
      "CD: numeral, cardinal\n",
      "    mid-1890 nine-thirty forty-two one-tenth ten million 0.5 one forty-\n",
      "    seven 1987 twenty '79 zero two 78-degrees eighty-four IX '60s .025\n",
      "    fifteen 271,124 dozen quintillion DM2,000 ...\n",
      "DT: determiner\n",
      "    all an another any both del each either every half la many much nary\n",
      "    neither no some such that the them these this those\n",
      "EX: existential there\n",
      "    there\n",
      "FW: foreign word\n",
      "    gemeinschaft hund ich jeux habeas Haementeria Herr K'ang-si vous\n",
      "    lutihaw alai je jour objets salutaris fille quibusdam pas trop Monte\n",
      "    terram fiche oui corporis ...\n",
      "IN: preposition or conjunction, subordinating\n",
      "    astride among uppon whether out inside pro despite on by throughout\n",
      "    below within for towards near behind atop around if like until below\n",
      "    next into if beside ...\n",
      "JJ: adjective or numeral, ordinal\n",
      "    third ill-mannered pre-war regrettable oiled calamitous first separable\n",
      "    ectoplasmic battery-powered participatory fourth still-to-be-named\n",
      "    multilingual multi-disciplinary ...\n",
      "JJR: adjective, comparative\n",
      "    bleaker braver breezier briefer brighter brisker broader bumper busier\n",
      "    calmer cheaper choosier cleaner clearer closer colder commoner costlier\n",
      "    cozier creamier crunchier cuter ...\n",
      "JJS: adjective, superlative\n",
      "    calmest cheapest choicest classiest cleanest clearest closest commonest\n",
      "    corniest costliest crassest creepiest crudest cutest darkest deadliest\n",
      "    dearest deepest densest dinkiest ...\n",
      "LS: list item marker\n",
      "    A A. B B. C C. D E F First G H I J K One SP-44001 SP-44002 SP-44005\n",
      "    SP-44007 Second Third Three Two * a b c d first five four one six three\n",
      "    two\n",
      "MD: modal auxiliary\n",
      "    can cannot could couldn't dare may might must need ought shall should\n",
      "    shouldn't will would\n",
      "NN: noun, common, singular or mass\n",
      "    common-carrier cabbage knuckle-duster Casino afghan shed thermostat\n",
      "    investment slide humour falloff slick wind hyena override subhumanity\n",
      "    machinist ...\n",
      "NNP: noun, proper, singular\n",
      "    Motown Venneboerger Czestochwa Ranzer Conchita Trumplane Christos\n",
      "    Oceanside Escobar Kreisler Sawyer Cougar Yvette Ervin ODI Darryl CTCA\n",
      "    Shannon A.K.C. Meltex Liverpool ...\n",
      "NNPS: noun, proper, plural\n",
      "    Americans Americas Amharas Amityvilles Amusements Anarcho-Syndicalists\n",
      "    Andalusians Andes Andruses Angels Animals Anthony Antilles Antiques\n",
      "    Apache Apaches Apocrypha ...\n",
      "NNS: noun, common, plural\n",
      "    undergraduates scotches bric-a-brac products bodyguards facets coasts\n",
      "    divestitures storehouses designs clubs fragrances averages\n",
      "    subjectivists apprehensions muses factory-jobs ...\n",
      "PDT: pre-determiner\n",
      "    all both half many quite such sure this\n",
      "POS: genitive marker\n",
      "    ' 's\n",
      "PRP: pronoun, personal\n",
      "    hers herself him himself hisself it itself me myself one oneself ours\n",
      "    ourselves ownself self she thee theirs them themselves they thou thy us\n",
      "PRP$: pronoun, possessive\n",
      "    her his mine my our ours their thy your\n",
      "RB: adverb\n",
      "    occasionally unabatingly maddeningly adventurously professedly\n",
      "    stirringly prominently technologically magisterially predominately\n",
      "    swiftly fiscally pitilessly ...\n",
      "RBR: adverb, comparative\n",
      "    further gloomier grander graver greater grimmer harder harsher\n",
      "    healthier heavier higher however larger later leaner lengthier less-\n",
      "    perfectly lesser lonelier longer louder lower more ...\n",
      "RBS: adverb, superlative\n",
      "    best biggest bluntest earliest farthest first furthest hardest\n",
      "    heartiest highest largest least less most nearest second tightest worst\n",
      "RP: particle\n",
      "    aboard about across along apart around aside at away back before behind\n",
      "    by crop down ever fast for forth from go high i.e. in into just later\n",
      "    low more off on open out over per pie raising start teeth that through\n",
      "    under unto up up-pp upon whole with you\n",
      "SYM: symbol\n",
      "    % & ' '' ''. ) ). * + ,. < = > @ A[fj] U.S U.S.S.R * ** ***\n",
      "TO: \"to\" as preposition or infinitive marker\n",
      "    to\n",
      "UH: interjection\n",
      "    Goodbye Goody Gosh Wow Jeepers Jee-sus Hubba Hey Kee-reist Oops amen\n",
      "    huh howdy uh dammit whammo shucks heck anyways whodunnit honey golly\n",
      "    man baby diddle hush sonuvabitch ...\n",
      "VB: verb, base form\n",
      "    ask assemble assess assign assume atone attention avoid bake balkanize\n",
      "    bank begin behold believe bend benefit bevel beware bless boil bomb\n",
      "    boost brace break bring broil brush build ...\n",
      "VBD: verb, past tense\n",
      "    dipped pleaded swiped regummed soaked tidied convened halted registered\n",
      "    cushioned exacted snubbed strode aimed adopted belied figgered\n",
      "    speculated wore appreciated contemplated ...\n",
      "VBG: verb, present participle or gerund\n",
      "    telegraphing stirring focusing angering judging stalling lactating\n",
      "    hankerin' alleging veering capping approaching traveling besieging\n",
      "    encrypting interrupting erasing wincing ...\n",
      "VBN: verb, past participle\n",
      "    multihulled dilapidated aerosolized chaired languished panelized used\n",
      "    experimented flourished imitated reunifed factored condensed sheared\n",
      "    unsettled primed dubbed desired ...\n",
      "VBP: verb, present tense, not 3rd person singular\n",
      "    predominate wrap resort sue twist spill cure lengthen brush terminate\n",
      "    appear tend stray glisten obtain comprise detest tease attract\n",
      "    emphasize mold postpone sever return wag ...\n",
      "VBZ: verb, present tense, 3rd person singular\n",
      "    bases reconstructs marks mixes displeases seals carps weaves snatches\n",
      "    slumps stretches authorizes smolders pictures emerges stockpiles\n",
      "    seduces fizzes uses bolsters slaps speaks pleads ...\n",
      "WDT: WH-determiner\n",
      "    that what whatever which whichever\n",
      "WP: WH-pronoun\n",
      "    that what whatever whatsoever which who whom whosoever\n",
      "WP$: WH-pronoun, possessive\n",
      "    whose\n",
      "WRB: Wh-adverb\n",
      "    how however whence whenever where whereby whereever wherein whereof why\n",
      "``: opening quotation mark\n",
      "    ` ``\n"
     ]
    }
   ],
   "source": [
    "nltk.help.upenn_tagset()"
   ]
  },
  {
   "cell_type": "code",
   "execution_count": 8,
   "metadata": {},
   "outputs": [
    {
     "name": "stdout",
     "output_type": "stream",
     "text": [
      "['PRON', 'AUX', 'VERB', 'DET', 'NOUN', 'PUNCT']\n",
      "['PRP', 'VBD', 'VBG', 'DT', 'NN', '.']\n",
      "['I', 'be', 'read', 'the', 'paper', '.']\n"
     ]
    }
   ],
   "source": [
    "import spacy\n",
    "\n",
    "# English pipelines include a rule-based lemmatizer\n",
    "nlp = spacy.load(\"en_core_web_sm\")\n",
    "# lemmatizer = nlp.get_pipe(\"lemmatizer\")\n",
    "# print(lemmatizer.mode)  # 'rule'\n",
    "\n",
    "doc = nlp(\"I was reading the paper.\")\n",
    "print([token.pos_ for token in doc])\n",
    "print([token.tag_ for token in doc])\n",
    "print([token.lemma_ for token in doc])\n",
    "# ['I', 'be', 'read', 'the', 'paper', '.']"
   ]
  },
  {
   "cell_type": "code",
   "execution_count": 17,
   "metadata": {},
   "outputs": [
    {
     "data": {
      "text/markdown": [
       "**horse.n.01**: *solid-hoofed herbivorous quadruped domesticated since prehistoric times*\n",
       "\n",
       "           examples: \n",
       "          hypernyms: equine.n.01\n",
       "           hyponyms: pinto.n.01, wild_horse.n.01, protohippus.n.01, sorrel.n.05, hack.n.06, workhorse.n.02, racehorse.n.01, harness_horse.n.01, stalking-horse.n.04, gee-gee.n.01, mesohippus.n.01, saddle_horse.n.01, roan.n.02, post_horse.n.01, chestnut.n.06, polo_pony.n.01, mare.n.01, steeplechaser.n.01, stepper.n.03, palomino.n.01, liver_chestnut.n.01, hack.n.07, pony.n.01, male_horse.n.01, pony.n.05, bay.n.07, stablemate.n.01, pacer.n.02, eohippus.n.01\n",
       "    member holonyms: equus.n.01\n",
       "    member meronyms: foal.n.01\n",
       "             lemmas: horse(103), Equus_caballus(0)\n",
       "\n"
      ],
      "text/plain": [
       "<IPython.core.display.Markdown object>"
      ]
     },
     "metadata": {},
     "output_type": "display_data"
    },
    {
     "data": {
      "text/markdown": [
       "**horse.n.02**: *a padded gymnastic apparatus on legs*\n",
       "\n",
       "           examples: \n",
       "          hypernyms: gymnastic_apparatus.n.01\n",
       "           hyponyms: pommel_horse.n.01, vaulting_horse.n.01\n",
       "    member holonyms: \n",
       "    member meronyms: \n",
       "             lemmas: horse(1), gymnastic_horse(0)\n",
       "\n"
      ],
      "text/plain": [
       "<IPython.core.display.Markdown object>"
      ]
     },
     "metadata": {},
     "output_type": "display_data"
    },
    {
     "data": {
      "text/markdown": [
       "**cavalry.n.01**: *troops trained to fight on horseback*\n",
       "\n",
       "           examples: 500 horse led the attack\n",
       "          hypernyms: military_personnel.n.01\n",
       "           hyponyms: \n",
       "    member holonyms: \n",
       "    member meronyms: cavalryman.n.01\n",
       "             lemmas: cavalry(7), horse_cavalry(0), horse(0)\n",
       "\n"
      ],
      "text/plain": [
       "<IPython.core.display.Markdown object>"
      ]
     },
     "metadata": {},
     "output_type": "display_data"
    },
    {
     "data": {
      "text/markdown": [
       "**sawhorse.n.01**: *a framework for holding wood that is being sawed*\n",
       "\n",
       "           examples: \n",
       "          hypernyms: framework.n.03\n",
       "           hyponyms: trestle.n.02\n",
       "    member holonyms: \n",
       "    member meronyms: \n",
       "             lemmas: sawhorse(1), horse(0), sawbuck(0), buck(0)\n",
       "\n"
      ],
      "text/plain": [
       "<IPython.core.display.Markdown object>"
      ]
     },
     "metadata": {},
     "output_type": "display_data"
    },
    {
     "data": {
      "text/markdown": [
       "**knight.n.02**: *a chessman shaped to resemble the head of a horse; can move two squares horizontally and one vertically (or vice versa)*\n",
       "\n",
       "           examples: \n",
       "          hypernyms: chessman.n.01\n",
       "           hyponyms: \n",
       "    member holonyms: \n",
       "    member meronyms: \n",
       "             lemmas: knight(0), horse(0)\n",
       "\n"
      ],
      "text/plain": [
       "<IPython.core.display.Markdown object>"
      ]
     },
     "metadata": {},
     "output_type": "display_data"
    },
    {
     "data": {
      "text/markdown": [
       "**horse.v.01**: *provide with a horse or horses*\n",
       "\n",
       "           examples: \n",
       "          hypernyms: provide.v.02\n",
       "           hyponyms: remount.v.03\n",
       "    member holonyms: \n",
       "    member meronyms: \n",
       "             lemmas: horse(0)\n",
       "\n"
      ],
      "text/plain": [
       "<IPython.core.display.Markdown object>"
      ]
     },
     "metadata": {},
     "output_type": "display_data"
    }
   ],
   "source": [
    "from IPython.display import display, Markdown\n",
    "\n",
    "def print_wordnet_info(word: str):\n",
    "    for s in nltk.corpus.wordnet.synsets(word):\n",
    "        str = f'**{s.name()}**: *{s.definition()}*\\n\\n'\n",
    "        str += f'{\"examples:\":>20} {\", \".join(s.examples())}\\n'\n",
    "        str += f'{\"hypernyms:\":>20} {\", \".join([h.name() for h in s.hypernyms()])}\\n'\n",
    "        str += f'{\"hyponyms:\":>20} {\", \".join([h.name() for h in s.hyponyms()])}\\n'\n",
    "        str += f'{\"member holonyms:\":>20} {\", \".join([h.name() for h in s.member_holonyms()])}\\n'\n",
    "        str += f'{\"member meronyms:\":>20} {\", \".join([h.name() for h in s.member_meronyms()])}\\n'\n",
    "        str += f'{\"lemmas:\":>20} {\", \".join([f\"{l.name()}({l.count()})\" for l in s.lemmas()])}\\n'\n",
    "        str += '\\n'\n",
    "        display(Markdown(str))\n",
    "\n",
    "print_wordnet_info('horse')"
   ]
  },
  {
   "cell_type": "markdown",
   "metadata": {},
   "source": [
    "---"
   ]
  }
 ],
 "metadata": {
  "kernelspec": {
   "display_name": ".venv",
   "language": "python",
   "name": "python3"
  },
  "language_info": {
   "codemirror_mode": {
    "name": "ipython",
    "version": 3
   },
   "file_extension": ".py",
   "mimetype": "text/x-python",
   "name": "python",
   "nbconvert_exporter": "python",
   "pygments_lexer": "ipython3",
   "version": "3.12.3"
  },
  "orig_nbformat": 4
 },
 "nbformat": 4,
 "nbformat_minor": 2
}
