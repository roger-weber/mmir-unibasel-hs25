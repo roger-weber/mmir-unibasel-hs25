{
 "cells": [
  {
   "cell_type": "markdown",
   "metadata": {},
   "source": [
    "Run first the [setup notebook](./00-setup.ipynb)"
   ]
  },
  {
   "cell_type": "code",
   "execution_count": 1,
   "metadata": {},
   "outputs": [],
   "source": [
    "# --- Imports ---\n",
    "import nltk, html\n",
    "from nltk import pos_tag, word_tokenize, RegexpParser\n",
    "from IPython.display import display, HTML\n",
    "import ipywidgets as widgets\n",
    "import spacy\n",
    "\n",
    "# --- spacy setup ---\n",
    "nlp_spacy = spacy.load('en_core_web_sm')"
   ]
  },
  {
   "cell_type": "code",
   "execution_count": null,
   "metadata": {},
   "outputs": [
    {
     "data": {
      "text/html": [
       "<h2>Noun Phrase Chunking with NLTK RegexpParser</h2>"
      ],
      "text/plain": [
       "<IPython.core.display.HTML object>"
      ]
     },
     "metadata": {},
     "output_type": "display_data"
    },
    {
     "data": {
      "application/vnd.jupyter.widget-view+json": {
       "model_id": "a3bb188ded354fef9f5ac4fe6bd08657",
       "version_major": 2,
       "version_minor": 0
      },
      "text/plain": [
       "Dropdown(description='Select Sentence:', layout=Layout(width='700px'), options={'1️⃣  The classic fox': 'The q…"
      ]
     },
     "metadata": {},
     "output_type": "display_data"
    },
    {
     "data": {
      "application/vnd.jupyter.widget-view+json": {
       "model_id": "19a5e569c99c4964a6f38a10670ffd17",
       "version_major": 2,
       "version_minor": 0
      },
      "text/plain": [
       "Output()"
      ]
     },
     "metadata": {},
     "output_type": "display_data"
    }
   ],
   "source": [
    "# --- Define grammar for noun phrases ---\n",
    "grammar = r\"\"\"\n",
    "  NP: {<DET>?<ADJ>*<NOUN>}\n",
    "\"\"\"\n",
    "parser = RegexpParser(grammar)\n",
    "\n",
    "# --- Example sentences ---\n",
    "examples = {\n",
    "    \"1️⃣  The classic fox\": \"The quick brown fox jumps over the lazy dog.\",\n",
    "    \"2️⃣  The book on the table\": \"The old book on the wooden table belongs to Sarah.\",\n",
    "    \"3️⃣  The AI revolution\": \"Modern artificial intelligence systems transform industries worldwide.\",\n",
    "    \"4️⃣  The conference scene\": \"Researchers presented innovative papers at the NLP conference.\",\n",
    "    \"5️⃣  The riverbank\": \"The children played near the quiet river bank under the blue sky.\"\n",
    "}\n",
    "\n",
    "# --- Output widget for dynamic display ---\n",
    "output = widgets.Output()\n",
    "\n",
    "# --- Sentence analysis function ---\n",
    "def analyze_sentence(sentence):\n",
    "    tokens = nlp_spacy(sentence)\n",
    "    pos_tags = [(token.text, token.pos_) for token in tokens]\n",
    "    tree = parser.parse(pos_tags)\n",
    "\n",
    "    # Build POS-tag table (left column)\n",
    "    table_html = \"<table border='1' style='border-collapse:collapse;'><tr><th>Word</th><th>POS Tag</th></tr>\"\n",
    "    for word, tag in pos_tags:\n",
    "        table_html += f\"<tr><td>{word}</td><td>{tag}</td></tr>\"\n",
    "    table_html += \"</table>\"\n",
    "\n",
    "    # Extract noun phrases\n",
    "    noun_phrases = [\n",
    "        \" \".join(word for word, tag in subtree.leaves())\n",
    "        for subtree in tree.subtrees(filter=lambda t: t.label() == 'NP')\n",
    "    ]\n",
    "\n",
    "    # Parse tree as SVG\n",
    "    tree_html = tree._repr_svg_()\n",
    "\n",
    "    # Combined HTML layout\n",
    "    html_output = f\"\"\"\n",
    "    <p><b>{sentence}</b></p>\n",
    "    <div style=\"display: flex; gap: 40px;\">\n",
    "      <div style=\"flex: 1;\">{table_html}</div>\n",
    "      <div style=\"flex: 3;\">{tree_html}</div>\n",
    "    </div>\n",
    "    <br>\n",
    "    <h4>Extracted Noun Phrases: {html.escape(grammar)}</h4>\n",
    "    <ul>{''.join(f'<li>{np}</li>' for np in noun_phrases)}</ul>\n",
    "    \"\"\"\n",
    "    display(HTML(html_output))\n",
    "\n",
    "# --- Handler for dropdown changes ---\n",
    "def on_sentence_change(change):\n",
    "    if change['type'] == 'change' and change['name'] == 'value':\n",
    "        with output:\n",
    "            output.clear_output(wait=True)\n",
    "            analyze_sentence(change['new'])\n",
    "\n",
    "# --- Dropdown widget ---\n",
    "sentence_selector = widgets.Dropdown(\n",
    "    options=examples,\n",
    "    value=None,\n",
    "    description='Select Sentence:',\n",
    "    style={'description_width': '150px'},\n",
    "    layout=widgets.Layout(width='700px')\n",
    ")\n",
    "sentence_selector.observe(on_sentence_change)\n",
    "\n",
    "# --- Display interface ---\n",
    "display(HTML(f\"<h2>Noun Phrase Chunking with NLTK RegexpParser</h2>\"))\n",
    "display(sentence_selector, output)\n"
   ]
  },
  {
   "cell_type": "markdown",
   "metadata": {},
   "source": [
    "---"
   ]
  }
 ],
 "metadata": {
  "kernelspec": {
   "display_name": ".venv",
   "language": "python",
   "name": "python3"
  },
  "language_info": {
   "codemirror_mode": {
    "name": "ipython",
    "version": 3
   },
   "file_extension": ".py",
   "mimetype": "text/x-python",
   "name": "python",
   "nbconvert_exporter": "python",
   "pygments_lexer": "ipython3",
   "version": "3.12.3"
  }
 },
 "nbformat": 4,
 "nbformat_minor": 2
}
