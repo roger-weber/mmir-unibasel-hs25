{
 "cells": [
  {
   "cell_type": "markdown",
   "metadata": {},
   "source": [
    "Run first the [setup notebook](./00-setup.ipynb)"
   ]
  },
  {
   "cell_type": "markdown",
   "metadata": {},
   "source": [
    "# Classic Text Retrieval with SQL"
   ]
  },
  {
   "cell_type": "code",
   "execution_count": null,
   "metadata": {},
   "outputs": [],
   "source": [
    "from helpers import bag_of_words, tokenize, eliminate_stopwords\n",
    "from itertools import groupby\n",
    "import sqlite3\n",
    "from datasets import imdb\n",
    "import ipywidgets as widgets"
   ]
  },
  {
   "cell_type": "markdown",
   "metadata": {},
   "source": [
    "## Create Inverted Index with SQL"
   ]
  },
  {
   "cell_type": "markdown",
   "metadata": {},
   "source": [
    "### Create Schema"
   ]
  },
  {
   "cell_type": "code",
   "execution_count": null,
   "metadata": {},
   "outputs": [],
   "source": [
    "# helper function to create dict results for SELECT statements\n",
    "def dict_from_row(cursor, row):\n",
    "    return {\n",
    "        col[0]: row[idx]\n",
    "        for idx, col in enumerate(cursor.description)\n",
    "    }\n",
    "\n",
    "# open in-memory database - we only want to demonstrate the SQL interface\n",
    "db = sqlite3.connect(\":memory:\")\n",
    "db.row_factory = dict_from_row\n",
    "\n",
    "# create table for inverted index in SQL\n",
    "db.execute(\"CREATE TABLE document(id INTEGER PRIMARY KEY AUTOINCREMENT, title TEXT, year INTEGER, runtime INTEGER, rating REAL, genre TEXT, actors TEXT, summary TEXT)\")\n",
    "db.execute(\"CREATE TABLE vocabulary(term TEXT PRIMARY KEY, df INTEGER, idf REAL)\")\n",
    "db.execute(\"CREATE TABLE posting(term TEXT, docId INTEGER, tf INTEGER)\")\n",
    "db.execute(\"CREATE TEMPORARY TABLE query(term TEXT, tf INTEGER)\")\n",
    "db.execute(\"CREATE INDEX inverted_list ON posting(term)\");"
   ]
  },
  {
   "cell_type": "markdown",
   "metadata": {},
   "source": [
    "### Load IMDB data set"
   ]
  },
  {
   "cell_type": "code",
   "execution_count": null,
   "metadata": {},
   "outputs": [],
   "source": [
    "# loading the imdb data set (1000 movies)\n",
    "collection = imdb.load()\n",
    "def doc_format_imdb(doc: dict) -> str:\n",
    "    trim = lambda s,n: len(s) > n and s[:n] + \"\\u2026\" or s\n",
    "    title_ex = '{title_short} ({year}, {runtime}m, {rating})'.format(title_short=trim(doc['title'], 30), **doc)\n",
    "    return '{title_ex:<50} {genre_short:<20} {summary} [{actors}]'.format(title_ex=title_ex, genre_short=trim(doc['genre'], 18), **doc)\n",
    "\n",
    "for item in collection[:5]:\n",
    "    print(doc_format_imdb(item))\n",
    "\n",
    "collection[0]"
   ]
  },
  {
   "cell_type": "markdown",
   "metadata": {},
   "source": [
    "### Build index in SQL"
   ]
  },
  {
   "cell_type": "code",
   "execution_count": null,
   "metadata": {},
   "outputs": [],
   "source": [
    "def get_vector(text: str) -> set:\n",
    "    tokens = tokenize(text)\n",
    "    tokens = eliminate_stopwords(tokens)\n",
    "    # tokens = reduce_to_stems(tokens)\n",
    "    return bag_of_words(tokens)\n",
    "\n",
    "def add_document(doc: dict):\n",
    "    # add new document and fetch doc id\n",
    "    db.execute(\"INSERT INTO document(title, year, runtime, rating, genre, actors, summary) VALUES (:title, :year, :runtime, :rating, :genre, :actors, :summary)\", doc)\n",
    "    doc_id = db.execute(\"SELECT last_insert_rowid() AS docId\").fetchone()['docId']\n",
    "    # create vector from str-properties\n",
    "    text = ' '.join([value for key, value in doc.items() if type(value) == str])\n",
    "    vector = get_vector(text)\n",
    "    # insert postings into table posting\n",
    "    db.executemany(\"INSERT INTO posting(term, docId, tf) VALUES(?,?,?)\", [(term, doc_id, tf) for term, tf in vector.items()])\n",
    "    \n",
    "def build_index(collection: list[dict]):    \n",
    "    # remove current entries\n",
    "    db.execute(\"DELETE FROM posting\")\n",
    "    db.execute(\"DELETE FROM vocabulary\")\n",
    "    db.execute(\"DELETE FROM document\")\n",
    "    # add all documents in collection\n",
    "    for doc in collection:\n",
    "        add_document(doc)\n",
    "    # build inverted index table\n",
    "    n_docs = db.execute(\"SELECT count(*) AS count FROM document\").fetchone()['count']\n",
    "    db.execute(\"INSERT INTO vocabulary(term, df, idf) SELECT term, count(*), ln(1.0 * (? + 1) / (count(*) + 1)) FROM posting GROUP BY term\", (n_docs, ));\n",
    "    # commit changes    \n",
    "    db.commit()\n",
    "\n",
    "# build index for movie data set\n",
    "build_index(collection)\n",
    "\n",
    "# print number of documents\n",
    "n_docs = db.execute(\"SELECT count(*) AS count FROM document\").fetchone()['count']\n",
    "print('{count} documents in collection'.format(count=n_docs))\n",
    "\n",
    "# print number of terms\n",
    "nTerms = db.execute(\"SELECT count(*) AS count FROM vocabulary\").fetchone()['count']\n",
    "print('{count} distinct terms in collection'.format(count=nTerms))\n",
    "\n",
    "# print number of postings\n",
    "nPostings = db.execute(\"SELECT count(*) AS count FROM posting\").fetchone()['count']\n",
    "print('{count} postings'.format(count=nPostings))"
   ]
  },
  {
   "cell_type": "markdown",
   "metadata": {},
   "source": [
    "### Print document table"
   ]
  },
  {
   "cell_type": "code",
   "execution_count": null,
   "metadata": {},
   "outputs": [],
   "source": [
    "cur = db.execute(\"SELECT * FROM document\")\n",
    "for doc in cur.fetchmany(size=10):\n",
    "    print(f\"{doc['id']:>2} {doc_format_imdb(doc)}\")"
   ]
  },
  {
   "cell_type": "markdown",
   "metadata": {},
   "source": [
    "### Print terms"
   ]
  },
  {
   "cell_type": "code",
   "execution_count": null,
   "metadata": {},
   "outputs": [],
   "source": [
    "cur = db.execute(\"SELECT * FROM vocabulary ORDER BY df DESC\")\n",
    "for term in cur.fetchmany(size=20):\n",
    "    print(term)"
   ]
  },
  {
   "cell_type": "markdown",
   "metadata": {},
   "source": [
    "### Print postings"
   ]
  },
  {
   "cell_type": "code",
   "execution_count": null,
   "metadata": {},
   "outputs": [],
   "source": [
    "cur = db.execute(\"SELECT * FROM posting\")\n",
    "for posting in cur.fetchmany(size=20):\n",
    "    print(posting)"
   ]
  },
  {
   "cell_type": "markdown",
   "metadata": {},
   "source": [
    "## Queries"
   ]
  },
  {
   "cell_type": "markdown",
   "metadata": {},
   "source": [
    "### Boolean search: AND with 2 terms"
   ]
  },
  {
   "cell_type": "code",
   "execution_count": null,
   "metadata": {},
   "outputs": [],
   "source": [
    "cur = db.execute(\"\"\"\n",
    "    SELECT d.* \n",
    "      FROM document d, posting a, posting b \n",
    "     WHERE a.term = 'star' AND\n",
    "           b.term = 'wars' AND\n",
    "           a.docId = b.docId AND\n",
    "           a.docId = d.id\n",
    "\"\"\")\n",
    "for doc in cur.fetchmany(size=10):\n",
    "    print(doc_format_imdb(doc))"
   ]
  },
  {
   "cell_type": "markdown",
   "metadata": {},
   "source": [
    "### Boolean search: OR with 2 terms"
   ]
  },
  {
   "cell_type": "code",
   "execution_count": null,
   "metadata": {},
   "outputs": [],
   "source": [
    "cur = db.execute(\"\"\"\n",
    "    SELECT d.* \n",
    "      FROM document d, posting a \n",
    "     WHERE a.term IN ('star', 'wars') AND\n",
    "           a.docId = d.id\n",
    "\"\"\")\n",
    "for doc in cur.fetchmany(size=10):\n",
    "    print(doc_format_imdb(doc))"
   ]
  },
  {
   "cell_type": "markdown",
   "metadata": {},
   "source": [
    "### Boolean search: AND with arbitrary number of terms"
   ]
  },
  {
   "cell_type": "code",
   "execution_count": null,
   "metadata": {},
   "outputs": [],
   "source": [
    "def search_bool(query: str, k: int):\n",
    "    query_vector = get_vector(query)\n",
    "    db.execute(\"DELETE FROM query\")\n",
    "    db.executemany(\"INSERT INTO query(term, tf) VALUES(?,?)\", [(term, tf) for term, tf in query_vector.items()])\n",
    "    cur = db.execute(\"\"\"\n",
    "        SELECT d.* \n",
    "          FROM document d, posting p, query q \n",
    "         WHERE p.term = q.term AND\n",
    "               p.docId = d.id\n",
    "      GROUP BY p.docId\n",
    "        HAVING COUNT(p.term) = (SELECT COUNT(*) FROM query)\n",
    "    \"\"\")\n",
    "    print(\"\\n    r   id   document\\n\" + '-'*160)\n",
    "    for rank, doc in enumerate(cur.fetchmany(size=k)):\n",
    "        print('  {rank:>3d} {id:>4d}   {doc}'.format(rank=rank + 1, id=doc['id'], doc=doc_format_imdb(doc)))\n",
    "    db.commit()\n",
    "\n",
    "# options for the dialog\n",
    "queries = ['star wars', 'drama morgan freeman', 'comedy']\n",
    "\n",
    "# interactive selection of scenario\n",
    "widgets.interact(search_bool, \n",
    "    query=widgets.Dropdown(options=queries), \n",
    "    k=widgets.IntSlider(min=5, max=50, step=5, value=20),\n",
    ");"
   ]
  },
  {
   "cell_type": "markdown",
   "metadata": {},
   "source": [
    "### Boolean search: OR with arbitrary number of terms"
   ]
  },
  {
   "cell_type": "code",
   "execution_count": null,
   "metadata": {},
   "outputs": [],
   "source": [
    "\n",
    "def search_bool(query: str, k: int):\n",
    "    query_vector = get_vector(query)\n",
    "    db.execute(\"DELETE FROM query\")\n",
    "    db.executemany(\"INSERT INTO query(term, tf) VALUES(?,?)\", [(term, tf) for term, tf in query_vector.items()])\n",
    "    cur = db.execute(\"\"\"\n",
    "        SELECT d.* \n",
    "          FROM document d, posting p, query q \n",
    "         WHERE p.term = q.term AND\n",
    "               p.docId = d.id\n",
    "      GROUP BY p.docId\n",
    "    \"\"\")\n",
    "    print(\"\\n    r   id   document\\n\" + '-'*160)\n",
    "    for rank, doc in enumerate(cur.fetchmany(size=k)):\n",
    "        print('  {rank:>3d} {id:>4d}   {doc}'.format(rank=rank + 1, id=doc['id'], doc=doc_format_imdb(doc)))\n",
    "    db.commit()\n",
    "\n",
    "# options for the dialog\n",
    "queries = ['star wars', 'drama morgan freeman', 'comedy']\n",
    "\n",
    "# interactive selection of scenario\n",
    "widgets.interact(search_bool, \n",
    "    query=widgets.Dropdown(options=queries), \n",
    "    k=widgets.IntSlider(min=5, max=50, step=5, value=20),\n",
    ");"
   ]
  },
  {
   "cell_type": "markdown",
   "metadata": {},
   "source": [
    "### Vector Space Model with dot-product"
   ]
  },
  {
   "cell_type": "code",
   "execution_count": null,
   "metadata": {},
   "outputs": [],
   "source": [
    "def search_vsm(query: str, k: int):\n",
    "    query_vector = get_vector(query)\n",
    "    db.execute(\"DELETE FROM query\")\n",
    "    db.executemany(\"INSERT INTO query(term, tf) VALUES(?,?)\", [(term, tf) for term, tf in query_vector.items()])\n",
    "    cur = db.execute(\"\"\"\n",
    "        SELECT SUM(p.tf * v.idf * q.tf * v.idf) AS score, d.*\n",
    "          FROM document d, posting p, query q, vocabulary v\n",
    "         WHERE p.term = q.term AND\n",
    "               p.term = v.term AND\n",
    "               p.docId = d.id\n",
    "      GROUP BY p.docId\n",
    "      ORDER BY 1 DESC\n",
    "    \"\"\")\n",
    "    print(\"\\n    r   id  score  document\\n\" + '-'*160)\n",
    "    for rank, doc in enumerate(cur.fetchmany(size=k)):\n",
    "        print('  {rank:>3d} {id:>4d} ({score:5.1f})  {doc}'.format(rank=rank + 1, id=doc['id'], score=doc['score'], doc=doc_format_imdb(doc)))\n",
    "    db.commit()\n",
    "\n",
    "# options for the dialog\n",
    "queries = ['star wars', 'drama morgan freeman', 'comedy']\n",
    "\n",
    "# interactive selection of scenario\n",
    "widgets.interact(search_vsm, \n",
    "    query=widgets.Dropdown(options=queries), \n",
    "    k=widgets.IntSlider(min=5, max=50, step=5, value=20),\n",
    ");"
   ]
  },
  {
   "cell_type": "markdown",
   "metadata": {},
   "source": [
    "### Vector Space Model with dot-product with predicate (year > 1990)"
   ]
  },
  {
   "cell_type": "code",
   "execution_count": null,
   "metadata": {},
   "outputs": [],
   "source": [
    "def search_vsm(query: str, k: int):\n",
    "    query_vector = get_vector(query)\n",
    "    db.execute(\"DELETE FROM query\")\n",
    "    db.executemany(\"INSERT INTO query(term, tf) VALUES(?,?)\", [(term, tf) for term, tf in query_vector.items()])\n",
    "    cur = db.execute(\"\"\"\n",
    "        SELECT SUM(p.tf * v.idf * q.tf * v.idf) AS score, d.*\n",
    "          FROM document d, posting p, query q, vocabulary v\n",
    "         WHERE p.term = q.term AND\n",
    "               p.term = v.term AND\n",
    "               p.docId = d.id AND\n",
    "               d.year > 1990\n",
    "      GROUP BY p.docId\n",
    "      ORDER BY 1 DESC\n",
    "    \"\"\")\n",
    "    print(\"\\n    r   id  score  document\\n\" + '-'*160)\n",
    "    for rank, doc in enumerate(cur.fetchmany(size=k)):\n",
    "        print('  {rank:>3d} {id:>4d} ({score:5.1f})  {doc}'.format(rank=rank + 1, id=doc['id'], score=doc['score'], doc=doc_format_imdb(doc)))\n",
    "    db.commit()\n",
    "\n",
    "# options for the dialog\n",
    "queries = ['star wars', 'drama morgan freeman', 'comedy']\n",
    "\n",
    "# interactive selection of scenario\n",
    "widgets.interact(search_vsm, \n",
    "    query=widgets.Dropdown(options=queries), \n",
    "    k=widgets.IntSlider(min=5, max=50, step=5, value=20),\n",
    ");"
   ]
  },
  {
   "cell_type": "markdown",
   "metadata": {},
   "source": [
    "---"
   ]
  }
 ],
 "metadata": {
  "kernelspec": {
   "display_name": ".venv",
   "language": "python",
   "name": "python3"
  },
  "language_info": {
   "codemirror_mode": {
    "name": "ipython",
    "version": 3
   },
   "file_extension": ".py",
   "mimetype": "text/x-python",
   "name": "python",
   "nbconvert_exporter": "python",
   "pygments_lexer": "ipython3",
   "version": "3.12.3"
  },
  "orig_nbformat": 4
 },
 "nbformat": 4,
 "nbformat_minor": 2
}
