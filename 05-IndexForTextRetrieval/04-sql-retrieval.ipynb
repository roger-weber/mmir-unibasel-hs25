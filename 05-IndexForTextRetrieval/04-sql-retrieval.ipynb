{
 "cells": [
  {
   "cell_type": "markdown",
   "metadata": {},
   "source": [
    "Run first the [setup notebook](./00-setup.ipynb)"
   ]
  },
  {
   "cell_type": "markdown",
   "metadata": {},
   "source": [
    "# Classic Text Retrieval with SQL"
   ]
  },
  {
   "cell_type": "code",
   "execution_count": 2,
   "metadata": {},
   "outputs": [],
   "source": [
    "from helpers import bag_of_words, tokenize, eliminate_stopwords\n",
    "from itertools import groupby\n",
    "import sqlite3\n",
    "from datasets import imdb\n",
    "import ipywidgets as widgets"
   ]
  },
  {
   "cell_type": "markdown",
   "metadata": {},
   "source": [
    "## Create Inverted Index with SQL"
   ]
  },
  {
   "cell_type": "markdown",
   "metadata": {},
   "source": [
    "### Create Schema"
   ]
  },
  {
   "cell_type": "code",
   "execution_count": 3,
   "metadata": {},
   "outputs": [],
   "source": [
    "# helper function to create dict results for SELECT statements\n",
    "def dict_from_row(cursor, row):\n",
    "    return {\n",
    "        col[0]: row[idx]\n",
    "        for idx, col in enumerate(cursor.description)\n",
    "    }\n",
    "\n",
    "# open in-memory database - we only want to demonstrate the SQL interface\n",
    "db = sqlite3.connect(\":memory:\")\n",
    "db.row_factory = dict_from_row\n",
    "\n",
    "# create table for inverted index in SQL\n",
    "db.execute(\"CREATE TABLE document(id INTEGER PRIMARY KEY AUTOINCREMENT, title TEXT, year INTEGER, runtime INTEGER, rating REAL, genre TEXT, actors TEXT, summary TEXT)\")\n",
    "db.execute(\"CREATE TABLE vocabulary(term TEXT PRIMARY KEY, df INTEGER, idf REAL)\")\n",
    "db.execute(\"CREATE TABLE posting(term TEXT, docId INTEGER, tf INTEGER)\")\n",
    "db.execute(\"CREATE TEMPORARY TABLE query(term TEXT, tf INTEGER)\")\n",
    "db.execute(\"CREATE INDEX inverted_list ON posting(term)\");"
   ]
  },
  {
   "cell_type": "markdown",
   "metadata": {},
   "source": [
    "### Load IMDB data set"
   ]
  },
  {
   "cell_type": "code",
   "execution_count": 4,
   "metadata": {},
   "outputs": [
    {
     "name": "stdout",
     "output_type": "stream",
     "text": [
      "The Shawshank Redemption (1994, 142m, 9.3)         Drama                Two imprisoned men bond over a number of years, finding solace and eventual redemption through acts of common decency. [Tim Robbins Morgan Freeman Bob Gunton William Sadler]\n",
      "The Godfather (1972, 175m, 9.2)                    Crime Drama          An organized crime dynasty's aging patriarch transfers control of his clandestine empire to his reluctant son. [Marlon Brando Al Pacino James Caan Diane Keaton]\n",
      "The Dark Knight (2008, 152m, 9.0)                  Action Crime Drama   When the menace known as the Joker wreaks havoc and chaos on the people of Gotham, Batman must accept one of the greatest psychological and physical tests of his ability to fight injustice. [Christian Bale Heath Ledger Aaron Eckhart Michael Caine]\n",
      "The Godfather: Part II (1974, 202m, 9.0)           Crime Drama          The early life and career of Vito Corleone in 1920s New York City is portrayed, while his son, Michael, expands and tightens his grip on the family crime syndicate. [Al Pacino Robert De Niro Robert Duvall Diane Keaton]\n",
      "12 Angry Men (1957, 96m, 9.0)                      Crime Drama          A jury holdout attempts to prevent a miscarriage of justice by forcing his colleagues to reconsider the evidence. [Henry Fonda Lee J. Cobb Martin Balsam John Fiedler]\n"
     ]
    },
    {
     "data": {
      "text/plain": [
       "{'title': 'The Shawshank Redemption',\n",
       " 'year': 1994,\n",
       " 'runtime': 142,\n",
       " 'rating': 9.3,\n",
       " 'genre': 'Drama',\n",
       " 'actors': 'Tim Robbins Morgan Freeman Bob Gunton William Sadler',\n",
       " 'summary': 'Two imprisoned men bond over a number of years, finding solace and eventual redemption through acts of common decency.'}"
      ]
     },
     "execution_count": 4,
     "metadata": {},
     "output_type": "execute_result"
    }
   ],
   "source": [
    "# loading the imdb data set (1000 movies)\n",
    "collection = imdb.load()\n",
    "def doc_format_imdb(doc: dict) -> str:\n",
    "    trim = lambda s,n: len(s) > n and s[:n] + \"\\u2026\" or s\n",
    "    title_ex = '{title_short} ({year}, {runtime}m, {rating})'.format(title_short=trim(doc['title'], 30), **doc)\n",
    "    return '{title_ex:<50} {genre_short:<20} {summary} [{actors}]'.format(title_ex=title_ex, genre_short=trim(doc['genre'], 18), **doc)\n",
    "\n",
    "for item in collection[:5]:\n",
    "    print(doc_format_imdb(item))\n",
    "\n",
    "collection[0]"
   ]
  },
  {
   "cell_type": "markdown",
   "metadata": {},
   "source": [
    "### Build index in SQL"
   ]
  },
  {
   "cell_type": "code",
   "execution_count": 5,
   "metadata": {},
   "outputs": [
    {
     "name": "stdout",
     "output_type": "stream",
     "text": [
      "1000 documents in collection\n",
      "9836 distinct terms in collection\n",
      "26200 postings\n"
     ]
    }
   ],
   "source": [
    "def get_vector(text: str) -> set:\n",
    "    tokens = tokenize(text)\n",
    "    tokens = eliminate_stopwords(tokens)\n",
    "    # tokens = reduce_to_stems(tokens)\n",
    "    return bag_of_words(tokens)\n",
    "\n",
    "def add_document(doc: dict):\n",
    "    # add new document and fetch doc id\n",
    "    db.execute(\"INSERT INTO document(title, year, runtime, rating, genre, actors, summary) VALUES (:title, :year, :runtime, :rating, :genre, :actors, :summary)\", doc)\n",
    "    doc_id = db.execute(\"SELECT last_insert_rowid() AS docId\").fetchone()['docId']\n",
    "    # create vector from str-properties\n",
    "    text = ' '.join([value for key, value in doc.items() if type(value) == str])\n",
    "    vector = get_vector(text)\n",
    "    # insert postings into table posting\n",
    "    db.executemany(\"INSERT INTO posting(term, docId, tf) VALUES(?,?,?)\", [(term, doc_id, tf) for term, tf in vector.items()])\n",
    "    \n",
    "def build_index(collection: list[dict]):    \n",
    "    # remove current entries\n",
    "    db.execute(\"DELETE FROM posting\")\n",
    "    db.execute(\"DELETE FROM vocabulary\")\n",
    "    db.execute(\"DELETE FROM document\")\n",
    "    # add all documents in collection\n",
    "    for doc in collection:\n",
    "        add_document(doc)\n",
    "    # build inverted index table\n",
    "    n_docs = db.execute(\"SELECT count(*) AS count FROM document\").fetchone()['count']\n",
    "    db.execute(\"INSERT INTO vocabulary(term, df, idf) SELECT term, count(*), ln(1.0 * (? + 1) / (count(*) + 1)) FROM posting GROUP BY term\", (n_docs, ));\n",
    "    # commit changes    \n",
    "    db.commit()\n",
    "\n",
    "# build index for movie data set\n",
    "build_index(collection)\n",
    "\n",
    "# print number of documents\n",
    "n_docs = db.execute(\"SELECT count(*) AS count FROM document\").fetchone()['count']\n",
    "print('{count} documents in collection'.format(count=n_docs))\n",
    "\n",
    "# print number of terms\n",
    "nTerms = db.execute(\"SELECT count(*) AS count FROM vocabulary\").fetchone()['count']\n",
    "print('{count} distinct terms in collection'.format(count=nTerms))\n",
    "\n",
    "# print number of postings\n",
    "nPostings = db.execute(\"SELECT count(*) AS count FROM posting\").fetchone()['count']\n",
    "print('{count} postings'.format(count=nPostings))"
   ]
  },
  {
   "cell_type": "markdown",
   "metadata": {},
   "source": [
    "### Print document table"
   ]
  },
  {
   "cell_type": "code",
   "execution_count": 6,
   "metadata": {},
   "outputs": [
    {
     "name": "stdout",
     "output_type": "stream",
     "text": [
      " 1 The Shawshank Redemption (1994, 142m, 9.3)         Drama                Two imprisoned men bond over a number of years, finding solace and eventual redemption through acts of common decency. [Tim Robbins Morgan Freeman Bob Gunton William Sadler]\n",
      " 2 The Godfather (1972, 175m, 9.2)                    Crime Drama          An organized crime dynasty's aging patriarch transfers control of his clandestine empire to his reluctant son. [Marlon Brando Al Pacino James Caan Diane Keaton]\n",
      " 3 The Dark Knight (2008, 152m, 9.0)                  Action Crime Drama   When the menace known as the Joker wreaks havoc and chaos on the people of Gotham, Batman must accept one of the greatest psychological and physical tests of his ability to fight injustice. [Christian Bale Heath Ledger Aaron Eckhart Michael Caine]\n",
      " 4 The Godfather: Part II (1974, 202m, 9.0)           Crime Drama          The early life and career of Vito Corleone in 1920s New York City is portrayed, while his son, Michael, expands and tightens his grip on the family crime syndicate. [Al Pacino Robert De Niro Robert Duvall Diane Keaton]\n",
      " 5 12 Angry Men (1957, 96m, 9.0)                      Crime Drama          A jury holdout attempts to prevent a miscarriage of justice by forcing his colleagues to reconsider the evidence. [Henry Fonda Lee J. Cobb Martin Balsam John Fiedler]\n",
      " 6 The Lord of the Rings: The Ret… (2003, 201m, 8.9)  Action Adventure D…  Gandalf and Aragorn lead the World of Men against Sauron's army to draw his gaze from Frodo and Sam as they approach Mount Doom with the One Ring. [Elijah Wood Viggo Mortensen Ian McKellen Orlando Bloom]\n",
      " 7 Pulp Fiction (1994, 154m, 8.9)                     Crime Drama          The lives of two mob hitmen, a boxer, a gangster and his wife, and a pair of diner bandits intertwine in four tales of violence and redemption. [John Travolta Uma Thurman Samuel L. Jackson Bruce Willis]\n",
      " 8 Schindler's List (1993, 195m, 8.9)                 Biography Drama Hi…  In German-occupied Poland during World War II, industrialist Oskar Schindler gradually becomes concerned for his Jewish workforce after witnessing their persecution by the Nazis. [Liam Neeson Ralph Fiennes Ben Kingsley Caroline Goodall]\n",
      " 9 Inception (2010, 148m, 8.8)                        Action Adventure S…  A thief who steals corporate secrets through the use of dream-sharing technology is given the inverse task of planting an idea into the mind of a C.E.O. [Leonardo DiCaprio Joseph Gordon-Levitt Elliot Page Ken Watanabe]\n",
      "10 Fight Club (1999, 139m, 8.8)                       Drama                An insomniac office worker and a devil-may-care soapmaker form an underground fight club that evolves into something much, much more. [Brad Pitt Edward Norton Meat Loaf Zach Grenier]\n"
     ]
    }
   ],
   "source": [
    "cur = db.execute(\"SELECT * FROM document\")\n",
    "for doc in cur.fetchmany(size=10):\n",
    "    print(f\"{doc['id']:>2} {doc_format_imdb(doc)}\")"
   ]
  },
  {
   "cell_type": "markdown",
   "metadata": {},
   "source": [
    "### Print terms"
   ]
  },
  {
   "cell_type": "code",
   "execution_count": 7,
   "metadata": {},
   "outputs": [
    {
     "name": "stdout",
     "output_type": "stream",
     "text": [
      "{'term': 'drama', 'df': 724, 'idf': 0.32258312446054577}\n",
      "{'term': 'comedy', 'df': 233, 'idf': 1.4534336639575192}\n",
      "{'term': 'crime', 'df': 214, 'idf': 1.5381167511875578}\n",
      "{'term': 'adventure', 'df': 198, 'idf': 1.6154499545907282}\n",
      "{'term': 'action', 'df': 191, 'idf': 1.6512594072874391}\n",
      "{'term': 'thriller', 'df': 137, 'idf': 1.9815010941580158}\n",
      "{'term': 'young', 'df': 131, 'idf': 2.02595285672885}\n",
      "{'term': 'romance', 'df': 126, 'idf': 2.064567692856629}\n",
      "{'term': 'man', 'df': 125, 'idf': 2.0724728723637424}\n",
      "{'term': 'family', 'df': 111, 'idf': 2.1902559080201263}\n",
      "{'term': 'biography', 'df': 109, 'idf': 2.2082744135228043}\n",
      "{'term': 'two', 'df': 102, 'idf': 2.274025791085585}\n",
      "{'term': 'mystery', 'df': 100, 'idf': 2.293634262473961}\n",
      "{'term': 'life', 'df': 98, 'idf': 2.3136349291806306}\n",
      "{'term': 'war', 'df': 91, 'idf': 2.3869662022661804}\n",
      "{'term': 'animation', 'df': 82, 'idf': 2.4899141715186226}\n",
      "{'term': 'john', 'df': 82, 'idf': 2.4899141715186226}\n",
      "{'term': 'world', 'df': 77, 'idf': 2.5520459526256287}\n",
      "{'term': 'story', 'df': 72, 'idf': 2.6182953381668295}\n",
      "{'term': 'fantasy', 'df': 68, 'idf': 2.674648274717961}\n"
     ]
    }
   ],
   "source": [
    "cur = db.execute(\"SELECT * FROM vocabulary ORDER BY df DESC\")\n",
    "for term in cur.fetchmany(size=20):\n",
    "    print(term)"
   ]
  },
  {
   "cell_type": "markdown",
   "metadata": {},
   "source": [
    "### Print postings"
   ]
  },
  {
   "cell_type": "code",
   "execution_count": 8,
   "metadata": {},
   "outputs": [
    {
     "name": "stdout",
     "output_type": "stream",
     "text": [
      "{'term': 'shawshank', 'docId': 1, 'tf': 1}\n",
      "{'term': 'redemption', 'docId': 1, 'tf': 2}\n",
      "{'term': 'drama', 'docId': 1, 'tf': 1}\n",
      "{'term': 'tim', 'docId': 1, 'tf': 1}\n",
      "{'term': 'robbins', 'docId': 1, 'tf': 1}\n",
      "{'term': 'morgan', 'docId': 1, 'tf': 1}\n",
      "{'term': 'freeman', 'docId': 1, 'tf': 1}\n",
      "{'term': 'bob', 'docId': 1, 'tf': 1}\n",
      "{'term': 'gunton', 'docId': 1, 'tf': 1}\n",
      "{'term': 'william', 'docId': 1, 'tf': 1}\n",
      "{'term': 'sadler', 'docId': 1, 'tf': 1}\n",
      "{'term': 'two', 'docId': 1, 'tf': 1}\n",
      "{'term': 'imprisoned', 'docId': 1, 'tf': 1}\n",
      "{'term': 'men', 'docId': 1, 'tf': 1}\n",
      "{'term': 'bond', 'docId': 1, 'tf': 1}\n",
      "{'term': 'number', 'docId': 1, 'tf': 1}\n",
      "{'term': 'years', 'docId': 1, 'tf': 1}\n",
      "{'term': 'finding', 'docId': 1, 'tf': 1}\n",
      "{'term': 'solace', 'docId': 1, 'tf': 1}\n",
      "{'term': 'eventual', 'docId': 1, 'tf': 1}\n"
     ]
    }
   ],
   "source": [
    "cur = db.execute(\"SELECT * FROM posting\")\n",
    "for posting in cur.fetchmany(size=20):\n",
    "    print(posting)"
   ]
  },
  {
   "cell_type": "markdown",
   "metadata": {},
   "source": [
    "## Queries"
   ]
  },
  {
   "cell_type": "markdown",
   "metadata": {},
   "source": [
    "### Boolean search: AND with 2 terms"
   ]
  },
  {
   "cell_type": "code",
   "execution_count": 9,
   "metadata": {},
   "outputs": [
    {
     "name": "stdout",
     "output_type": "stream",
     "text": [
      "Star Wars: Episode V - The Emp… (1980, 124m, 8.7)  Action Adventure F…  After the Rebels are brutally overpowered by the Empire on the ice planet Hoth, Luke Skywalker begins Jedi training with Yoda, while his friends are pursued by Darth Vader and a bounty hunter named Boba Fett all over the galaxy. [Mark Hamill Harrison Ford Carrie Fisher Billy Dee Williams]\n",
      "Star Wars (1977, 121m, 8.6)                        Action Adventure F…  Luke Skywalker joins forces with a Jedi Knight, a cocky pilot, a Wookiee and two droids to save the galaxy from the Empire's world-destroying battle station, while also attempting to rescue Princess Leia from the mysterious Darth Vader. [Mark Hamill Harrison Ford Carrie Fisher Alec Guinness]\n",
      "Star Wars: Episode VI - Return… (1983, 131m, 8.3)  Action Adventure F…  After a daring mission to rescue Han Solo from Jabba the Hutt, the Rebels dispatch to Endor to destroy the second Death Star. Meanwhile, Luke struggles to help Darth Vader back from the dark side without falling into the Emperor's trap. [Mark Hamill Harrison Ford Carrie Fisher Billy Dee Williams]\n",
      "Star Wars: Episode VII - The F… (2015, 138m, 7.9)  Action Adventure S…  As a new threat to the galaxy rises, Rey, a desert scavenger, and Finn, an ex-stormtrooper, must join Han Solo and Chewbacca to search for the one hope of restoring peace. [Daisy Ridley John Boyega Oscar Isaac Domhnall Gleeson]\n"
     ]
    }
   ],
   "source": [
    "cur = db.execute(\"\"\"\n",
    "    SELECT d.* \n",
    "      FROM document d, posting a, posting b \n",
    "     WHERE a.term = 'star' AND\n",
    "           b.term = 'wars' AND\n",
    "           a.docId = b.docId AND\n",
    "           a.docId = d.id\n",
    "\"\"\")\n",
    "for doc in cur.fetchmany(size=10):\n",
    "    print(doc_format_imdb(doc))"
   ]
  },
  {
   "cell_type": "markdown",
   "metadata": {},
   "source": [
    "### Boolean search: OR with 2 terms"
   ]
  },
  {
   "cell_type": "code",
   "execution_count": 10,
   "metadata": {},
   "outputs": [
    {
     "name": "stdout",
     "output_type": "stream",
     "text": [
      "Star Wars: Episode V - The Emp… (1980, 124m, 8.7)  Action Adventure F…  After the Rebels are brutally overpowered by the Empire on the ice planet Hoth, Luke Skywalker begins Jedi training with Yoda, while his friends are pursued by Darth Vader and a bounty hunter named Boba Fett all over the galaxy. [Mark Hamill Harrison Ford Carrie Fisher Billy Dee Williams]\n",
      "Star Wars (1977, 121m, 8.6)                        Action Adventure F…  Luke Skywalker joins forces with a Jedi Knight, a cocky pilot, a Wookiee and two droids to save the galaxy from the Empire's world-destroying battle station, while also attempting to rescue Princess Leia from the mysterious Darth Vader. [Mark Hamill Harrison Ford Carrie Fisher Alec Guinness]\n",
      "Sunset Blvd. (1950, 110m, 8.4)                     Drama Film-Noir      A screenwriter develops a dangerous relationship with a faded film star determined to make a triumphant return. [William Holden Gloria Swanson Erich von Stroheim Nancy Olson]\n",
      "Star Wars: Episode VI - Return… (1983, 131m, 8.3)  Action Adventure F…  After a daring mission to rescue Han Solo from Jabba the Hutt, the Rebels dispatch to Endor to destroy the second Death Star. Meanwhile, Luke struggles to help Darth Vader back from the dark side without falling into the Emperor's trap. [Mark Hamill Harrison Ford Carrie Fisher Billy Dee Williams]\n",
      "All About Eve (1950, 138m, 8.2)                    Drama                A seemingly timid but secretly ruthless ingénue insinuates herself into the lives of an aging Broadway star and her circle of theater friends. [Bette Davis Anne Baxter George Sanders Celeste Holm]\n",
      "Pink Floyd: The Wall (1982, 95m, 8.1)              Drama Fantasy Musi…  A confined but troubled rock star descends into madness in the midst of his physical and social isolation from everyone. [Bob Geldof Christine Hargreaves James Laurenson Eleanor David]\n",
      "What Ever Happened to Baby Jan… (1962, 134m, 8.1)  Drama Horror Thril…  A former child star torments her paraplegic sister in their decaying Hollywood mansion. [Bette Davis Joan Crawford Victor Buono Wesley Addy]\n",
      "Nightcrawler (2014, 117m, 7.9)                     Crime Drama Thrill…  When Louis Bloom, a con man desperate for work, muscles into the world of L.A. crime journalism, he blurs the line between observer and participant to become the star of his own story. [Jake Gyllenhaal Rene Russo Bill Paxton Riz Ahmed]\n",
      "Star Wars: Episode VII - The F… (2015, 138m, 7.9)  Action Adventure S…  As a new threat to the galaxy rises, Rey, a desert scavenger, and Finn, an ex-stormtrooper, must join Han Solo and Chewbacca to search for the one hope of restoring peace. [Daisy Ridley John Boyega Oscar Isaac Domhnall Gleeson]\n",
      "The Artist (2011, 100m, 7.9)                       Comedy Drama Roman…  An egomaniacal film star develops a relationship with a young dancer against the backdrop of Hollywood's silent era. [Jean Dujardin Bérénice Bejo John Goodman James Cromwell]\n"
     ]
    }
   ],
   "source": [
    "cur = db.execute(\"\"\"\n",
    "    SELECT d.* \n",
    "      FROM document d, posting a \n",
    "     WHERE a.term IN ('star', 'wars') AND\n",
    "           a.docId = d.id\n",
    "\"\"\")\n",
    "for doc in cur.fetchmany(size=10):\n",
    "    print(doc_format_imdb(doc))"
   ]
  },
  {
   "cell_type": "markdown",
   "metadata": {},
   "source": [
    "### Boolean search: AND with arbitrary number of terms"
   ]
  },
  {
   "cell_type": "code",
   "execution_count": 11,
   "metadata": {},
   "outputs": [
    {
     "data": {
      "application/vnd.jupyter.widget-view+json": {
       "model_id": "9096c92a3a1644d3b970766f878c9c0a",
       "version_major": 2,
       "version_minor": 0
      },
      "text/plain": [
       "interactive(children=(Dropdown(description='query', options=('star wars', 'drama morgan freeman', 'comedy'), v…"
      ]
     },
     "metadata": {},
     "output_type": "display_data"
    }
   ],
   "source": [
    "def search_bool(query: str, k: int):\n",
    "    query_vector = get_vector(query)\n",
    "    db.execute(\"DELETE FROM query\")\n",
    "    db.executemany(\"INSERT INTO query(term, tf) VALUES(?,?)\", [(term, tf) for term, tf in query_vector.items()])\n",
    "    cur = db.execute(\"\"\"\n",
    "        SELECT d.* \n",
    "          FROM document d, posting p, query q \n",
    "         WHERE p.term = q.term AND\n",
    "               p.docId = d.id\n",
    "      GROUP BY p.docId\n",
    "        HAVING COUNT(p.term) = (SELECT COUNT(*) FROM query)\n",
    "    \"\"\")\n",
    "    print(\"\\n    r   id   document\\n\" + '-'*160)\n",
    "    for rank, doc in enumerate(cur.fetchmany(size=k)):\n",
    "        print('  {rank:>3d} {id:>4d}   {doc}'.format(rank=rank + 1, id=doc['id'], doc=doc_format_imdb(doc)))\n",
    "    db.commit()\n",
    "\n",
    "# options for the dialog\n",
    "queries = ['star wars', 'drama morgan freeman', 'comedy']\n",
    "\n",
    "# interactive selection of scenario\n",
    "widgets.interact(search_bool, \n",
    "    query=widgets.Dropdown(options=queries), \n",
    "    k=widgets.IntSlider(min=5, max=50, step=5, value=20),\n",
    ");"
   ]
  },
  {
   "cell_type": "markdown",
   "metadata": {},
   "source": [
    "### Boolean search: OR with arbitrary number of terms"
   ]
  },
  {
   "cell_type": "code",
   "execution_count": 12,
   "metadata": {},
   "outputs": [
    {
     "data": {
      "application/vnd.jupyter.widget-view+json": {
       "model_id": "07907adf1b25439e8a9ffc91047b9178",
       "version_major": 2,
       "version_minor": 0
      },
      "text/plain": [
       "interactive(children=(Dropdown(description='query', options=('star wars', 'drama morgan freeman', 'comedy'), v…"
      ]
     },
     "metadata": {},
     "output_type": "display_data"
    }
   ],
   "source": [
    "\n",
    "def search_bool(query: str, k: int):\n",
    "    query_vector = get_vector(query)\n",
    "    db.execute(\"DELETE FROM query\")\n",
    "    db.executemany(\"INSERT INTO query(term, tf) VALUES(?,?)\", [(term, tf) for term, tf in query_vector.items()])\n",
    "    cur = db.execute(\"\"\"\n",
    "        SELECT d.* \n",
    "          FROM document d, posting p, query q \n",
    "         WHERE p.term = q.term AND\n",
    "               p.docId = d.id\n",
    "      GROUP BY p.docId\n",
    "    \"\"\")\n",
    "    print(\"\\n    r   id   document\\n\" + '-'*160)\n",
    "    for rank, doc in enumerate(cur.fetchmany(size=k)):\n",
    "        print('  {rank:>3d} {id:>4d}   {doc}'.format(rank=rank + 1, id=doc['id'], doc=doc_format_imdb(doc)))\n",
    "    db.commit()\n",
    "\n",
    "# options for the dialog\n",
    "queries = ['star wars', 'drama morgan freeman', 'comedy']\n",
    "\n",
    "# interactive selection of scenario\n",
    "widgets.interact(search_bool, \n",
    "    query=widgets.Dropdown(options=queries), \n",
    "    k=widgets.IntSlider(min=5, max=50, step=5, value=20),\n",
    ");"
   ]
  },
  {
   "cell_type": "markdown",
   "metadata": {},
   "source": [
    "### Vector Space Model with dot-product"
   ]
  },
  {
   "cell_type": "code",
   "execution_count": 13,
   "metadata": {},
   "outputs": [
    {
     "data": {
      "application/vnd.jupyter.widget-view+json": {
       "model_id": "708051ba880f46d0907d38cc355401f1",
       "version_major": 2,
       "version_minor": 0
      },
      "text/plain": [
       "interactive(children=(Dropdown(description='query', options=('star wars', 'drama morgan freeman', 'comedy'), v…"
      ]
     },
     "metadata": {},
     "output_type": "display_data"
    }
   ],
   "source": [
    "def search_vsm(query: str, k: int):\n",
    "    query_vector = get_vector(query)\n",
    "    db.execute(\"DELETE FROM query\")\n",
    "    db.executemany(\"INSERT INTO query(term, tf) VALUES(?,?)\", [(term, tf) for term, tf in query_vector.items()])\n",
    "    cur = db.execute(\"\"\"\n",
    "        SELECT SUM(p.tf * v.idf * q.tf * v.idf) AS score, d.*\n",
    "          FROM document d, posting p, query q, vocabulary v\n",
    "         WHERE p.term = q.term AND\n",
    "               p.term = v.term AND\n",
    "               p.docId = d.id\n",
    "      GROUP BY p.docId\n",
    "      ORDER BY 1 DESC\n",
    "    \"\"\")\n",
    "    print(\"\\n    r   id  score  document\\n\" + '-'*160)\n",
    "    for rank, doc in enumerate(cur.fetchmany(size=k)):\n",
    "        print('  {rank:>3d} {id:>4d} ({score:5.1f})  {doc}'.format(rank=rank + 1, id=doc['id'], score=doc['score'], doc=doc_format_imdb(doc)))\n",
    "    db.commit()\n",
    "\n",
    "# options for the dialog\n",
    "queries = ['star wars', 'drama morgan freeman', 'comedy']\n",
    "\n",
    "# interactive selection of scenario\n",
    "widgets.interact(search_vsm, \n",
    "    query=widgets.Dropdown(options=queries), \n",
    "    k=widgets.IntSlider(min=5, max=50, step=5, value=20),\n",
    ");"
   ]
  },
  {
   "cell_type": "markdown",
   "metadata": {},
   "source": [
    "### Vector Space Model with dot-product with predicate (year > 1990)"
   ]
  },
  {
   "cell_type": "code",
   "execution_count": 14,
   "metadata": {},
   "outputs": [
    {
     "data": {
      "application/vnd.jupyter.widget-view+json": {
       "model_id": "9746d9b09ace458e9e6a1fc54d042811",
       "version_major": 2,
       "version_minor": 0
      },
      "text/plain": [
       "interactive(children=(Dropdown(description='query', options=('star wars', 'drama morgan freeman', 'comedy'), v…"
      ]
     },
     "metadata": {},
     "output_type": "display_data"
    }
   ],
   "source": [
    "def search_vsm(query: str, k: int):\n",
    "    query_vector = get_vector(query)\n",
    "    db.execute(\"DELETE FROM query\")\n",
    "    db.executemany(\"INSERT INTO query(term, tf) VALUES(?,?)\", [(term, tf) for term, tf in query_vector.items()])\n",
    "    cur = db.execute(\"\"\"\n",
    "        SELECT SUM(p.tf * v.idf * q.tf * v.idf) AS score, d.*\n",
    "          FROM document d, posting p, query q, vocabulary v\n",
    "         WHERE p.term = q.term AND\n",
    "               p.term = v.term AND\n",
    "               p.docId = d.id AND\n",
    "               d.year > 1990\n",
    "      GROUP BY p.docId\n",
    "      ORDER BY 1 DESC\n",
    "    \"\"\")\n",
    "    print(\"\\n    r   id  score  document\\n\" + '-'*160)\n",
    "    for rank, doc in enumerate(cur.fetchmany(size=k)):\n",
    "        print('  {rank:>3d} {id:>4d} ({score:5.1f})  {doc}'.format(rank=rank + 1, id=doc['id'], score=doc['score'], doc=doc_format_imdb(doc)))\n",
    "    db.commit()\n",
    "\n",
    "# options for the dialog\n",
    "queries = ['star wars', 'drama morgan freeman', 'comedy']\n",
    "\n",
    "# interactive selection of scenario\n",
    "widgets.interact(search_vsm, \n",
    "    query=widgets.Dropdown(options=queries), \n",
    "    k=widgets.IntSlider(min=5, max=50, step=5, value=20),\n",
    ");"
   ]
  },
  {
   "cell_type": "markdown",
   "metadata": {},
   "source": [
    "---"
   ]
  }
 ],
 "metadata": {
  "kernelspec": {
   "display_name": ".venv",
   "language": "python",
   "name": "python3"
  },
  "language_info": {
   "codemirror_mode": {
    "name": "ipython",
    "version": 3
   },
   "file_extension": ".py",
   "mimetype": "text/x-python",
   "name": "python",
   "nbconvert_exporter": "python",
   "pygments_lexer": "ipython3",
   "version": "3.12.3"
  },
  "orig_nbformat": 4
 },
 "nbformat": 4,
 "nbformat_minor": 2
}
