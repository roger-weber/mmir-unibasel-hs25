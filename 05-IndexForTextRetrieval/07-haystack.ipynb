{
 "cells": [
  {
   "cell_type": "markdown",
   "id": "be2861f9",
   "metadata": {},
   "source": [
    "Run first the [setup notebook](./00-setup.ipynb)"
   ]
  },
  {
   "cell_type": "markdown",
   "id": "01f97a95",
   "metadata": {},
   "source": [
    "# Simple text retrieval with Woosh"
   ]
  },
  {
   "cell_type": "code",
   "execution_count": 1,
   "id": "83aff9a9",
   "metadata": {},
   "outputs": [],
   "source": [
    "from haystack import Document\n",
    "from haystack.components.retrievers.in_memory import InMemoryBM25Retriever\n",
    "from haystack.document_stores.in_memory import InMemoryDocumentStore\n",
    "from datasets import imdb"
   ]
  },
  {
   "cell_type": "markdown",
   "id": "c11fa4b5",
   "metadata": {},
   "source": [
    "## Connect to a document store\n",
    "\n",
    "We use an in-memory document store here, but you can choose from various document store options as documented at: https://docs.haystack.deepset.ai/docs/document-store\n"
   ]
  },
  {
   "cell_type": "code",
   "execution_count": 2,
   "id": "e82f8491",
   "metadata": {},
   "outputs": [],
   "source": [
    "# --- Create an in-memory document store ---\n",
    "document_store = InMemoryDocumentStore()"
   ]
  },
  {
   "cell_type": "markdown",
   "id": "7aeaba39",
   "metadata": {},
   "source": [
    "## Load the IMDB data set"
   ]
  },
  {
   "cell_type": "code",
   "execution_count": null,
   "id": "e4adb6f8",
   "metadata": {},
   "outputs": [
    {
     "name": "stdout",
     "output_type": "stream",
     "text": [
      "The Shawshank Redemption (1994, 142m, 9.3)         Drama                Two imprisoned men bond over a number of years, finding solace and eventual redemption through acts of common decency. [Tim Robbins Morgan Freeman Bob Gunton William Sadler]\n",
      "The Godfather (1972, 175m, 9.2)                    Crime Drama          An organized crime dynasty's aging patriarch transfers control of his clandestine empire to his reluctant son. [Marlon Brando Al Pacino James Caan Diane Keaton]\n",
      "The Dark Knight (2008, 152m, 9.0)                  Action Crime Drama   When the menace known as the Joker wreaks havoc and chaos on the people of Gotham, Batman must accept one of the greatest psychological and physical tests of his ability to fight injustice. [Christian Bale Heath Ledger Aaron Eckhart Michael Caine]\n",
      "The Godfather: Part II (1974, 202m, 9.0)           Crime Drama          The early life and career of Vito Corleone in 1920s New York City is portrayed, while his son, Michael, expands and tightens his grip on the family crime syndicate. [Al Pacino Robert De Niro Robert Duvall Diane Keaton]\n",
      "12 Angry Men (1957, 96m, 9.0)                      Crime Drama          A jury holdout attempts to prevent a miscarriage of justice by forcing his colleagues to reconsider the evidence. [Henry Fonda Lee J. Cobb Martin Balsam John Fiedler]\n"
     ]
    },
    {
     "data": {
      "text/plain": [
       "{'title': 'The Shawshank Redemption',\n",
       " 'year': 1994,\n",
       " 'runtime': 142,\n",
       " 'rating': 9.3,\n",
       " 'genre': 'Drama',\n",
       " 'actors': 'Tim Robbins Morgan Freeman Bob Gunton William Sadler',\n",
       " 'summary': 'Two imprisoned men bond over a number of years, finding solace and eventual redemption through acts of common decency.'}"
      ]
     },
     "execution_count": 3,
     "metadata": {},
     "output_type": "execute_result"
    }
   ],
   "source": [
    "# --- loading the imdb data set (1000 movies) ---\n",
    "collection = imdb.load()\n",
    "def doc_format_imdb(doc: dict) -> str:\n",
    "    trim = lambda s,n: len(s) > n and s[:n] + \"\\u2026\" or s\n",
    "    title_ex = '{title_short} ({year}, {runtime}m, {rating})'.format(title_short=trim(doc['title'], 30), **doc)\n",
    "    return '{title_ex:<50} {genre_short:<20} {summary} [{actors}]'.format(title_ex=title_ex, genre_short=trim(doc['genre'], 18), **doc)\n",
    "\n",
    "for item in collection[:5]:\n",
    "    print(doc_format_imdb(item))\n",
    "\n",
    "collection[0]"
   ]
  },
  {
   "cell_type": "markdown",
   "id": "ec4ba2f2",
   "metadata": {},
   "source": [
    "## Loda the data to the document store"
   ]
  },
  {
   "cell_type": "code",
   "execution_count": null,
   "id": "21eb2a42",
   "metadata": {},
   "outputs": [
    {
     "data": {
      "text/plain": [
       "1000"
      ]
     },
     "execution_count": 6,
     "metadata": {},
     "output_type": "execute_result"
    }
   ],
   "source": [
    "# --- Assuming 'collection' is a list of dictionaries with keys: title, summary, year, rating\n",
    "\n",
    "movies_documents = [\n",
    "    Document(\n",
    "        content=f\"{m['title']} {m['summary']}\",\n",
    "        meta={\"id\": id, \"title\": m['title'], \"year\": m['year'], \"rating\": m['rating']}\n",
    "    )\n",
    "    for id, m in enumerate(collection)\n",
    "]\n",
    "\n",
    "document_store.write_documents(movies_documents)"
   ]
  },
  {
   "cell_type": "markdown",
   "id": "01280d76",
   "metadata": {},
   "source": [
    "## Create a retriever for the chosen document store\n",
    "\n",
    "We use an in-memory retriever implementing BM25. Document stores offer different types of retrievers that support keyword search or embedding search. For more details, see the documentation: https://docs.haystack.deepset.ai/docs/retrievers\n"
   ]
  },
  {
   "cell_type": "code",
   "execution_count": null,
   "id": "5cebf43a",
   "metadata": {},
   "outputs": [],
   "source": [
    "# --- Create a BM25 retriever ---\n",
    "retriever = InMemoryBM25Retriever(document_store=document_store, top_k=10)"
   ]
  },
  {
   "cell_type": "markdown",
   "id": "5fb01839",
   "metadata": {},
   "source": [
    "## Search for a movie"
   ]
  },
  {
   "cell_type": "code",
   "execution_count": 8,
   "id": "9d8d712d",
   "metadata": {},
   "outputs": [
    {
     "name": "stdout",
     "output_type": "stream",
     "text": [
      "Star Wars: Episode VI - Return of the Jedi (1983) - Rating: 8.3\n",
      "Star Wars (1977) - Rating: 8.6\n",
      "Star Wars: Episode V - The Empire Strikes Back (1980) - Rating: 8.7\n",
      "Sunset Blvd. (1950) - Rating: 8.4\n",
      "Being John Malkovich (1999) - Rating: 7.7\n",
      "What Ever Happened to Baby Jane? (1962) - Rating: 8.1\n",
      "Strangers on a Train (1951) - Rating: 7.9\n",
      "Pink Floyd: The Wall (1982) - Rating: 8.1\n",
      "All About Eve (1950) - Rating: 8.2\n",
      "Star Trek II: The Wrath of Khan (1982) - Rating: 7.7\n"
     ]
    }
   ],
   "source": [
    "# --- Search for \"Star Wars\" before year 2000 using BM25 across title & overview ---\n",
    "\n",
    "results = retriever.run(\n",
    "    query=\"Star Wars\",\n",
    "    filters={\"field\": \"meta.year\", \"operator\": \"<\", \"value\": 2000}\n",
    ")\n",
    "\n",
    "for r in results['documents']:\n",
    "    print(f\"{r.meta['title']} ({r.meta['year']}) - Rating: {r.meta['rating']}\")\n"
   ]
  },
  {
   "cell_type": "markdown",
   "id": "62f1dead",
   "metadata": {},
   "source": [
    "---"
   ]
  }
 ],
 "metadata": {
  "kernelspec": {
   "display_name": ".venv",
   "language": "python",
   "name": "python3"
  },
  "language_info": {
   "codemirror_mode": {
    "name": "ipython",
    "version": 3
   },
   "file_extension": ".py",
   "mimetype": "text/x-python",
   "name": "python",
   "nbconvert_exporter": "python",
   "pygments_lexer": "ipython3",
   "version": "3.12.3"
  }
 },
 "nbformat": 4,
 "nbformat_minor": 5
}
