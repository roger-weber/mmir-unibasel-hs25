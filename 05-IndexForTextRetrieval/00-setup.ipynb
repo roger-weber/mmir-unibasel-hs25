{
 "cells": [
  {
   "cell_type": "code",
   "execution_count": 8,
   "id": "c728699a",
   "metadata": {},
   "outputs": [
    {
     "name": "stdout",
     "output_type": "stream",
     "text": [
      "Note: you may need to restart the kernel to use updated packages.\n",
      "Note: you may need to restart the kernel to use updated packages.\n"
     ]
    }
   ],
   "source": [
    "%pip install --quiet --upgrade pip\n",
    "%pip install -q -r requirements.txt"
   ]
  },
  {
   "cell_type": "markdown",
   "id": "cf71e69c",
   "metadata": {},
   "source": [
    "---\n",
    "\n",
    "**install additional kernel for jupyter**\n",
    "\n",
    "[Ganymede](https://github.com/allen-ball/ganymede): JShell Kernel for notebooks\n",
    "- download the jar `ganymede-nnn.jar`\n",
    "- install the new kernel `java -jar ganymede-nnn.jar -i`\n",
    "- restart jupyter notebook / VSCode\n",
    "- open notebook and select ganymede kernel\n",
    "- use `%%pom` to load 3rd party libraries\n",
    "\n",
    "```pom\n",
    "    %%pom\n",
    "    dependencies:\n",
    "    - org.apache.lucene:lucene-core:LATEST\n",
    "    - org.apache.lucene:lucene-analyzers-common:LATEST\n",
    "    - org.apache.lucene:lucene-queryparser:LATEST\n",
    "```"
   ]
  },
  {
   "cell_type": "markdown",
   "id": "1d3fdeb5",
   "metadata": {},
   "source": [
    "---\n",
    "\n",
    "Install PostgreSQL locally: [download](https://www.postgresql.org/download/)"
   ]
  },
  {
   "cell_type": "markdown",
   "id": "78b9c43a",
   "metadata": {},
   "source": [
    "---"
   ]
  }
 ],
 "metadata": {
  "kernelspec": {
   "display_name": ".venv",
   "language": "python",
   "name": "python3"
  },
  "language_info": {
   "codemirror_mode": {
    "name": "ipython",
    "version": 3
   },
   "file_extension": ".py",
   "mimetype": "text/x-python",
   "name": "python",
   "nbconvert_exporter": "python",
   "pygments_lexer": "ipython3",
   "version": "3.12.3"
  }
 },
 "nbformat": 4,
 "nbformat_minor": 5
}
