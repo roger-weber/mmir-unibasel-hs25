{
 "cells": [
  {
   "cell_type": "markdown",
   "metadata": {},
   "source": [
    "Run first the [setup notebook](./00-setup.ipynb)"
   ]
  },
  {
   "cell_type": "markdown",
   "metadata": {},
   "source": [
    "# Vector Space Retrieval"
   ]
  },
  {
   "cell_type": "code",
   "execution_count": 2,
   "metadata": {},
   "outputs": [],
   "source": [
    "from helpers import print_table\n",
    "from vectorspace import VSRetriever, TopKList, VSRetriever_TAAT, VSRetriever_DAAT\n",
    "from datasets import imdb as collection\n",
    "import ipywidgets as widgets\n",
    "import random\n",
    "import math\n",
    "from itertools import islice\n",
    "from typing import Callable\n",
    "from helpers import set_of_words\n",
    "from collections import defaultdict\n",
    "from functools import reduce\n",
    "from IPython.display import clear_output"
   ]
  },
  {
   "cell_type": "markdown",
   "metadata": {},
   "source": [
    "## IMDB data set"
   ]
  },
  {
   "cell_type": "code",
   "execution_count": 3,
   "metadata": {},
   "outputs": [
    {
     "data": {
      "text/markdown": [
       "|   id | title                           |   year |   runtime |   rating | genre                 | actors                          | summary                                                                                               |\n",
       "|-----:|:--------------------------------|-------:|----------:|---------:|:----------------------|:--------------------------------|:------------------------------------------------------------------------------------------------------|\n",
       "|    1 | The Shawshank Redemption        |   1994 |       142 |      9.3 | Drama                 | Tim Robbins Morgan Freeman Bob… | Two imprisoned men bond over a number of years, finding solace and eventual redemption through acts … |\n",
       "|    2 | The Godfather                   |   1972 |       175 |      9.2 | Crime Drama           | Marlon Brando Al Pacino James … | An organized crime dynasty's aging patriarch transfers control of his clandestine empire to his relu… |\n",
       "|    3 | The Dark Knight                 |   2008 |       152 |      9   | Action Crime Drama    | Christian Bale Heath Ledger Aa… | When the menace known as the Joker wreaks havoc and chaos on the people of Gotham, Batman must accep… |\n",
       "|    4 | The Godfather: Part II          |   1974 |       202 |      9   | Crime Drama           | Al Pacino Robert De Niro Rober… | The early life and career of Vito Corleone in 1920s New York City is portrayed, while his son, Micha… |\n",
       "|    5 | 12 Angry Men                    |   1957 |        96 |      9   | Crime Drama           | Henry Fonda Lee J. Cobb Martin… | A jury holdout attempts to prevent a miscarriage of justice by forcing his colleagues to reconsider … |\n",
       "|    6 | The Lord of the Rings: The Ret… |   2003 |       201 |      8.9 | Action Adventure Dra… | Elijah Wood Viggo Mortensen Ia… | Gandalf and Aragorn lead the World of Men against Sauron's army to draw his gaze from Frodo and Sam … |\n",
       "|    7 | Pulp Fiction                    |   1994 |       154 |      8.9 | Crime Drama           | John Travolta Uma Thurman Samu… | The lives of two mob hitmen, a boxer, a gangster and his wife, and a pair of diner bandits intertwin… |\n",
       "|    8 | Schindler's List                |   1993 |       195 |      8.9 | Biography Drama Hist… | Liam Neeson Ralph Fiennes Ben … | In German-occupied Poland during World War II, industrialist Oskar Schindler gradually becomes conce… |\n",
       "|    9 | Inception                       |   2010 |       148 |      8.8 | Action Adventure Sci… | Leonardo DiCaprio Joseph Gordo… | A thief who steals corporate secrets through the use of dream-sharing technology is given the invers… |\n",
       "|   10 | Fight Club                      |   1999 |       139 |      8.8 | Drama                 | Brad Pitt Edward Norton Meat L… | An insomniac office worker and a devil-may-care soapmaker form an underground fight club that evolve… |"
      ],
      "text/plain": [
       "<IPython.core.display.Markdown object>"
      ]
     },
     "metadata": {},
     "output_type": "display_data"
    },
    {
     "data": {
      "text/markdown": [
       "| term       |   df |   idf | posting                                                                                       |\n",
       "|:-----------|-----:|------:|:----------------------------------------------------------------------------------------------|\n",
       "| ito        |    1 |  6.22 | 295 (6.22)                                                                                    |\n",
       "| manhunt    |    4 |  5.3  | 126 (5.3), 471 (5.3), 664 (5.3), 747 (5.3)                                                    |\n",
       "| turns      |    5 |  5.12 | 95 (5.12), 406 (5.12), 594 (5.12), 923 (5.12), 989 (5.12)                                     |\n",
       "| lengthy    |    2 |  5.81 | 588 (5.81), 878 (5.81)                                                                        |\n",
       "| instead    |    1 |  6.22 | 152 (6.22)                                                                                    |\n",
       "| volatile   |    1 |  6.22 | 912 (6.22)                                                                                    |\n",
       "| lunchbox   |    1 |  6.22 | 591 (18.65)                                                                                   |\n",
       "| tsurumaki  |    1 |  6.22 | 247 (6.22)                                                                                    |\n",
       "| harring    |    1 |  6.22 | 516 (6.22)                                                                                    |\n",
       "| scraping   |    1 |  6.22 | 277 (6.22)                                                                                    |\n",
       "| detachment |    1 |  6.22 | 743 (6.22)                                                                                    |\n",
       "| franky     |    1 |  6.22 | 466 (6.22)                                                                                    |\n",
       "| sondra     |    1 |  6.22 | 692 (6.22)                                                                                    |\n",
       "| daveigh    |    1 |  6.22 | 24 (6.22)                                                                                     |\n",
       "| bibi       |    2 |  5.81 | 185 (5.81), 290 (5.81)                                                                        |\n",
       "| reclaim    |    3 |  5.52 | 521 (5.52), 610 (5.52), 619 (5.52)                                                            |\n",
       "| aragorn    |    1 |  6.22 | 6 (6.22)                                                                                      |\n",
       "| island     |    8 |  4.71 | 98 (4.71), 146 (4.71), 196 (4.71), 419 (4.71), 567 (4.71), 648 (4.71), 851 (4.71), 893 (4.71) |\n",
       "| klondike   |    1 |  6.22 | 194 (6.22)                                                                                    |\n",
       "| holiday    |    3 |  5.52 | 136 (5.52), 447 (5.52), 831 (5.52)                                                            |"
      ],
      "text/plain": [
       "<IPython.core.display.Markdown object>"
      ]
     },
     "metadata": {},
     "output_type": "display_data"
    },
    {
     "name": "stdout",
     "output_type": "stream",
     "text": [
      "1000 documents in collection\n",
      "9836 distinct terms in collection\n",
      "26200 postings\n"
     ]
    }
   ],
   "source": [
    "# load data set and index collection for boolean retrieval\n",
    "retriever = VSRetriever(collection.load())\n",
    "\n",
    "# show collection\n",
    "n, m = min(10, retriever.n_docs), min(20, retriever.n_terms)\n",
    "\n",
    "print_table([collection.format(doc) for doc in retriever.documents.values()], collection.headers(), max_rows = n)\n",
    "print_table(random.sample([[term, term_data['df'], round(term_data['idf'], 2), ', '.join([f'{doc_id} ({round(w, 2)})' for doc_id, w in retriever.index[term]])] for term, term_data in retriever.vocabulary.items()], m), ['term', 'df', 'idf', 'posting'], max_rows=m)\n",
    "\n",
    "print(f'{len(retriever.documents)} documents in collection')\n",
    "print(f'{len(retriever.vocabulary)} distinct terms in collection')\n",
    "print('{count} postings'.format(count=sum([len(postings) for postings in retriever.index.values()])))"
   ]
  },
  {
   "cell_type": "markdown",
   "metadata": {},
   "source": [
    "### IDF implementations and BM25 parameters\n",
    "BM25 parameters are typically `k=1.2` and `b=0.75`, while `adl` must be set from the collection. If we leave `adl=None`, the term normalization does not take document length into account (which is ok if documents in the collection have about equal length)"
   ]
  },
  {
   "cell_type": "code",
   "execution_count": 4,
   "metadata": {},
   "outputs": [],
   "source": [
    "BM25 = { 'k': 1.2, 'b': 0.75, 'adl': None }\n",
    "\n",
    "def idf(doc_freq: int, num_docs: int) -> float:\n",
    "    return math.log((num_docs + 1) / (doc_freq + 1))\n",
    "\n",
    "def idf_bm25(doc_freq: int, num_docs: int) -> float:\n",
    "    return math.log((num_docs - doc_freq + 0.5) / (doc_freq + 0.5))\n",
    "    \n",
    "def idf_bm25_pos(doc_freq: int, num_docs: int) -> float:\n",
    "    return math.log((num_docs + 1) / (doc_freq + 0.5))"
   ]
  },
  {
   "cell_type": "markdown",
   "metadata": {},
   "source": [
    "### TF normalization functions\n",
    "We apply document normalization at index building time. We also use normalized query vectors so that similarity becomes a simple dot product between document and query vector. The function below performs term normalization for documents given a bag-of-word and a vocabulary. The vocabulary maps a term to a dictionary that holds the idf values for the dot-product and cosine measure. "
   ]
  },
  {
   "cell_type": "code",
   "execution_count": 5,
   "metadata": {},
   "outputs": [],
   "source": [
    "def normalize_doc_vector(vector: dict[str, int], vocabulary: dict[str, dict], measure: str) -> dict[str, float]:\n",
    "    # dot-product: multiply each term's tf by its idf\n",
    "    if measure == 'dot':\n",
    "        return {term: tf * vocabulary[term]['idf'] for term,tf in vector.items()}\n",
    "\n",
    "    # cosine-measure: multiply each term's tf by its idf and divide by total vector length\n",
    "    if measure == 'cosine':\n",
    "        norm = sum([(tf * vocabulary[term]['idf']) ** 2 for term, tf in vector.items()]) ** 0.5\n",
    "        return {term: tf * vocabulary[term]['idf'] / norm for term, tf in vector.items()}\n",
    "\n",
    "    # bm25: normalize with bm25 formula with document length\n",
    "    if measure in ['bm25', 'bm25-pos'] and BM25['adl']:\n",
    "        doc_len = sum(vector.values())\n",
    "        return {term: tf * (BM25['k'] + 1) / (tf + BM25['k'] * (1 - BM25['b'] + BM25['b'] * doc_len / BM25['adl']))  for term, tf in vector.items()}\n",
    "\n",
    "    # bm25: normalize with bm25 formula without document length\n",
    "    if measure in ['bm25', 'bm25-nolen', 'bm25-pos']:\n",
    "        return {term: tf * (BM25['k'] + 1) / (tf + BM25['k'])  for term, tf in vector.items()}\n",
    "\n",
    "    raise ValueError('Unknown normalization measure')"
   ]
  },
  {
   "cell_type": "markdown",
   "metadata": {},
   "source": [
    "### Build the index"
   ]
  },
  {
   "cell_type": "code",
   "execution_count": 6,
   "metadata": {},
   "outputs": [],
   "source": [
    "# defines query, predicates, and assessments for demo\n",
    "queries = [\n",
    "    'star wars', \n",
    "    'drama morgan freeman', \n",
    "    'comedy'\n",
    "]\n",
    "assessments = {\n",
    "    'top-100': lambda id: id < 100,\n",
    "    'star in title': lambda id: 'star' in retriever.documents[id]['title'].lower(),\n",
    "    'morgan in actor': lambda id: 'morgan' in retriever.documents[id]['actors'].lower(),\n",
    "    'comedy in genre': lambda id: 'comedy' in retriever.documents[id]['genre'].lower(),\n",
    "}\n",
    "predicates = {\n",
    "    'year < 1990': lambda id: retriever.documents[id]['year'] < 1990,\n",
    "    'year >= 1990': lambda id: retriever.documents[id]['year'] >= 1990,\n",
    "}\n",
    "selections = {\n",
    "    'top-100': list(range(100)),\n",
    "    'top-250': list(range(250)),\n",
    "}\n",
    "\n",
    "def print_topk(topk: TopKList):\n",
    "    list = []\n",
    "    for entry in topk:\n",
    "        list.append(collection.format(retriever.documents[entry['id']], [\n",
    "            entry['rank'],\n",
    "            round(entry['score'], 2)\n",
    "        ]))\n",
    "    print_table(list, collection.headers('rel', 'score'), max_rows=len(list))\n",
    "\n",
    "retriever = VSRetriever_DAAT()"
   ]
  },
  {
   "cell_type": "markdown",
   "metadata": {},
   "source": [
    "### Search with feedback iterations"
   ]
  },
  {
   "cell_type": "code",
   "execution_count": 7,
   "metadata": {},
   "outputs": [
    {
     "data": {
      "application/vnd.jupyter.widget-view+json": {
       "model_id": "0a2d634b11d441749309752b0ef8035d",
       "version_major": 2,
       "version_minor": 0
      },
      "text/plain": [
       "VBox(children=(HBox(children=(Dropdown(options=('dot', 'cosine', 'bm25', 'bm25-pos', 'bm25-nolen'), value='dot…"
      ]
     },
     "metadata": {},
     "output_type": "display_data"
    }
   ],
   "source": [
    "# remove handlers if we re-execute this cell, need to do this before we overwrite function\n",
    "try:\n",
    "    opt_measure.unobserve(rebuild_dataset, 'value')\n",
    "except:\n",
    "    pass\n",
    "\n",
    "def run_query(query: str, k:int, predicate: str, selection: str):\n",
    "    topk = retriever.search(query, k, measure=opt_measure.value, predicate=predicates.get(predicate, None), selected_docs=selections.get(selection, None))\n",
    "    print_topk(topk)\n",
    "    for term in sorted(topk.weights.keys(), key = lambda term: -topk.weights[term]):\n",
    "        print(term.rjust(16), topk.weights[term])\n",
    "\n",
    "def rebuild_dataset(*args):\n",
    "    retriever.build_index(collection.load(), opt_measure.value, remove_stopwords=True)\n",
    "    f_query.options = list(queries)\n",
    "    f_predicate.options = ['<none>'] + list(predicates.keys())\n",
    "    f_selection.options = ['<none>'] + list(selections.keys())\n",
    "    k = f_k.value\n",
    "    f_k.value = 0\n",
    "    f_k.value = k\n",
    "\n",
    "# build the dataset widgets\n",
    "opt_measure = widgets.Dropdown(options=['dot', 'cosine', 'bm25', 'bm25-pos', 'bm25-nolen'])\n",
    "form_data = widgets.HBox([opt_measure], layout = {'margin': '0px 0px 20px'})\n",
    "opt_measure.observe(rebuild_dataset, 'value')\n",
    "\n",
    "# build query form\n",
    "f_query = widgets.Dropdown(description='query', options=list(queries))\n",
    "f_k = widgets.IntSlider(min=5, max=50, step=5, value=20)\n",
    "f_predicate = widgets.Dropdown(description='predicate',options=['<none>'] + list(predicates.keys()))\n",
    "f_selection = widgets.Dropdown(description='selection',options=['<none>'] + list(selections.keys()))\n",
    "form_query = widgets.interactive(run_query, query=f_query, k=f_k, predicate=f_predicate, selection=f_selection)\n",
    "\n",
    "# display\n",
    "rebuild_dataset()\n",
    "display(widgets.VBox([form_data, form_query]))"
   ]
  },
  {
   "cell_type": "markdown",
   "metadata": {},
   "source": [
    "---"
   ]
  }
 ],
 "metadata": {
  "kernelspec": {
   "display_name": ".venv",
   "language": "python",
   "name": "python3"
  },
  "language_info": {
   "codemirror_mode": {
    "name": "ipython",
    "version": 3
   },
   "file_extension": ".py",
   "mimetype": "text/x-python",
   "name": "python",
   "nbconvert_exporter": "python",
   "pygments_lexer": "ipython3",
   "version": "3.12.3"
  }
 },
 "nbformat": 4,
 "nbformat_minor": 2
}
