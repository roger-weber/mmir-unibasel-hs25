{
 "cells": [
  {
   "cell_type": "markdown",
   "id": "be2861f9",
   "metadata": {},
   "source": [
    "Run first the [setup notebook](./00-setup.ipynb)"
   ]
  },
  {
   "cell_type": "markdown",
   "id": "01f97a95",
   "metadata": {},
   "source": [
    "# Simple text retrieval with Woosh"
   ]
  },
  {
   "cell_type": "code",
   "execution_count": 7,
   "id": "83aff9a9",
   "metadata": {},
   "outputs": [],
   "source": [
    "from whoosh import index\n",
    "from whoosh.fields import Schema, TEXT, ID, NUMERIC\n",
    "from whoosh.qparser import MultifieldParser\n",
    "from whoosh.query import And, NumericRange\n",
    "from whoosh import scoring\n",
    "import os, shutil\n",
    "from datasets import imdb\n",
    "import ipywidgets as widgets"
   ]
  },
  {
   "cell_type": "markdown",
   "id": "c11fa4b5",
   "metadata": {},
   "source": [
    "## Create the Schema"
   ]
  },
  {
   "cell_type": "code",
   "execution_count": 4,
   "id": "e82f8491",
   "metadata": {},
   "outputs": [],
   "source": [
    "schema = Schema(\n",
    "    id=ID(stored=True, unique=True),\n",
    "    title=TEXT(stored=True),\n",
    "    overview=TEXT(stored=True),\n",
    "    rating=NUMERIC(stored=True, numtype=float),\n",
    "    year=NUMERIC(stored=True, numtype=int)\n",
    ")"
   ]
  },
  {
   "cell_type": "markdown",
   "id": "7aeaba39",
   "metadata": {},
   "source": [
    "## Load the IMDB data set"
   ]
  },
  {
   "cell_type": "code",
   "execution_count": 5,
   "id": "e4adb6f8",
   "metadata": {},
   "outputs": [
    {
     "name": "stdout",
     "output_type": "stream",
     "text": [
      "The Shawshank Redemption (1994, 142m, 9.3)         Drama                Two imprisoned men bond over a number of years, finding solace and eventual redemption through acts of common decency. [Tim Robbins Morgan Freeman Bob Gunton William Sadler]\n",
      "The Godfather (1972, 175m, 9.2)                    Crime Drama          An organized crime dynasty's aging patriarch transfers control of his clandestine empire to his reluctant son. [Marlon Brando Al Pacino James Caan Diane Keaton]\n",
      "The Dark Knight (2008, 152m, 9.0)                  Action Crime Drama   When the menace known as the Joker wreaks havoc and chaos on the people of Gotham, Batman must accept one of the greatest psychological and physical tests of his ability to fight injustice. [Christian Bale Heath Ledger Aaron Eckhart Michael Caine]\n",
      "The Godfather: Part II (1974, 202m, 9.0)           Crime Drama          The early life and career of Vito Corleone in 1920s New York City is portrayed, while his son, Michael, expands and tightens his grip on the family crime syndicate. [Al Pacino Robert De Niro Robert Duvall Diane Keaton]\n",
      "12 Angry Men (1957, 96m, 9.0)                      Crime Drama          A jury holdout attempts to prevent a miscarriage of justice by forcing his colleagues to reconsider the evidence. [Henry Fonda Lee J. Cobb Martin Balsam John Fiedler]\n"
     ]
    },
    {
     "data": {
      "text/plain": [
       "{'title': 'The Shawshank Redemption',\n",
       " 'year': 1994,\n",
       " 'runtime': 142,\n",
       " 'rating': 9.3,\n",
       " 'genre': 'Drama',\n",
       " 'actors': 'Tim Robbins Morgan Freeman Bob Gunton William Sadler',\n",
       " 'summary': 'Two imprisoned men bond over a number of years, finding solace and eventual redemption through acts of common decency.'}"
      ]
     },
     "execution_count": 5,
     "metadata": {},
     "output_type": "execute_result"
    }
   ],
   "source": [
    "# loading the imdb data set (1000 movies)\n",
    "collection = imdb.load()\n",
    "def doc_format_imdb(doc: dict) -> str:\n",
    "    trim = lambda s,n: len(s) > n and s[:n] + \"\\u2026\" or s\n",
    "    title_ex = '{title_short} ({year}, {runtime}m, {rating})'.format(title_short=trim(doc['title'], 30), **doc)\n",
    "    return '{title_ex:<50} {genre_short:<20} {summary} [{actors}]'.format(title_ex=title_ex, genre_short=trim(doc['genre'], 18), **doc)\n",
    "\n",
    "for item in collection[:5]:\n",
    "    print(doc_format_imdb(item))\n",
    "\n",
    "collection[0]"
   ]
  },
  {
   "cell_type": "markdown",
   "id": "ec4ba2f2",
   "metadata": {},
   "source": [
    "## Build a new index"
   ]
  },
  {
   "cell_type": "code",
   "execution_count": 6,
   "id": "21eb2a42",
   "metadata": {},
   "outputs": [],
   "source": [
    "# --- Create a new index\n",
    "if os.path.exists(\"movie_index\"):\n",
    "    # remove the folder\n",
    "    shutil.rmtree(\"movie_index\")\n",
    "    \n",
    "os.mkdir(\"movie_index\")\n",
    "ix = index.create_in(\"movie_index\", schema)\n",
    "writer = ix.writer()\n",
    "\n",
    "# --- insert movie data\n",
    "for id, doc in enumerate(collection):\n",
    "    writer.add_document(\n",
    "        id=str(id),\n",
    "        title=doc[\"title\"],\n",
    "        overview=doc[\"summary\"],\n",
    "        year=doc[\"year\"],\n",
    "        rating=doc[\"rating\"]\n",
    "    )\n",
    "writer.commit()\n"
   ]
  },
  {
   "cell_type": "markdown",
   "id": "93e148d8",
   "metadata": {},
   "source": [
    "## Search for a movie"
   ]
  },
  {
   "cell_type": "code",
   "execution_count": null,
   "id": "9d8d712d",
   "metadata": {},
   "outputs": [
    {
     "name": "stdout",
     "output_type": "stream",
     "text": [
      "Star Wars (1977) - Rating: 8.6\n",
      "Star Wars: Episode VI - Return of the Jedi (1983) - Rating: 8.3\n",
      "Star Wars: Episode V - The Empire Strikes Back (1980) - Rating: 8.7\n"
     ]
    }
   ],
   "source": [
    "# --- Search for \"Star Wars\" before year 2000 using BM25 across title & overview ---\n",
    "\n",
    "with ix.searcher(weighting=scoring.BM25F()) as searcher:\n",
    "    # Search across both title and overview\n",
    "    parser = MultifieldParser([\"title\", \"overview\"], schema=ix.schema)\n",
    "    query = parser.parse(\"Star Wars\")\n",
    "\n",
    "    # Filter results by year < 2000\n",
    "    combined_query = And([query, NumericRange(\"year\", None, 2000, startexcl=False, endexcl=True)])\n",
    "\n",
    "    # Run the search\n",
    "    results = searcher.search(combined_query, limit=10)\n",
    "\n",
    "    for r in results:\n",
    "        print(f\"{r['title']} ({r['year']}) - Rating: {r['rating']}\")"
   ]
  },
  {
   "cell_type": "markdown",
   "id": "62f1dead",
   "metadata": {},
   "source": [
    "---"
   ]
  }
 ],
 "metadata": {
  "kernelspec": {
   "display_name": ".venv",
   "language": "python",
   "name": "python3"
  },
  "language_info": {
   "codemirror_mode": {
    "name": "ipython",
    "version": 3
   },
   "file_extension": ".py",
   "mimetype": "text/x-python",
   "name": "python",
   "nbconvert_exporter": "python",
   "pygments_lexer": "ipython3",
   "version": "3.12.3"
  }
 },
 "nbformat": 4,
 "nbformat_minor": 5
}
