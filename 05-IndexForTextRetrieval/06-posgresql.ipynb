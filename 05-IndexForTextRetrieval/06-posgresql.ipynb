{
 "cells": [
  {
   "cell_type": "markdown",
   "id": "be2861f9",
   "metadata": {},
   "source": [
    "Run first the [setup notebook](./00-setup.ipynb)"
   ]
  },
  {
   "cell_type": "markdown",
   "id": "01f97a95",
   "metadata": {},
   "source": [
    "# Simple text retrieval with PostgreSQL Full Text Search"
   ]
  },
  {
   "cell_type": "code",
   "execution_count": 13,
   "id": "83aff9a9",
   "metadata": {},
   "outputs": [],
   "source": [
    "import psycopg2\n",
    "from datasets import imdb"
   ]
  },
  {
   "cell_type": "markdown",
   "id": "a66553a5",
   "metadata": {},
   "source": [
    "## Connect to database"
   ]
  },
  {
   "cell_type": "code",
   "execution_count": 14,
   "id": "df5e54bc",
   "metadata": {},
   "outputs": [],
   "source": [
    "# --- Local PostgreSQL configuration ---\n",
    "db_name = \"postgres\"          # replace with your database\n",
    "db_user = \"postgres\"          # replace with your local user\n",
    "db_password = \"postgres\"      # replace with your password\n",
    "db_host = \"localhost\"\n",
    "db_port = 5432\n",
    "\n",
    "# --- Connect to local PostgreSQL ---\n",
    "conn = psycopg2.connect(\n",
    "    dbname=db_name,\n",
    "    user=db_user,\n",
    "    password=db_password,\n",
    "    host=db_host,\n",
    "    port=db_port\n",
    ")\n",
    "cur = conn.cursor()"
   ]
  },
  {
   "cell_type": "markdown",
   "id": "c11fa4b5",
   "metadata": {},
   "source": [
    "## Create the Schema"
   ]
  },
  {
   "cell_type": "code",
   "execution_count": 15,
   "id": "a7678c45",
   "metadata": {},
   "outputs": [],
   "source": [
    "# --- first drop the table (if it exists) ---\n",
    "cur.execute(\"\"\"\n",
    "DROP TABLE IF EXISTS movies;\n",
    "\n",
    "CREATE TABLE movies (\n",
    "    id SERIAL PRIMARY KEY,\n",
    "    title TEXT NOT NULL,\n",
    "    overview TEXT NOT NULL,\n",
    "    rating REAL,\n",
    "    year INT,\n",
    "    tsv tsvector\n",
    ");\n",
    "\"\"\")\n",
    "conn.commit()"
   ]
  },
  {
   "cell_type": "markdown",
   "id": "7aeaba39",
   "metadata": {},
   "source": [
    "## Load the IMDB data set"
   ]
  },
  {
   "cell_type": "code",
   "execution_count": 16,
   "id": "e4adb6f8",
   "metadata": {},
   "outputs": [
    {
     "name": "stdout",
     "output_type": "stream",
     "text": [
      "The Shawshank Redemption (1994, 142m, 9.3)         Drama                Two imprisoned men bond over a number of years, finding solace and eventual redemption through acts of common decency. [Tim Robbins Morgan Freeman Bob Gunton William Sadler]\n",
      "The Godfather (1972, 175m, 9.2)                    Crime Drama          An organized crime dynasty's aging patriarch transfers control of his clandestine empire to his reluctant son. [Marlon Brando Al Pacino James Caan Diane Keaton]\n",
      "The Dark Knight (2008, 152m, 9.0)                  Action Crime Drama   When the menace known as the Joker wreaks havoc and chaos on the people of Gotham, Batman must accept one of the greatest psychological and physical tests of his ability to fight injustice. [Christian Bale Heath Ledger Aaron Eckhart Michael Caine]\n",
      "The Godfather: Part II (1974, 202m, 9.0)           Crime Drama          The early life and career of Vito Corleone in 1920s New York City is portrayed, while his son, Michael, expands and tightens his grip on the family crime syndicate. [Al Pacino Robert De Niro Robert Duvall Diane Keaton]\n",
      "12 Angry Men (1957, 96m, 9.0)                      Crime Drama          A jury holdout attempts to prevent a miscarriage of justice by forcing his colleagues to reconsider the evidence. [Henry Fonda Lee J. Cobb Martin Balsam John Fiedler]\n"
     ]
    },
    {
     "data": {
      "text/plain": [
       "{'title': 'The Shawshank Redemption',\n",
       " 'year': 1994,\n",
       " 'runtime': 142,\n",
       " 'rating': 9.3,\n",
       " 'genre': 'Drama',\n",
       " 'actors': 'Tim Robbins Morgan Freeman Bob Gunton William Sadler',\n",
       " 'summary': 'Two imprisoned men bond over a number of years, finding solace and eventual redemption through acts of common decency.'}"
      ]
     },
     "execution_count": 16,
     "metadata": {},
     "output_type": "execute_result"
    }
   ],
   "source": [
    "# loading the imdb data set (1000 movies)\n",
    "collection = imdb.load()\n",
    "def doc_format_imdb(doc: dict) -> str:\n",
    "    trim = lambda s,n: len(s) > n and s[:n] + \"\\u2026\" or s\n",
    "    title_ex = '{title_short} ({year}, {runtime}m, {rating})'.format(title_short=trim(doc['title'], 30), **doc)\n",
    "    return '{title_ex:<50} {genre_short:<20} {summary} [{actors}]'.format(title_ex=title_ex, genre_short=trim(doc['genre'], 18), **doc)\n",
    "\n",
    "for item in collection[:5]:\n",
    "    print(doc_format_imdb(item))\n",
    "\n",
    "collection[0]"
   ]
  },
  {
   "cell_type": "markdown",
   "id": "ec4ba2f2",
   "metadata": {},
   "source": [
    "## Load the data and add it to the movies table"
   ]
  },
  {
   "cell_type": "code",
   "execution_count": 17,
   "id": "21eb2a42",
   "metadata": {},
   "outputs": [],
   "source": [
    "# --- Assuming 'collection' is a list of dictionaries with keys: title, summary, year, rating\n",
    "for id, doc in enumerate(collection):\n",
    "    cur.execute(\"\"\"\n",
    "    INSERT INTO movies (title, overview, rating, year)\n",
    "    VALUES (%s, %s, %s, %s)\n",
    "    \"\"\", (doc[\"title\"], doc[\"summary\"], doc[\"rating\"], doc[\"year\"]))\n",
    "\n",
    "conn.commit()\n",
    "\n",
    "\n",
    "# --- Populate the tsvector column for full-text search ---\n",
    "cur.execute(\"\"\"\n",
    "UPDATE movies\n",
    "SET tsv = setweight(to_tsvector('english', title), 'A') ||\n",
    "          setweight(to_tsvector('english', overview), 'B');\n",
    "\"\"\")\n",
    "conn.commit()\n",
    "\n",
    "\n",
    "# --- Create GIN index for performance ---\n",
    "cur.execute(\"\"\"\n",
    "CREATE INDEX movies_tsv_idx ON movies USING GIN(tsv);\n",
    "\"\"\")\n",
    "conn.commit()"
   ]
  },
  {
   "cell_type": "markdown",
   "id": "a925d334",
   "metadata": {},
   "source": [
    "## Search for a movie"
   ]
  },
  {
   "cell_type": "code",
   "execution_count": 18,
   "id": "9d8d712d",
   "metadata": {},
   "outputs": [
    {
     "name": "stdout",
     "output_type": "stream",
     "text": [
      "Star Wars: Episode VI - Return of the Jedi (1983) - Rating: 0.99103653\n",
      "Star Wars: Episode V - The Empire Strikes Back (1980) - Rating: 0.9910322\n",
      "Star Wars (1977) - Rating: 0.9910322\n"
     ]
    }
   ],
   "source": [
    "# --- Search for \"Star Wars\" before year 2000 using BM25 across title & overview ---\n",
    "\n",
    "cur.execute(\"\"\"\n",
    "SELECT id, title, year, ts_rank(tsv, to_tsquery('english', 'star & wars')) AS rank\n",
    "FROM movies\n",
    "WHERE tsv @@ to_tsquery('english', 'star & wars')\n",
    "  AND year < 2000\n",
    "ORDER BY rank DESC\n",
    "LIMIT 10;\n",
    "\"\"\")\n",
    "\n",
    "results = cur.fetchall()\n",
    "for r in results:\n",
    "    print(f\"{r[1]} ({r[2]}) - Rating: {r[3]}\")"
   ]
  },
  {
   "cell_type": "markdown",
   "id": "ba68338f",
   "metadata": {},
   "source": [
    "## cleanup"
   ]
  },
  {
   "cell_type": "code",
   "execution_count": 19,
   "id": "69db37da",
   "metadata": {},
   "outputs": [],
   "source": [
    "# --- Close connection ---\n",
    "cur.close()\n",
    "conn.close()"
   ]
  },
  {
   "cell_type": "markdown",
   "id": "62f1dead",
   "metadata": {},
   "source": [
    "---"
   ]
  }
 ],
 "metadata": {
  "kernelspec": {
   "display_name": ".venv",
   "language": "python",
   "name": "python3"
  },
  "language_info": {
   "codemirror_mode": {
    "name": "ipython",
    "version": 3
   },
   "file_extension": ".py",
   "mimetype": "text/x-python",
   "name": "python",
   "nbconvert_exporter": "python",
   "pygments_lexer": "ipython3",
   "version": "3.12.3"
  }
 },
 "nbformat": 4,
 "nbformat_minor": 5
}
