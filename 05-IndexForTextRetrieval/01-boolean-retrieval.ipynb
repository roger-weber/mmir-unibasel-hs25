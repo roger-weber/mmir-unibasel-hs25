{
 "cells": [
  {
   "cell_type": "markdown",
   "metadata": {},
   "source": [
    "Run first the [setup notebook](./00-setup.ipynb)"
   ]
  },
  {
   "cell_type": "markdown",
   "metadata": {},
   "source": [
    "# Boolean Retrieval"
   ]
  },
  {
   "cell_type": "code",
   "execution_count": 1,
   "metadata": {},
   "outputs": [],
   "source": [
    "from helpers import print_table\n",
    "from boolean import BooleanRetriever\n",
    "from datasets import animals as collection\n",
    "from itertools import islice\n",
    "from ipywidgets import widgets"
   ]
  },
  {
   "cell_type": "markdown",
   "metadata": {},
   "source": [
    "## Animal data set"
   ]
  },
  {
   "cell_type": "code",
   "execution_count": 2,
   "metadata": {},
   "outputs": [
    {
     "data": {
      "text/markdown": [
       "|   id | text                                                                 |\n",
       "|-----:|:---------------------------------------------------------------------|\n",
       "|    1 | cat ostrich ostrich ostrich ostrich ostrich snake snake snake        |\n",
       "|    2 | rabit rabit ostrich ostrich ostrich ostrich bear bear bear bear bear |\n",
       "|    3 | dog dog dog rabit rabit rabit donkey donkey donkey donkey            |\n",
       "|    4 | dog dog dog donkey                                                   |\n",
       "|    5 | ostrich ostrich ostrich ant ant ant ant ant                          |\n",
       "|    6 | horse horse horse bear bear bear                                     |\n",
       "|    7 | bear tiger lion                                                      |\n",
       "|    8 | dog dog dog dog rabit rabit ostrich ostrich ostrich ostrich ostrich  |\n",
       "|    9 | rabit rabit rabit rabit                                              |\n",
       "|   10 | tiger tiger tiger                                                    |"
      ],
      "text/plain": [
       "<IPython.core.display.Markdown object>"
      ]
     },
     "metadata": {},
     "output_type": "display_data"
    },
    {
     "data": {
      "text/markdown": [
       "| term    |   df | posting                                                                                                               |\n",
       "|:--------|-----:|:----------------------------------------------------------------------------------------------------------------------|\n",
       "| dog     |   30 | {3, 4, 8, 12, 20, 24, 26, 28, 29, 30, 33, 35, 36, 37, 43, 48, 49, 50, 51, 56, 59, 60, 61, 63, 64, 82, 85, 87, 91, 94} |\n",
       "| cat     |   25 | {1, 25, 26, 27, 31, 32, 34, 43, 53, 57, 59, 63, 67, 68, 71, 73, 76, 78, 79, 82, 84, 86, 89, 92, 94}                   |\n",
       "| hors    |   22 | {6, 12, 20, 21, 22, 24, 25, 26, 27, 31, 42, 44, 48, 56, 57, 69, 73, 82, 90, 93, 97, 98}                               |\n",
       "| rabit   |   20 | {2, 3, 8, 9, 11, 12, 17, 25, 26, 27, 28, 33, 52, 55, 56, 63, 68, 82, 90, 100}                                         |\n",
       "| ostrich |   18 | {32, 1, 2, 64, 67, 5, 69, 96, 8, 98, 13, 14, 47, 92, 19, 55, 23, 60}                                                  |\n",
       "| bear    |   17 | {2, 68, 6, 7, 40, 70, 71, 77, 46, 16, 50, 19, 84, 22, 54, 56, 63}                                                     |\n",
       "| tiger   |   15 | {33, 97, 7, 72, 10, 91, 79, 49, 53, 55, 23, 85, 58, 88, 92}                                                           |\n",
       "| lion    |   14 | {64, 33, 36, 7, 72, 41, 77, 16, 20, 52, 87, 24, 25, 90}                                                               |\n",
       "| bird    |   14 | {96, 65, 37, 40, 88, 14, 48, 84, 86, 55, 24, 26, 27, 30}                                                              |\n",
       "| donkey  |   13 | {66, 3, 4, 67, 69, 42, 43, 75, 81, 82, 21, 90, 27}                                                                    |\n",
       "| ant     |   12 | {66, 99, 5, 44, 13, 14, 15, 49, 50, 20, 86, 88}                                                                       |\n",
       "| bee     |   12 | {35, 37, 69, 70, 72, 74, 45, 15, 16, 53, 91, 92}                                                                      |\n",
       "| wale    |   11 | {32, 98, 37, 41, 81, 21, 54, 87, 92, 61, 30}                                                                          |\n",
       "| fli     |   11 | {36, 68, 90, 48, 81, 50, 22, 57, 26, 95, 31}                                                                          |\n",
       "| snake   |   10 | {1, 33, 66, 99, 74, 11, 76, 45, 83, 57}                                                                               |\n",
       "| fish    |    5 | {38, 39, 80, 18, 62}                                                                                                  |"
      ],
      "text/plain": [
       "<IPython.core.display.Markdown object>"
      ]
     },
     "metadata": {},
     "output_type": "display_data"
    },
    {
     "name": "stdout",
     "output_type": "stream",
     "text": [
      "100 documents in collection\n",
      "16 distinct terms in collection\n",
      "249 postings\n"
     ]
    }
   ],
   "source": [
    "# load data set and index collection for boolean retrieval\n",
    "retriever = BooleanRetriever(collection.load())\n",
    "\n",
    "# show collection\n",
    "n, m = min(10, retriever.n_docs), min(20, retriever.n_terms)\n",
    "\n",
    "print_table([collection.format(doc) for doc in retriever.documents.values()], collection.headers(), max_rows = n)\n",
    "print_table(sorted([[term, df, retriever.index[term]] for term, df in retriever.vocabulary.items()], key=lambda x: -x[1]), ['term', 'df', 'posting'], max_rows=20)\n",
    "print(f'{retriever.n_docs} documents in collection')\n",
    "print(f'{retriever.n_terms} distinct terms in collection')\n",
    "print('{count} postings'.format(count=sum([len(postings) for postings in retriever.index.values()])))"
   ]
  },
  {
   "cell_type": "markdown",
   "metadata": {},
   "source": [
    "## Set operations to answer queries\n",
    "\n",
    "The next section demonstrates how to perform Boolean queries using the inverted index with set operations. \n",
    "\n",
    "| Boolean Operator | Set Operator for Postings |\n",
    "| :--- | :--- |\n",
    "| cat AND dog | `index['cat'] & index['dog']` |\n",
    "| cat OR dog | `index['cat'] \\| index['dog']` |\n",
    "| cat AND NOT dog | `index['cat'] - index['dog']` |\n",
    "\n",
    "Using these rules, we can evaluate a wide range of Boolean queries. However, there are some limitations:\n",
    "- It is inefficient to evaluate OR-queries when one sub-expression is of the form NOT(expr)\n",
    "- In AND-clauses, NOT(expr)-parts need to be re-ordered to the end to apply the `-` set operator. If all AND operators have NOT(expr)-parts, evaluation becomes inefficient\n",
    "- In both cases, the NOT(expr) part can be replaced with (ALL - expr), where ALL represents all documents\n",
    "\n",
    "Indeed, while these limitations may be viewed as constraints in our implementation, they have minimal impact on practical querying scenarios."
   ]
  },
  {
   "cell_type": "code",
   "execution_count": 3,
   "metadata": {},
   "outputs": [
    {
     "name": "stdout",
     "output_type": "stream",
     "text": [
      "cat: {1, 25, 26, 27, 31, 32, 34, 43, 53, 57, 59, 63, 67, 68, 71, 73, 76, 78, 79, 82, 84, 86, 89, 92, 94}\n",
      "dog: {3, 4, 8, 12, 20, 24, 26, 28, 29, 30, 33, 35, 36, 37, 43, 48, 49, 50, 51, 56, 59, 60, 61, 63, 64, 82, 85, 87, 91, 94}\n"
     ]
    }
   ],
   "source": [
    "# base sets\n",
    "all = retriever.all\n",
    "cat = retriever.index['cat']\n",
    "dog = retriever.index['dog']\n",
    "horse = retriever.index['horse']\n",
    "bird = retriever.index['bird']\n",
    "\n",
    "# cats and dogs\n",
    "print(f'cat: {cat}')\n",
    "print(f'dog: {dog}')"
   ]
  },
  {
   "cell_type": "code",
   "execution_count": 4,
   "metadata": {},
   "outputs": [
    {
     "name": "stdout",
     "output_type": "stream",
     "text": [
      "cat AND dog: {43, 82, 26, 59, 94, 63}\n",
      "cat OR horse: {1, 67, 68, 71, 73, 76, 78, 79, 82, 84, 86, 25, 26, 27, 89, 92, 94, 31, 32, 34, 43, 53, 57, 59, 63}\n",
      "cat AND NOT horse: {1, 25, 27, 31, 32, 34, 53, 57, 67, 68, 71, 73, 76, 78, 79, 84, 86, 89, 92}\n"
     ]
    }
   ],
   "source": [
    "# cat AND dog\n",
    "print(f'cat AND dog: {cat & dog}')\n",
    "\n",
    "# cat OR horse\n",
    "print(f'cat OR horse: {cat | horse}')\n",
    "\n",
    "# cat AND NOT(dog)\n",
    "print(f'cat AND NOT horse: {cat - dog}')"
   ]
  },
  {
   "cell_type": "code",
   "execution_count": 5,
   "metadata": {},
   "outputs": [
    {
     "data": {
      "application/vnd.jupyter.widget-view+json": {
       "model_id": "f0e6d2acc8684865b03d2e9da610396a",
       "version_major": 2,
       "version_minor": 0
      },
      "text/plain": [
       "interactive(children=(Dropdown(description='query', options=('cat AND dog', 'cat OR dog', 'horse OR bird', 'ca…"
      ]
     },
     "metadata": {},
     "output_type": "display_data"
    }
   ],
   "source": [
    "results = {\n",
    "    'cat': cat,\n",
    "    'dog': dog,\n",
    "    'horse': horse,\n",
    "    'bird': bird,\n",
    "    'NOT(dog)': all - dog,\n",
    "    'NOT(cat)': all - cat,\n",
    "    'NOT(cat) AND NOT(dog)': (all - dog) & (all - cat),\n",
    "    'cat OR NOT(dog)': cat | (all - dog), \n",
    "    'cat AND dog': cat & dog,\n",
    "    'cat OR dog': cat | dog,\n",
    "    'horse OR bird': horse | bird,\n",
    "    'cat AND NOT(dog)': cat - dog,\n",
    "    'horse AND cat AND NOT(bird)': horse & cat - bird,\n",
    "    'horse AND cat': horse & cat,\n",
    "    '(cat AND dog) OR (horse AND cat AND NOT(bird))': (cat & dog) | (horse & cat - bird),\n",
    "    'horse OR bird': horse | bird,\n",
    "    '(cat OR dog) AND (horse OR bird)': (cat | dog) & (horse | bird),\n",
    "    '(cat OR dog) AND NOT(horse OR bird)': (cat | dog) - (horse | bird)\n",
    "}\n",
    "\n",
    "queries = {\n",
    "    'cat AND dog': ['cat', 'dog', 'cat AND dog'],\n",
    "    'cat OR dog': ['cat', 'dog', 'cat OR dog'],\n",
    "    'horse OR bird': ['horse', 'bird', 'horse OR bird'],\n",
    "    'cat AND NOT(dog)': ['cat', 'dog', 'NOT(dog)', 'cat AND NOT(dog)'],\n",
    "    'cat OR NOT(dog)': ['cat', 'dog', 'NOT(dog)', 'cat OR NOT(dog)'],\n",
    "    'NOT(cat) AND NOT(dog)': ['cat', 'dog', 'NOT(cat)', 'NOT(dog)', 'NOT(cat) AND NOT(dog)'],\n",
    "    'horse AND cat AND NOT(bird)': ['horse', 'cat', 'bird', 'horse AND cat', 'horse AND cat AND NOT(bird)'],\n",
    "    '(cat AND dog) OR (horse AND cat AND NOT(bird))': ['cat', 'dog', 'horse', 'bird', 'cat AND dog', 'horse AND cat', 'horse AND cat AND NOT(bird)', '(cat AND dog) OR (horse AND cat AND NOT(bird))'],\n",
    "    '(cat OR dog) AND (horse OR bird)': ['cat', 'dog', 'cat OR dog', 'horse OR bird', '(cat OR dog) AND (horse OR bird)'],\n",
    "    '(cat OR dog) AND NOT(horse OR bird)': ['cat', 'dog', 'cat OR dog', 'horse OR bird', '(cat OR dog) AND NOT(horse OR bird)']    \n",
    "}\n",
    "\n",
    "def search_boolean_set(query: str):\n",
    "    print_table([[q, sorted(results[q])] for q in queries[query]], ['query', 'result'], format=\"text\")\n",
    "\n",
    "# interactive selection of scenario\n",
    "widgets.interact(search_boolean_set, \n",
    "    query=widgets.Dropdown(options=list(queries.keys())), \n",
    ");"
   ]
  },
  {
   "cell_type": "markdown",
   "metadata": {},
   "source": [
    "## Stream operations to answer queries\n",
    "\n",
    "The set-based evaluation from above does not scale well with the number of documents. In cases with millions of billions of postings for a term, we want to fetch data from an external storage device (which is also a good idea for persistence). But instead of reading all postings into main memory, we read them as streams sorted by the document IDs. Take the postings of cat and dog as an example:\n",
    "\n",
    "| term | postings|\n",
    "| :-- | :-- |\n",
    "| cat | `[1, 4, 8, 10]` |\n",
    "| dog | `[3, 4, 10, 12]` |"
   ]
  },
  {
   "cell_type": "markdown",
   "metadata": {},
   "source": [
    "### A representation for Boolean expressions\n",
    "Next, we build a representation for Boolean expressions that allows us to retrieve arbitrary queries. Each object in the representation relates to a sub-expression in the query that is evaluated in a stream-based manner. By composition, we can aggregate atomic queries over terms to arbitrarily complex Boolean queries. We introduce a class ``Term`` to denote atomic queries, 2 classes ``And`` and ``Or`` that represent the boolean operators with an arbitrary number of operands (which can be of type ``Term``, ``And``, and ``Or``). Finally, we also define a class ``Not`` that acts on a single sub-expression (again of any sub-type). However, we do not allow nesting of ``Not``, and only ``And`` expression can have a sub-expression with ``Not`` (and must have at leas one subexpression without ``Not``). Our implentation of ``Not`` is to mark sub-expression, but the class has no way to evaluate itself."
   ]
  },
  {
   "cell_type": "code",
   "execution_count": 6,
   "metadata": {},
   "outputs": [],
   "source": [
    "class BooleanExpression:\n",
    "    pass\n",
    "\n",
    "# ------------------------------\n",
    "\n",
    "class Term(BooleanExpression):\n",
    "    \"\"\"\n",
    "        Boolean expression class for atomic term queries. For simplicity, we\n",
    "        have all postings in memory but in real implementations, we would\n",
    "        fetch the data from a file or database\n",
    "    \"\"\"\n",
    "    def __init__(self, term: str, postings: list[int]):\n",
    "        self.term = term\n",
    "        self.postings = sorted(postings)\n",
    "\n",
    "    def __iter__(self):\n",
    "        return self.retrieve()\n",
    "    \n",
    "    # we used this flag to monitor which postings we fetch\n",
    "    LOG_ACCESS = False\n",
    "\n",
    "    def retrieve(self):\n",
    "        for posting in self.postings:\n",
    "            if Term.LOG_ACCESS: print(f'{self.term}: {posting}')\n",
    "            yield posting\n",
    "\n",
    "# ------------------------------\n",
    "\n",
    "class Not(BooleanExpression):\n",
    "    \"\"\"\n",
    "        Marker class for NOT operator on sub-expression. The retrieve method raises an exception.\n",
    "        When used during AND operation, the retrieve method of the sub-expression is called.\n",
    "    \"\"\"\n",
    "    def __init__(self, expression):\n",
    "        self.expression = expression\n",
    "    \n",
    "    def __iter__(self):\n",
    "        return self.retrieve()\n",
    "\n",
    "    def retrieve(self):\n",
    "        raise Exception(\"NOT operator not allowed at top-level of query\")"
   ]
  },
  {
   "cell_type": "markdown",
   "metadata": {},
   "source": [
    "### Evaluation of: cat AND dog\n",
    "To evaluate a query like \"cat AND dog\", we fetch the first entry for each term, that is `1` for cat and `3` for dog. If they are the same, we know that the corresponding document fulfills the predicate. If not, then we read the next entry for the term currently having the smallest doc ID. In our example, we read the next cat posting which is `4`. Again, we have no match, so we progress now postings of dog as it currently has the smallest value. The next posting for dog is `4` which matches with the one of cat; hence, we found our first document and return it (in Python we use generators with `yield` as we also do not want to return all results at once but in batches as the user browses through pages). If we need more results to return, we now fetch the next posting for both terms and repeat. Finally, we find `10` and return it as a second answer. If we need more results, we again fetch the next posting for both terms. But since cat does not have more postings, we can terminate the evaluation and stop iteration (dog still has `12` but we already know from the empty cat postings that it cannot match the query). The following visualizes the approach:\n",
    "\n",
    "|step|cat (next) |dog (next) | action|\n",
    "|:-- |:-- |:-- |:-- |\n",
    "| 1 | `1` | `3` | no match, progress cat |\n",
    "| 2 | `4` | `3` | no match, progress dog |\n",
    "| 3 | `4` | `4` | match, return `4` as result, wait to provide next result, and progress both cat and dog |\n",
    "| 4 | `8` | `10` | no match, progress cat |\n",
    "| 5 | `10` | `10` | match, return `10` as result, wait to provide next result, and progress both cat and dog |\n",
    "| 6 | - | `12` | stop iteration as all cat postings are visited; remaining postings in dog cannot fulfill predicate |"
   ]
  },
  {
   "cell_type": "markdown",
   "metadata": {},
   "source": [
    "### Eavluation of: cat AND NOT(dog)\n",
    "The \"cat AND NOT(dog)\" evaluation progress is the same as with the AND flow but results are different (match if cat != dog):\n",
    "\n",
    "|step|cat (next) |dog (next) | action|\n",
    "|:-- |:-- |:-- |:-- |\n",
    "| 1 | `1` | `3` | match, return `1` as result, wait to provide next result, and progress cat |\n",
    "| 2 | `4` | `3` | match but cat is not smallest, so we progress dog |\n",
    "| 3 | `4` | `4` | no match as both have the same value, so we progress both cat and dog |\n",
    "| 4 | `8` | `10` | no match, return `8` as result, wait to provide next result, and progress cat  |\n",
    "| 5 | `10` | `10` | no match as both have the same value, so we progress both cat and dog |\n",
    "| 6 | - | `12` | stop iteration as all cat postings are visited; remaining postings in dog cannot fulfill predicate |\n",
    "\n",
    "Finally, we can apply the same approach for arbitrary nesting of AND and OR operators since each evaluation scheme above yields document IDs again in a sorted manner. As with atomic term queries, we can only support NOT operators if they are part of an AND expression which at least has one sub-expression without a NOT at the top-level (a nested NOT deeper in the sub-expression is not a problem)."
   ]
  },
  {
   "cell_type": "code",
   "execution_count": 7,
   "metadata": {},
   "outputs": [],
   "source": [
    "class And(BooleanExpression):\n",
    "    \"\"\"\n",
    "        AND-expression with multiple sub-expressions. This operator can handle NOT(expr)-type \n",
    "        subexpressions and implements the correct '-' semantics of \"cat AND NOT dog\".\n",
    "    \"\"\"\n",
    "    def __init__(self, *expressions):\n",
    "        self.expressions = expressions\n",
    "\n",
    "        # select expressison that are not Term or that have x._not = False\n",
    "        self.pos = [e for e in expressions if not isinstance(e, Not)]\n",
    "        self.neg = [e for e in expressions if isinstance(e, Not)]\n",
    "\n",
    "    def __iter__(self):\n",
    "        return self.retrieve()\n",
    "\n",
    "    def retrieve(self):\n",
    "        # streams for sub expressions without NOT\n",
    "        # pos_iters contains the iterators for each sub expression\n",
    "        # pos_nexts contains the next posting for each sub expression\n",
    "        pos_iters = [iter(e) for e in self.pos]\n",
    "        pos_nexts = [next(e) for e in pos_iters]\n",
    "\n",
    "        # stream for sub expressions with NOT\n",
    "        # neg_iters contains the iterators for each sub expression\n",
    "        # neg_nexts contains the next posting for each sub expression\n",
    "        neg_iters = [iter(e.expression) for e in self.neg]\n",
    "        neg_nexts = [next(e, None) for e in neg_iters]\n",
    "\n",
    "        # iterate until one pos_nexts element is None\n",
    "        while None not in pos_nexts:\n",
    "            # get smallest value from pos_nexts and neg_nexts, ignoring None values in neg_nexts\n",
    "            smallest = min(pos_nexts + neg_nexts, key=lambda x: x if x is not None else float('inf'))\n",
    "\n",
    "            # check if all entries of pos_nexts equal smallest, and no entry in neg_nexts equals smallest\n",
    "            if all(e is smallest for e in pos_nexts) and smallest not in neg_nexts:\n",
    "                yield smallest\n",
    "            \n",
    "            # for each entry in pos_nexts and neg_nexts, fetch next item if entry equals smallest\n",
    "            for i, e in enumerate(pos_nexts):\n",
    "                if e is smallest:\n",
    "                    pos_nexts[i] = next(pos_iters[i], None)\n",
    "            for i, e in enumerate(neg_nexts):\n",
    "                if e is smallest:\n",
    "                    neg_nexts[i] = next(neg_iters[i], None)"
   ]
  },
  {
   "cell_type": "markdown",
   "metadata": {},
   "source": [
    "### Evaluation of: cat OR dog\n",
    "\n",
    "| term | postings|\n",
    "| :-- | :-- |\n",
    "| cat | `[1, 4, 8, 10]` |\n",
    "| dog | `[3, 4, 10, 12]` |\n",
    "\n",
    "The OR-operator is implemented similarly, but the iteration returns every time the smallest entry from a sub-expression. For the example above, the OR-operator would first return `1`, progress cat, return `3`, progress dog, return `4`, progress both cat and dog, return `8`, progress cat, return `10`, progress both cat and dog, and finally return `12`. The evaluation stops when all postings are consumed."
   ]
  },
  {
   "cell_type": "code",
   "execution_count": 8,
   "metadata": {},
   "outputs": [],
   "source": [
    "class Or(BooleanExpression):\n",
    "    \"\"\"\n",
    "        OR-expression with multiple sub-expressions. This operator cannot handle NOT(expr)-type subexpressions\n",
    "    \"\"\"\n",
    "    def __init__(self, *expressions):\n",
    "        # check that there are no NOT(expr)-type subexpressions\n",
    "        if any(isinstance(e, Not) for e in expressions):\n",
    "            raise Exception(\"OR-expression cannot handle NOT(expr)-type subexpressions\")\n",
    "        self.expressions = expressions\n",
    "    \n",
    "    def __iter__(self):\n",
    "        return self.retrieve()\n",
    "\n",
    "    def retrieve(self):\n",
    "        iters = [iter(e) for e in self.expressions]\n",
    "        nexts = [next(e, None) for e in iters]\n",
    "\n",
    "        while not all(e is None for e in nexts):\n",
    "            # get smallest value from nexts, ignoring None values\n",
    "            smallest = min(nexts, key=lambda x: x if x is not None else float('inf'))\n",
    "            yield smallest\n",
    "            \n",
    "            # for each entry in nexts, fetch next item if entry equals smallest\n",
    "            for i, e in enumerate(nexts):\n",
    "                if e is smallest:\n",
    "                    nexts[i] = next(iters[i], None)"
   ]
  },
  {
   "cell_type": "code",
   "execution_count": 9,
   "metadata": {},
   "outputs": [
    {
     "data": {
      "application/vnd.jupyter.widget-view+json": {
       "model_id": "bf9b9bc34db24b5e8ae51219f1deabeb",
       "version_major": 2,
       "version_minor": 0
      },
      "text/plain": [
       "interactive(children=(Dropdown(description='query', options=('cat AND dog', 'cat OR dog', 'horse OR bird', 'ca…"
      ]
     },
     "metadata": {},
     "output_type": "display_data"
    }
   ],
   "source": [
    "retriever = BooleanRetriever(collection.load())\n",
    "\n",
    "queries = {\n",
    "    'cat AND dog': ['cat', 'dog', 'cat AND dog'],\n",
    "    'cat OR dog': ['cat', 'dog', 'cat OR dog'],\n",
    "    'horse OR bird': ['horse', 'bird', 'horse OR bird'],\n",
    "    'cat AND NOT(dog)': ['cat', 'dog', 'cat AND NOT(dog)'],\n",
    "    'horse AND cat AND NOT(bird)': ['horse', 'cat', 'bird', 'horse AND cat', 'horse AND cat AND NOT(bird)'],\n",
    "    '(cat AND dog) OR (horse AND cat AND NOT(bird))': ['cat', 'dog', 'horse', 'bird', 'cat AND dog', 'horse AND cat', 'horse AND cat AND NOT(bird)', '(cat AND dog) OR (horse AND cat AND NOT(bird))'],\n",
    "    '(cat OR dog) AND (horse OR bird)': ['cat', 'dog', 'cat OR dog', 'horse OR bird', '(cat OR dog) AND (horse OR bird)'],\n",
    "    '(cat OR dog) AND NOT(horse OR bird)': ['cat', 'dog', 'cat OR dog', 'horse OR bird', '(cat OR dog) AND NOT(horse OR bird)']    \n",
    "}\n",
    "\n",
    "def search_boolean_stream(query: str):\n",
    "    print_table([[q, list(retriever.search(q))] for q in queries[query]], ['query', 'result'], format=\"text\")\n",
    "\n",
    "# interactive selection of scenario\n",
    "widgets.interact(search_boolean_stream, \n",
    "    query=widgets.Dropdown(options=list(queries.keys())), \n",
    ");"
   ]
  },
  {
   "cell_type": "code",
   "execution_count": 10,
   "metadata": {},
   "outputs": [
    {
     "name": "stdout",
     "output_type": "stream",
     "text": [
      "retrieving first 2 documents for cat AND dog\n",
      "cat: 8\n",
      "dog: 1\n",
      "dog: 6\n",
      "dog: 15\n",
      "cat: 16\n",
      "dog: 17\n",
      "cat: 17\n",
      "cat: 20\n",
      "dog: 18\n",
      "dog: 23\n",
      "cat: 25\n",
      "dog: 26\n",
      "cat: 28\n",
      "dog: 28\n",
      "[17, 28]\n",
      "\n",
      "retrieving next 2 documents\n",
      "cat: 31\n",
      "dog: 35\n",
      "cat: 33\n",
      "cat: 35\n",
      "cat: 36\n",
      "dog: 41\n",
      "cat: 38\n",
      "cat: 40\n",
      "cat: 46\n",
      "dog: 42\n",
      "dog: 43\n",
      "dog: 44\n",
      "dog: 46\n",
      "[35, 46]\n"
     ]
    }
   ],
   "source": [
    "query = \"cat AND dog\"\n",
    "# query = \"(cat OR dog) AND NOT(horse OR bird)\"\n",
    "\n",
    "result = retriever.search(query, logging = True)\n",
    "print(f\"retrieving first 2 documents for {query}\")\n",
    "print(list(islice(result, 2)))\n",
    "\n",
    "print(\"\\nretrieving next 2 documents\")\n",
    "print(list(islice(result, 2)))"
   ]
  },
  {
   "cell_type": "markdown",
   "metadata": {},
   "source": [
    "---"
   ]
  }
 ],
 "metadata": {
  "kernelspec": {
   "display_name": ".venv",
   "language": "python",
   "name": "python3"
  },
  "language_info": {
   "codemirror_mode": {
    "name": "ipython",
    "version": 3
   },
   "file_extension": ".py",
   "mimetype": "text/x-python",
   "name": "python",
   "nbconvert_exporter": "python",
   "pygments_lexer": "ipython3",
   "version": "3.12.3"
  }
 },
 "nbformat": 4,
 "nbformat_minor": 2
}
