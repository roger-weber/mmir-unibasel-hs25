{
 "cells": [
  {
   "cell_type": "markdown",
   "metadata": {},
   "source": [
    "Run first the [setup notebook](./00-setup.ipynb)"
   ]
  },
  {
   "cell_type": "markdown",
   "metadata": {},
   "source": [
    "# Embeddings"
   ]
  },
  {
   "cell_type": "code",
   "execution_count": 33,
   "metadata": {},
   "outputs": [],
   "source": [
    "from gensim.models import Word2Vec, FastText\n",
    "import gensim.downloader\n",
    "from nltk.corpus import movie_reviews\n",
    "from pprint import pprint\n",
    "import numpy as np"
   ]
  },
  {
   "cell_type": "code",
   "execution_count": 28,
   "metadata": {},
   "outputs": [],
   "source": [
    "def explore_word(word_vectors, word, analogy_positive=None, analogy_negative=None, odd_one_out=None):\n",
    "    \"\"\"\n",
    "    Nicely prints information about a word from a word embedding model.\n",
    "    \n",
    "    Parameters:\n",
    "    - word_vectors: gensim KeyedVectors object\n",
    "    - word: str, the word to explore\n",
    "    - analogy_positive: list of words for analogy (positive)\n",
    "    - analogy_negative: list of words for analogy (negative)\n",
    "    - odd_one_out: list of words to find the odd one out\n",
    "    \"\"\"\n",
    "    def format_vector(vec):\n",
    "        return np.round(vec, 3)\n",
    "    \n",
    "    print(f\"Vector for '{word}':\")\n",
    "    print(format_vector(word_vectors[word]))\n",
    "    print(\"\\nMost similar words to '{0}':\".format(word))\n",
    "    pprint(word_vectors.most_similar(word)[:5])\n",
    "    print(\"\\n\")\n",
    "    \n",
    "    if analogy_positive and analogy_negative:\n",
    "        print(f\"Analogy: {analogy_positive} - {analogy_negative}\")\n",
    "        result = word_vectors.most_similar(positive=analogy_positive, negative=analogy_negative)[:5]\n",
    "        pprint(result)\n",
    "        print(\"\\n\")\n",
    "    \n",
    "    if odd_one_out:\n",
    "        print(f\"Odd one out in {odd_one_out}:\")\n",
    "        print(word_vectors.doesnt_match(odd_one_out))\n",
    "        print(\"\\n\")"
   ]
  },
  {
   "cell_type": "markdown",
   "metadata": {},
   "source": [
    "## Loading movie reviews and create sentences"
   ]
  },
  {
   "cell_type": "code",
   "execution_count": 29,
   "metadata": {},
   "outputs": [
    {
     "name": "stdout",
     "output_type": "stream",
     "text": [
      "#sentences: 71532\n",
      "    tokens: ['plot', ':', 'two', 'teen', 'couples', 'go', 'to', 'a', 'church', 'party', ',', 'drink', 'and', 'then', 'drive', '.']\n",
      "    tokens: ['they', 'get', 'into', 'an', 'accident', '.']\n",
      "    tokens: ['one', 'of', 'the', 'guys', 'dies', ',', 'but', 'his', 'girlfriend', 'continues', 'to', 'see', 'him', 'in', 'her', 'life', ',', 'and', 'has', 'nightmares', '.']\n",
      "    tokens: ['what', \"'\", 's', 'the', 'deal', '?']\n",
      "    tokens: ['watch', 'the', 'movie', 'and', '\"', 'sorta', '\"', 'find', 'out', '.']\n"
     ]
    }
   ],
   "source": [
    "# get sentences from collection\n",
    "sentences = movie_reviews.sents()\n",
    "print(f'#sentences: {len(sentences)}')\n",
    "for i in range(5):\n",
    "    print(f\"    tokens: {sentences[i]}\")"
   ]
  },
  {
   "cell_type": "markdown",
   "metadata": {},
   "source": [
    "## Train a Word2Vec model"
   ]
  },
  {
   "cell_type": "code",
   "execution_count": 30,
   "metadata": {},
   "outputs": [
    {
     "name": "stdout",
     "output_type": "stream",
     "text": [
      "Vector for 'cat':\n",
      "[ 0.033  0.147  0.844 -0.409 -0.28  -0.301  0.328  0.831 -0.681 -0.517\n",
      " -0.346 -0.121  0.43  -0.008 -0.134  0.153  0.477  0.341 -0.747  0.043\n",
      " -0.225  0.955  0.048  0.373  0.556]\n",
      "\n",
      "Most similar words to 'cat':\n",
      "[('jeep', 0.9223941564559937),\n",
      " ('horse', 0.9074856638908386),\n",
      " ('belt', 0.9059987664222717),\n",
      " ('blonde', 0.9044825434684753),\n",
      " ('heroine', 0.9026617407798767)]\n",
      "\n",
      "\n",
      "Analogy: ['paris', 'germany'] - ['france']\n",
      "[('hooker', 0.9558333158493042),\n",
      " ('lab', 0.9556167721748352),\n",
      " ('upstairs', 0.953702449798584),\n",
      " ('plumbing', 0.9506282210350037),\n",
      " ('striptease', 0.9499393105506897)]\n",
      "\n",
      "\n",
      "Odd one out in ['bird', 'dog', 'cat', 'town']:\n",
      "town\n",
      "\n",
      "\n"
     ]
    }
   ],
   "source": [
    "\n",
    "# train model with window 5, 25 dimensions\n",
    "word_vectors = Word2Vec(sentences, vector_size=25, window=5).wv\n",
    "\n",
    "explore_word(\n",
    "    word_vectors, \n",
    "    word='cat', \n",
    "    analogy_positive=['paris','germany'], \n",
    "    analogy_negative=['france'], \n",
    "    odd_one_out=[\"bird\", \"dog\", \"cat\", \"town\"]\n",
    ")"
   ]
  },
  {
   "cell_type": "markdown",
   "metadata": {},
   "source": [
    "## Train a FastText model"
   ]
  },
  {
   "cell_type": "code",
   "execution_count": 36,
   "metadata": {},
   "outputs": [
    {
     "name": "stdout",
     "output_type": "stream",
     "text": [
      "Vector for 'cat':\n",
      "[ 9.500e-01  2.466e+00  6.640e-01  3.506e+00 -6.450e-01  2.144e+00\n",
      "  1.806e+00 -1.785e+00  2.470e+00  1.965e+00 -2.000e-03  4.119e+00\n",
      " -1.080e+00 -9.080e-01 -5.270e-01 -3.474e+00 -2.655e+00 -3.113e+00\n",
      " -1.031e+00  2.699e+00  1.540e-01  1.101e+00 -4.484e+00  2.438e+00\n",
      "  3.860e-01]\n",
      "\n",
      "Most similar words to 'cat':\n",
      "[('caveat', 0.9445561766624451),\n",
      " ('carat', 0.9350780248641968),\n",
      " ('catsuit', 0.9158630967140198),\n",
      " ('neck', 0.9145280718803406),\n",
      " ('peat', 0.9129927158355713)]\n",
      "\n",
      "\n",
      "Analogy: ['paris', 'germany'] - ['france']\n",
      "[('thorny', 0.8497904539108276),\n",
      " ('brittany', 0.8449139595031738),\n",
      " ('suplee', 0.8401258587837219),\n",
      " ('teeny', 0.8389491438865662),\n",
      " ('thora', 0.8376181721687317)]\n",
      "\n",
      "\n",
      "Odd one out in ['bird', 'dog', 'cat', 'town']:\n",
      "town\n",
      "\n",
      "\n"
     ]
    }
   ],
   "source": [
    "model = FastText(vector_size=25, window=5, min_count=1)  # instantiate\n",
    "model.build_vocab(corpus_iterable=sentences)\n",
    "model.train(corpus_iterable=sentences, total_examples=len(sentences), epochs=10)\n",
    "word_vectors = model.wv\n",
    "\n",
    "explore_word(\n",
    "    word_vectors, \n",
    "    word='cat', \n",
    "    analogy_positive=['paris','germany'], \n",
    "    analogy_negative=['france'], \n",
    "    odd_one_out=[\"bird\", \"dog\", \"cat\", \"town\"]\n",
    ")"
   ]
  },
  {
   "cell_type": "markdown",
   "metadata": {},
   "source": [
    "## Let's use a pretrained model over wikipedia with much more context"
   ]
  },
  {
   "cell_type": "code",
   "execution_count": 39,
   "metadata": {},
   "outputs": [
    {
     "name": "stdout",
     "output_type": "stream",
     "text": [
      "['fasttext-wiki-news-subwords-300',\n",
      " 'conceptnet-numberbatch-17-06-300',\n",
      " 'word2vec-ruscorpora-300',\n",
      " 'word2vec-google-news-300',\n",
      " 'glove-wiki-gigaword-50',\n",
      " 'glove-wiki-gigaword-100',\n",
      " 'glove-wiki-gigaword-200',\n",
      " 'glove-wiki-gigaword-300',\n",
      " 'glove-twitter-25',\n",
      " 'glove-twitter-50',\n",
      " 'glove-twitter-100',\n",
      " 'glove-twitter-200',\n",
      " '__testing_word2vec-matrix-synopsis']\n"
     ]
    }
   ],
   "source": [
    "# Show all available models in gensim-data\n",
    "pprint(list(gensim.downloader.info()['models'].keys()))\n",
    "\n",
    "# load a pre-trained glove model\n",
    "word_vectors = gensim.downloader.load('glove-wiki-gigaword-100')"
   ]
  },
  {
   "cell_type": "code",
   "execution_count": 40,
   "metadata": {},
   "outputs": [
    {
     "name": "stdout",
     "output_type": "stream",
     "text": [
      "     woman: girl, man, mother, boy, she, child, wife, her, herself, daughter\n",
      "            0.59368, 0.44825, 0.5932, 0.074134, 0.11141, 1.2793, 0.16656, ...\n",
      "\n",
      "     movie: film, movies, films, hollywood, comedy, drama, sequel, starring, remake, shows\n",
      "            0.38251, 0.14821, 0.60601, -0.51533, 0.43992, 0.061053, -0.62716, ...\n",
      "\n",
      "      cats: dogs, rabbits, animals, pets, cat, rats\n",
      "            0.26975, 0.33231, 0.94334, -0.94747, -0.68657, 0.9018, 0.18571, ...\n",
      "\n",
      "      nice: good, happy, perfect, pretty, wonderful\n",
      "            -0.18554, 0.047152, 0.34867, -0.23114, -0.26083, 0.63108, 0.55687, ...\n",
      "\n",
      "  vacation: vacations, honeymoon, trips, trip, holiday\n",
      "            -0.37181, -0.29097, 0.34538, 0.063625, -0.37472, -0.072595, -0.06624, ...\n",
      "\n",
      "\n",
      "           actor + woman - man = actress, comedian, actresses, screenwriter, starred, starring, actors, dancer, singer, filmmaker\n",
      "      paris + germany - france = berlin, frankfurt, vienna, munich, hamburg, bonn, prague, cologne, zurich, leipzig\n",
      "\n",
      "    cereal not in ['breakfast', 'dinner', 'lunch']\n",
      "      town not in ['bird', 'dog', 'cat']\n",
      " singapore not in ['paris', 'berlin', 'frankfurt']\n",
      "     child not in ['man', 'woman', 'boy', 'girl']\n",
      "      anna not in ['john', 'peter', 'fred']\n"
     ]
    }
   ],
   "source": [
    "def print_similar(term):\n",
    "    print(f\"{term:>10}: {', '.join([e[0] for e in word_vectors.most_similar(term) if e[1] > 0.7])}\")\n",
    "    print(f\"{'':>10}  {', '.join([str(e) for e in word_vectors.get_vector(term)][:7])}, ...\")\n",
    "    print()\n",
    "\n",
    "def print_analogy(positive, negative):\n",
    "    left_side = \" + \".join(positive) + \" - \" + \" - \".join(negative)\n",
    "    right_side = ', '.join([e[0] for e in word_vectors.most_similar(positive=positive, negative=negative) if e[1] > 0.1])\n",
    "    print(f\"{left_side:>30} = {right_side}\")\n",
    "\n",
    "def print_doesnt_match(list_of_terms):\n",
    "    if not list_of_terms is list:\n",
    "        list_of_terms = list_of_terms.split()\n",
    "    word = word_vectors.doesnt_match(list_of_terms)\n",
    "    list_of_terms.remove(word)\n",
    "    print(\"{:>10} not in {}\".format(word, str(list_of_terms)))\n",
    "\n",
    "for t in ['woman','movie','cats','nice','vacation']:\n",
    "    print_similar(t)\n",
    "print()\n",
    "\n",
    "print_analogy(['actor','woman'], ['man'])\n",
    "print_analogy(['paris','germany'], ['france'])\n",
    "print()\n",
    "\n",
    "print_doesnt_match(\"breakfast cereal dinner lunch\")\n",
    "print_doesnt_match(\"bird dog cat town\")\n",
    "print_doesnt_match(\"paris berlin frankfurt singapore\")\n",
    "print_doesnt_match(\"man woman child boy girl\")\n",
    "print_doesnt_match(\"john peter fred anna\")\n"
   ]
  },
  {
   "cell_type": "markdown",
   "metadata": {},
   "source": [
    "## Let's visualize the embeddings of selected words in a 2D figure"
   ]
  },
  {
   "cell_type": "code",
   "execution_count": 41,
   "metadata": {},
   "outputs": [
    {
     "data": {
      "image/png": "[encoded data removed]",
      "text/plain": [
       "<Figure size 1400x1000 with 1 Axes>"
      ]
     },
     "metadata": {},
     "output_type": "display_data"
    }
   ],
   "source": [
    "from sklearn.decomposition import PCA\n",
    "import matplotlib.pyplot as plt\n",
    "import gensim.downloader\n",
    "\n",
    "# get vectors for terms\n",
    "words = \"animal bird dog cat horse fish bee monkey turtle car town train city paris berlin frankfurt singapore man woman child boy girl breakfast cereal dinner lunch\".split()\n",
    "vectors = word_vectors[words]\n",
    "\n",
    "# apply a PCA to map to 2 dimensions\n",
    "pca = PCA(n_components=2)\n",
    "result = pca.fit_transform(vectors)\n",
    "\n",
    "# create a scatter plot of the projection\n",
    "plt.figure(figsize=(14,10))\n",
    "plt.scatter(result[:, 0], result[:, 1])\n",
    "for i, word in enumerate(words):\n",
    "    plt.annotate(word, xy=(result[i, 0]+0.05, result[i, 1]-0.05), fontsize=14)\n",
    "plt.show()"
   ]
  },
  {
   "cell_type": "markdown",
   "metadata": {},
   "source": [
    "---"
   ]
  }
 ],
 "metadata": {
  "kernelspec": {
   "display_name": ".venv",
   "language": "python",
   "name": "python3"
  },
  "language_info": {
   "codemirror_mode": {
    "name": "ipython",
    "version": 3
   },
   "file_extension": ".py",
   "mimetype": "text/x-python",
   "name": "python",
   "nbconvert_exporter": "python",
   "pygments_lexer": "ipython3",
   "version": "3.13.9"
  },
  "orig_nbformat": 4
 },
 "nbformat": 4,
 "nbformat_minor": 2
}
